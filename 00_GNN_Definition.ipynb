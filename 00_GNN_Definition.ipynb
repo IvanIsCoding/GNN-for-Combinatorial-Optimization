{
  "nbformat": 4,
  "nbformat_minor": 0,
  "metadata": {
    "colab": {
      "provenance": [],
      "authorship_tag": "ABX9TyO7plih3UJhBYprPVr6BuBg",
      "include_colab_link": true
    },
    "kernelspec": {
      "name": "python3",
      "display_name": "Python 3"
    },
    "language_info": {
      "name": "python"
    },
    "accelerator": "GPU",
    "gpuClass": "standard",
    "widgets": {
      "application/vnd.jupyter.widget-state+json": {
        "927d3a1121b54eb3b02484cb30a4a7aa": {
          "model_module": "@jupyter-widgets/controls",
          "model_name": "HBoxModel",
          "model_module_version": "1.5.0",
          "state": {
            "_dom_classes": [],
            "_model_module": "@jupyter-widgets/controls",
            "_model_module_version": "1.5.0",
            "_model_name": "HBoxModel",
            "_view_count": null,
            "_view_module": "@jupyter-widgets/controls",
            "_view_module_version": "1.5.0",
            "_view_name": "HBoxView",
            "box_style": "",
            "children": [
              "IPY_MODEL_b9e25d335a0c48dea3bd90c534b603c5",
              "IPY_MODEL_a5eb37d2426449599d575e4cf716008d",
              "IPY_MODEL_b5e3e3c210394560b75c24afc5d048be"
            ],
            "layout": "IPY_MODEL_d13d366e65744fac8634ae0f7d8c90e6"
          }
        },
        "b9e25d335a0c48dea3bd90c534b603c5": {
          "model_module": "@jupyter-widgets/controls",
          "model_name": "HTMLModel",
          "model_module_version": "1.5.0",
          "state": {
            "_dom_classes": [],
            "_model_module": "@jupyter-widgets/controls",
            "_model_module_version": "1.5.0",
            "_model_name": "HTMLModel",
            "_view_count": null,
            "_view_module": "@jupyter-widgets/controls",
            "_view_module_version": "1.5.0",
            "_view_name": "HTMLView",
            "description": "",
            "description_tooltip": null,
            "layout": "IPY_MODEL_1c2a892b5ec64673a29ac1d382a15831",
            "placeholder": "​",
            "style": "IPY_MODEL_cdbc84d1a02749d6a1d5b9955c3cf0fb",
            "value": "100%"
          }
        },
        "a5eb37d2426449599d575e4cf716008d": {
          "model_module": "@jupyter-widgets/controls",
          "model_name": "FloatProgressModel",
          "model_module_version": "1.5.0",
          "state": {
            "_dom_classes": [],
            "_model_module": "@jupyter-widgets/controls",
            "_model_module_version": "1.5.0",
            "_model_name": "FloatProgressModel",
            "_view_count": null,
            "_view_module": "@jupyter-widgets/controls",
            "_view_module_version": "1.5.0",
            "_view_name": "ProgressView",
            "bar_style": "success",
            "description": "",
            "description_tooltip": null,
            "layout": "IPY_MODEL_3006323c8c59411fa3f119ee37c6523c",
            "max": 500,
            "min": 0,
            "orientation": "horizontal",
            "style": "IPY_MODEL_a87ca44ba4714f6fa7eb25c39c0b2016",
            "value": 500
          }
        },
        "b5e3e3c210394560b75c24afc5d048be": {
          "model_module": "@jupyter-widgets/controls",
          "model_name": "HTMLModel",
          "model_module_version": "1.5.0",
          "state": {
            "_dom_classes": [],
            "_model_module": "@jupyter-widgets/controls",
            "_model_module_version": "1.5.0",
            "_model_name": "HTMLModel",
            "_view_count": null,
            "_view_module": "@jupyter-widgets/controls",
            "_view_module_version": "1.5.0",
            "_view_name": "HTMLView",
            "description": "",
            "description_tooltip": null,
            "layout": "IPY_MODEL_2bbfd609426b4b6d9ce04409bb08764f",
            "placeholder": "​",
            "style": "IPY_MODEL_fcbd8c05f0414e74bad1022c90901bf9",
            "value": " 500/500 [00:00&lt;00:00, 567.79it/s]"
          }
        },
        "d13d366e65744fac8634ae0f7d8c90e6": {
          "model_module": "@jupyter-widgets/base",
          "model_name": "LayoutModel",
          "model_module_version": "1.2.0",
          "state": {
            "_model_module": "@jupyter-widgets/base",
            "_model_module_version": "1.2.0",
            "_model_name": "LayoutModel",
            "_view_count": null,
            "_view_module": "@jupyter-widgets/base",
            "_view_module_version": "1.2.0",
            "_view_name": "LayoutView",
            "align_content": null,
            "align_items": null,
            "align_self": null,
            "border": null,
            "bottom": null,
            "display": null,
            "flex": null,
            "flex_flow": null,
            "grid_area": null,
            "grid_auto_columns": null,
            "grid_auto_flow": null,
            "grid_auto_rows": null,
            "grid_column": null,
            "grid_gap": null,
            "grid_row": null,
            "grid_template_areas": null,
            "grid_template_columns": null,
            "grid_template_rows": null,
            "height": null,
            "justify_content": null,
            "justify_items": null,
            "left": null,
            "margin": null,
            "max_height": null,
            "max_width": null,
            "min_height": null,
            "min_width": null,
            "object_fit": null,
            "object_position": null,
            "order": null,
            "overflow": null,
            "overflow_x": null,
            "overflow_y": null,
            "padding": null,
            "right": null,
            "top": null,
            "visibility": null,
            "width": null
          }
        },
        "1c2a892b5ec64673a29ac1d382a15831": {
          "model_module": "@jupyter-widgets/base",
          "model_name": "LayoutModel",
          "model_module_version": "1.2.0",
          "state": {
            "_model_module": "@jupyter-widgets/base",
            "_model_module_version": "1.2.0",
            "_model_name": "LayoutModel",
            "_view_count": null,
            "_view_module": "@jupyter-widgets/base",
            "_view_module_version": "1.2.0",
            "_view_name": "LayoutView",
            "align_content": null,
            "align_items": null,
            "align_self": null,
            "border": null,
            "bottom": null,
            "display": null,
            "flex": null,
            "flex_flow": null,
            "grid_area": null,
            "grid_auto_columns": null,
            "grid_auto_flow": null,
            "grid_auto_rows": null,
            "grid_column": null,
            "grid_gap": null,
            "grid_row": null,
            "grid_template_areas": null,
            "grid_template_columns": null,
            "grid_template_rows": null,
            "height": null,
            "justify_content": null,
            "justify_items": null,
            "left": null,
            "margin": null,
            "max_height": null,
            "max_width": null,
            "min_height": null,
            "min_width": null,
            "object_fit": null,
            "object_position": null,
            "order": null,
            "overflow": null,
            "overflow_x": null,
            "overflow_y": null,
            "padding": null,
            "right": null,
            "top": null,
            "visibility": null,
            "width": null
          }
        },
        "cdbc84d1a02749d6a1d5b9955c3cf0fb": {
          "model_module": "@jupyter-widgets/controls",
          "model_name": "DescriptionStyleModel",
          "model_module_version": "1.5.0",
          "state": {
            "_model_module": "@jupyter-widgets/controls",
            "_model_module_version": "1.5.0",
            "_model_name": "DescriptionStyleModel",
            "_view_count": null,
            "_view_module": "@jupyter-widgets/base",
            "_view_module_version": "1.2.0",
            "_view_name": "StyleView",
            "description_width": ""
          }
        },
        "3006323c8c59411fa3f119ee37c6523c": {
          "model_module": "@jupyter-widgets/base",
          "model_name": "LayoutModel",
          "model_module_version": "1.2.0",
          "state": {
            "_model_module": "@jupyter-widgets/base",
            "_model_module_version": "1.2.0",
            "_model_name": "LayoutModel",
            "_view_count": null,
            "_view_module": "@jupyter-widgets/base",
            "_view_module_version": "1.2.0",
            "_view_name": "LayoutView",
            "align_content": null,
            "align_items": null,
            "align_self": null,
            "border": null,
            "bottom": null,
            "display": null,
            "flex": null,
            "flex_flow": null,
            "grid_area": null,
            "grid_auto_columns": null,
            "grid_auto_flow": null,
            "grid_auto_rows": null,
            "grid_column": null,
            "grid_gap": null,
            "grid_row": null,
            "grid_template_areas": null,
            "grid_template_columns": null,
            "grid_template_rows": null,
            "height": null,
            "justify_content": null,
            "justify_items": null,
            "left": null,
            "margin": null,
            "max_height": null,
            "max_width": null,
            "min_height": null,
            "min_width": null,
            "object_fit": null,
            "object_position": null,
            "order": null,
            "overflow": null,
            "overflow_x": null,
            "overflow_y": null,
            "padding": null,
            "right": null,
            "top": null,
            "visibility": null,
            "width": null
          }
        },
        "a87ca44ba4714f6fa7eb25c39c0b2016": {
          "model_module": "@jupyter-widgets/controls",
          "model_name": "ProgressStyleModel",
          "model_module_version": "1.5.0",
          "state": {
            "_model_module": "@jupyter-widgets/controls",
            "_model_module_version": "1.5.0",
            "_model_name": "ProgressStyleModel",
            "_view_count": null,
            "_view_module": "@jupyter-widgets/base",
            "_view_module_version": "1.2.0",
            "_view_name": "StyleView",
            "bar_color": null,
            "description_width": ""
          }
        },
        "2bbfd609426b4b6d9ce04409bb08764f": {
          "model_module": "@jupyter-widgets/base",
          "model_name": "LayoutModel",
          "model_module_version": "1.2.0",
          "state": {
            "_model_module": "@jupyter-widgets/base",
            "_model_module_version": "1.2.0",
            "_model_name": "LayoutModel",
            "_view_count": null,
            "_view_module": "@jupyter-widgets/base",
            "_view_module_version": "1.2.0",
            "_view_name": "LayoutView",
            "align_content": null,
            "align_items": null,
            "align_self": null,
            "border": null,
            "bottom": null,
            "display": null,
            "flex": null,
            "flex_flow": null,
            "grid_area": null,
            "grid_auto_columns": null,
            "grid_auto_flow": null,
            "grid_auto_rows": null,
            "grid_column": null,
            "grid_gap": null,
            "grid_row": null,
            "grid_template_areas": null,
            "grid_template_columns": null,
            "grid_template_rows": null,
            "height": null,
            "justify_content": null,
            "justify_items": null,
            "left": null,
            "margin": null,
            "max_height": null,
            "max_width": null,
            "min_height": null,
            "min_width": null,
            "object_fit": null,
            "object_position": null,
            "order": null,
            "overflow": null,
            "overflow_x": null,
            "overflow_y": null,
            "padding": null,
            "right": null,
            "top": null,
            "visibility": null,
            "width": null
          }
        },
        "fcbd8c05f0414e74bad1022c90901bf9": {
          "model_module": "@jupyter-widgets/controls",
          "model_name": "DescriptionStyleModel",
          "model_module_version": "1.5.0",
          "state": {
            "_model_module": "@jupyter-widgets/controls",
            "_model_module_version": "1.5.0",
            "_model_name": "DescriptionStyleModel",
            "_view_count": null,
            "_view_module": "@jupyter-widgets/base",
            "_view_module_version": "1.2.0",
            "_view_name": "StyleView",
            "description_width": ""
          }
        },
        "191cb434b34749a4910e5bbce478bd9a": {
          "model_module": "@jupyter-widgets/controls",
          "model_name": "HBoxModel",
          "model_module_version": "1.5.0",
          "state": {
            "_dom_classes": [],
            "_model_module": "@jupyter-widgets/controls",
            "_model_module_version": "1.5.0",
            "_model_name": "HBoxModel",
            "_view_count": null,
            "_view_module": "@jupyter-widgets/controls",
            "_view_module_version": "1.5.0",
            "_view_name": "HBoxView",
            "box_style": "",
            "children": [
              "IPY_MODEL_db7be19c0aee4061ad01ad1fe750877f",
              "IPY_MODEL_346a6cfbdde0420f838d656b7a1fb8e3",
              "IPY_MODEL_f43238fbca4f4086904df570246125b2"
            ],
            "layout": "IPY_MODEL_757ebed1dfb64be3925d3e8ab47b0b9f"
          }
        },
        "db7be19c0aee4061ad01ad1fe750877f": {
          "model_module": "@jupyter-widgets/controls",
          "model_name": "HTMLModel",
          "model_module_version": "1.5.0",
          "state": {
            "_dom_classes": [],
            "_model_module": "@jupyter-widgets/controls",
            "_model_module_version": "1.5.0",
            "_model_name": "HTMLModel",
            "_view_count": null,
            "_view_module": "@jupyter-widgets/controls",
            "_view_module_version": "1.5.0",
            "_view_name": "HTMLView",
            "description": "",
            "description_tooltip": null,
            "layout": "IPY_MODEL_04aa042064ab48ce89d15e7b93832a95",
            "placeholder": "​",
            "style": "IPY_MODEL_f23f60c032b748908bdddd209147151c",
            "value": "100%"
          }
        },
        "346a6cfbdde0420f838d656b7a1fb8e3": {
          "model_module": "@jupyter-widgets/controls",
          "model_name": "FloatProgressModel",
          "model_module_version": "1.5.0",
          "state": {
            "_dom_classes": [],
            "_model_module": "@jupyter-widgets/controls",
            "_model_module_version": "1.5.0",
            "_model_name": "FloatProgressModel",
            "_view_count": null,
            "_view_module": "@jupyter-widgets/controls",
            "_view_module_version": "1.5.0",
            "_view_name": "ProgressView",
            "bar_style": "success",
            "description": "",
            "description_tooltip": null,
            "layout": "IPY_MODEL_f86ca987c63946e784bc35d4617eccc5",
            "max": 500,
            "min": 0,
            "orientation": "horizontal",
            "style": "IPY_MODEL_e0fccf7f2ed944849d3f2d8d0165ebb5",
            "value": 500
          }
        },
        "f43238fbca4f4086904df570246125b2": {
          "model_module": "@jupyter-widgets/controls",
          "model_name": "HTMLModel",
          "model_module_version": "1.5.0",
          "state": {
            "_dom_classes": [],
            "_model_module": "@jupyter-widgets/controls",
            "_model_module_version": "1.5.0",
            "_model_name": "HTMLModel",
            "_view_count": null,
            "_view_module": "@jupyter-widgets/controls",
            "_view_module_version": "1.5.0",
            "_view_name": "HTMLView",
            "description": "",
            "description_tooltip": null,
            "layout": "IPY_MODEL_71191a806e5346ccb3cee22596eec5aa",
            "placeholder": "​",
            "style": "IPY_MODEL_5aca4f8bb11c41ad8adadbaffc3a0958",
            "value": " 500/500 [00:00&lt;00:00, 462.60it/s]"
          }
        },
        "757ebed1dfb64be3925d3e8ab47b0b9f": {
          "model_module": "@jupyter-widgets/base",
          "model_name": "LayoutModel",
          "model_module_version": "1.2.0",
          "state": {
            "_model_module": "@jupyter-widgets/base",
            "_model_module_version": "1.2.0",
            "_model_name": "LayoutModel",
            "_view_count": null,
            "_view_module": "@jupyter-widgets/base",
            "_view_module_version": "1.2.0",
            "_view_name": "LayoutView",
            "align_content": null,
            "align_items": null,
            "align_self": null,
            "border": null,
            "bottom": null,
            "display": null,
            "flex": null,
            "flex_flow": null,
            "grid_area": null,
            "grid_auto_columns": null,
            "grid_auto_flow": null,
            "grid_auto_rows": null,
            "grid_column": null,
            "grid_gap": null,
            "grid_row": null,
            "grid_template_areas": null,
            "grid_template_columns": null,
            "grid_template_rows": null,
            "height": null,
            "justify_content": null,
            "justify_items": null,
            "left": null,
            "margin": null,
            "max_height": null,
            "max_width": null,
            "min_height": null,
            "min_width": null,
            "object_fit": null,
            "object_position": null,
            "order": null,
            "overflow": null,
            "overflow_x": null,
            "overflow_y": null,
            "padding": null,
            "right": null,
            "top": null,
            "visibility": null,
            "width": null
          }
        },
        "04aa042064ab48ce89d15e7b93832a95": {
          "model_module": "@jupyter-widgets/base",
          "model_name": "LayoutModel",
          "model_module_version": "1.2.0",
          "state": {
            "_model_module": "@jupyter-widgets/base",
            "_model_module_version": "1.2.0",
            "_model_name": "LayoutModel",
            "_view_count": null,
            "_view_module": "@jupyter-widgets/base",
            "_view_module_version": "1.2.0",
            "_view_name": "LayoutView",
            "align_content": null,
            "align_items": null,
            "align_self": null,
            "border": null,
            "bottom": null,
            "display": null,
            "flex": null,
            "flex_flow": null,
            "grid_area": null,
            "grid_auto_columns": null,
            "grid_auto_flow": null,
            "grid_auto_rows": null,
            "grid_column": null,
            "grid_gap": null,
            "grid_row": null,
            "grid_template_areas": null,
            "grid_template_columns": null,
            "grid_template_rows": null,
            "height": null,
            "justify_content": null,
            "justify_items": null,
            "left": null,
            "margin": null,
            "max_height": null,
            "max_width": null,
            "min_height": null,
            "min_width": null,
            "object_fit": null,
            "object_position": null,
            "order": null,
            "overflow": null,
            "overflow_x": null,
            "overflow_y": null,
            "padding": null,
            "right": null,
            "top": null,
            "visibility": null,
            "width": null
          }
        },
        "f23f60c032b748908bdddd209147151c": {
          "model_module": "@jupyter-widgets/controls",
          "model_name": "DescriptionStyleModel",
          "model_module_version": "1.5.0",
          "state": {
            "_model_module": "@jupyter-widgets/controls",
            "_model_module_version": "1.5.0",
            "_model_name": "DescriptionStyleModel",
            "_view_count": null,
            "_view_module": "@jupyter-widgets/base",
            "_view_module_version": "1.2.0",
            "_view_name": "StyleView",
            "description_width": ""
          }
        },
        "f86ca987c63946e784bc35d4617eccc5": {
          "model_module": "@jupyter-widgets/base",
          "model_name": "LayoutModel",
          "model_module_version": "1.2.0",
          "state": {
            "_model_module": "@jupyter-widgets/base",
            "_model_module_version": "1.2.0",
            "_model_name": "LayoutModel",
            "_view_count": null,
            "_view_module": "@jupyter-widgets/base",
            "_view_module_version": "1.2.0",
            "_view_name": "LayoutView",
            "align_content": null,
            "align_items": null,
            "align_self": null,
            "border": null,
            "bottom": null,
            "display": null,
            "flex": null,
            "flex_flow": null,
            "grid_area": null,
            "grid_auto_columns": null,
            "grid_auto_flow": null,
            "grid_auto_rows": null,
            "grid_column": null,
            "grid_gap": null,
            "grid_row": null,
            "grid_template_areas": null,
            "grid_template_columns": null,
            "grid_template_rows": null,
            "height": null,
            "justify_content": null,
            "justify_items": null,
            "left": null,
            "margin": null,
            "max_height": null,
            "max_width": null,
            "min_height": null,
            "min_width": null,
            "object_fit": null,
            "object_position": null,
            "order": null,
            "overflow": null,
            "overflow_x": null,
            "overflow_y": null,
            "padding": null,
            "right": null,
            "top": null,
            "visibility": null,
            "width": null
          }
        },
        "e0fccf7f2ed944849d3f2d8d0165ebb5": {
          "model_module": "@jupyter-widgets/controls",
          "model_name": "ProgressStyleModel",
          "model_module_version": "1.5.0",
          "state": {
            "_model_module": "@jupyter-widgets/controls",
            "_model_module_version": "1.5.0",
            "_model_name": "ProgressStyleModel",
            "_view_count": null,
            "_view_module": "@jupyter-widgets/base",
            "_view_module_version": "1.2.0",
            "_view_name": "StyleView",
            "bar_color": null,
            "description_width": ""
          }
        },
        "71191a806e5346ccb3cee22596eec5aa": {
          "model_module": "@jupyter-widgets/base",
          "model_name": "LayoutModel",
          "model_module_version": "1.2.0",
          "state": {
            "_model_module": "@jupyter-widgets/base",
            "_model_module_version": "1.2.0",
            "_model_name": "LayoutModel",
            "_view_count": null,
            "_view_module": "@jupyter-widgets/base",
            "_view_module_version": "1.2.0",
            "_view_name": "LayoutView",
            "align_content": null,
            "align_items": null,
            "align_self": null,
            "border": null,
            "bottom": null,
            "display": null,
            "flex": null,
            "flex_flow": null,
            "grid_area": null,
            "grid_auto_columns": null,
            "grid_auto_flow": null,
            "grid_auto_rows": null,
            "grid_column": null,
            "grid_gap": null,
            "grid_row": null,
            "grid_template_areas": null,
            "grid_template_columns": null,
            "grid_template_rows": null,
            "height": null,
            "justify_content": null,
            "justify_items": null,
            "left": null,
            "margin": null,
            "max_height": null,
            "max_width": null,
            "min_height": null,
            "min_width": null,
            "object_fit": null,
            "object_position": null,
            "order": null,
            "overflow": null,
            "overflow_x": null,
            "overflow_y": null,
            "padding": null,
            "right": null,
            "top": null,
            "visibility": null,
            "width": null
          }
        },
        "5aca4f8bb11c41ad8adadbaffc3a0958": {
          "model_module": "@jupyter-widgets/controls",
          "model_name": "DescriptionStyleModel",
          "model_module_version": "1.5.0",
          "state": {
            "_model_module": "@jupyter-widgets/controls",
            "_model_module_version": "1.5.0",
            "_model_name": "DescriptionStyleModel",
            "_view_count": null,
            "_view_module": "@jupyter-widgets/base",
            "_view_module_version": "1.2.0",
            "_view_name": "StyleView",
            "description_width": ""
          }
        },
        "a75536d966ee4dedafe330ee067f29cf": {
          "model_module": "@jupyter-widgets/controls",
          "model_name": "HBoxModel",
          "model_module_version": "1.5.0",
          "state": {
            "_dom_classes": [],
            "_model_module": "@jupyter-widgets/controls",
            "_model_module_version": "1.5.0",
            "_model_name": "HBoxModel",
            "_view_count": null,
            "_view_module": "@jupyter-widgets/controls",
            "_view_module_version": "1.5.0",
            "_view_name": "HBoxView",
            "box_style": "",
            "children": [
              "IPY_MODEL_16c78419e5404a52b65394322b9f9daa",
              "IPY_MODEL_5470ea49278e40d4995eae2f434fecc5",
              "IPY_MODEL_a8b43417aacc4f6f9f12ccc260038990"
            ],
            "layout": "IPY_MODEL_22b6a5ca545c494785ae13ac34b8ce7f"
          }
        },
        "16c78419e5404a52b65394322b9f9daa": {
          "model_module": "@jupyter-widgets/controls",
          "model_name": "HTMLModel",
          "model_module_version": "1.5.0",
          "state": {
            "_dom_classes": [],
            "_model_module": "@jupyter-widgets/controls",
            "_model_module_version": "1.5.0",
            "_model_name": "HTMLModel",
            "_view_count": null,
            "_view_module": "@jupyter-widgets/controls",
            "_view_module_version": "1.5.0",
            "_view_name": "HTMLView",
            "description": "",
            "description_tooltip": null,
            "layout": "IPY_MODEL_021bde9f47594d39aa077bfc00b1a48d",
            "placeholder": "​",
            "style": "IPY_MODEL_4f172ed12ba5433298032c80199b73fc",
            "value": "100%"
          }
        },
        "5470ea49278e40d4995eae2f434fecc5": {
          "model_module": "@jupyter-widgets/controls",
          "model_name": "FloatProgressModel",
          "model_module_version": "1.5.0",
          "state": {
            "_dom_classes": [],
            "_model_module": "@jupyter-widgets/controls",
            "_model_module_version": "1.5.0",
            "_model_name": "FloatProgressModel",
            "_view_count": null,
            "_view_module": "@jupyter-widgets/controls",
            "_view_module_version": "1.5.0",
            "_view_name": "ProgressView",
            "bar_style": "success",
            "description": "",
            "description_tooltip": null,
            "layout": "IPY_MODEL_44d934a82af243c482ceda843184ca3a",
            "max": 1000,
            "min": 0,
            "orientation": "horizontal",
            "style": "IPY_MODEL_10681522bbb94554b8887824fefd5ba6",
            "value": 1000
          }
        },
        "a8b43417aacc4f6f9f12ccc260038990": {
          "model_module": "@jupyter-widgets/controls",
          "model_name": "HTMLModel",
          "model_module_version": "1.5.0",
          "state": {
            "_dom_classes": [],
            "_model_module": "@jupyter-widgets/controls",
            "_model_module_version": "1.5.0",
            "_model_name": "HTMLModel",
            "_view_count": null,
            "_view_module": "@jupyter-widgets/controls",
            "_view_module_version": "1.5.0",
            "_view_name": "HTMLView",
            "description": "",
            "description_tooltip": null,
            "layout": "IPY_MODEL_581da972271843a2a1a3d8ca3bb95f4b",
            "placeholder": "​",
            "style": "IPY_MODEL_f61ade30e4c048798cbd936e70a753cb",
            "value": " 1000/1000 [00:01&lt;00:00, 1390.72it/s]"
          }
        },
        "22b6a5ca545c494785ae13ac34b8ce7f": {
          "model_module": "@jupyter-widgets/base",
          "model_name": "LayoutModel",
          "model_module_version": "1.2.0",
          "state": {
            "_model_module": "@jupyter-widgets/base",
            "_model_module_version": "1.2.0",
            "_model_name": "LayoutModel",
            "_view_count": null,
            "_view_module": "@jupyter-widgets/base",
            "_view_module_version": "1.2.0",
            "_view_name": "LayoutView",
            "align_content": null,
            "align_items": null,
            "align_self": null,
            "border": null,
            "bottom": null,
            "display": null,
            "flex": null,
            "flex_flow": null,
            "grid_area": null,
            "grid_auto_columns": null,
            "grid_auto_flow": null,
            "grid_auto_rows": null,
            "grid_column": null,
            "grid_gap": null,
            "grid_row": null,
            "grid_template_areas": null,
            "grid_template_columns": null,
            "grid_template_rows": null,
            "height": null,
            "justify_content": null,
            "justify_items": null,
            "left": null,
            "margin": null,
            "max_height": null,
            "max_width": null,
            "min_height": null,
            "min_width": null,
            "object_fit": null,
            "object_position": null,
            "order": null,
            "overflow": null,
            "overflow_x": null,
            "overflow_y": null,
            "padding": null,
            "right": null,
            "top": null,
            "visibility": null,
            "width": null
          }
        },
        "021bde9f47594d39aa077bfc00b1a48d": {
          "model_module": "@jupyter-widgets/base",
          "model_name": "LayoutModel",
          "model_module_version": "1.2.0",
          "state": {
            "_model_module": "@jupyter-widgets/base",
            "_model_module_version": "1.2.0",
            "_model_name": "LayoutModel",
            "_view_count": null,
            "_view_module": "@jupyter-widgets/base",
            "_view_module_version": "1.2.0",
            "_view_name": "LayoutView",
            "align_content": null,
            "align_items": null,
            "align_self": null,
            "border": null,
            "bottom": null,
            "display": null,
            "flex": null,
            "flex_flow": null,
            "grid_area": null,
            "grid_auto_columns": null,
            "grid_auto_flow": null,
            "grid_auto_rows": null,
            "grid_column": null,
            "grid_gap": null,
            "grid_row": null,
            "grid_template_areas": null,
            "grid_template_columns": null,
            "grid_template_rows": null,
            "height": null,
            "justify_content": null,
            "justify_items": null,
            "left": null,
            "margin": null,
            "max_height": null,
            "max_width": null,
            "min_height": null,
            "min_width": null,
            "object_fit": null,
            "object_position": null,
            "order": null,
            "overflow": null,
            "overflow_x": null,
            "overflow_y": null,
            "padding": null,
            "right": null,
            "top": null,
            "visibility": null,
            "width": null
          }
        },
        "4f172ed12ba5433298032c80199b73fc": {
          "model_module": "@jupyter-widgets/controls",
          "model_name": "DescriptionStyleModel",
          "model_module_version": "1.5.0",
          "state": {
            "_model_module": "@jupyter-widgets/controls",
            "_model_module_version": "1.5.0",
            "_model_name": "DescriptionStyleModel",
            "_view_count": null,
            "_view_module": "@jupyter-widgets/base",
            "_view_module_version": "1.2.0",
            "_view_name": "StyleView",
            "description_width": ""
          }
        },
        "44d934a82af243c482ceda843184ca3a": {
          "model_module": "@jupyter-widgets/base",
          "model_name": "LayoutModel",
          "model_module_version": "1.2.0",
          "state": {
            "_model_module": "@jupyter-widgets/base",
            "_model_module_version": "1.2.0",
            "_model_name": "LayoutModel",
            "_view_count": null,
            "_view_module": "@jupyter-widgets/base",
            "_view_module_version": "1.2.0",
            "_view_name": "LayoutView",
            "align_content": null,
            "align_items": null,
            "align_self": null,
            "border": null,
            "bottom": null,
            "display": null,
            "flex": null,
            "flex_flow": null,
            "grid_area": null,
            "grid_auto_columns": null,
            "grid_auto_flow": null,
            "grid_auto_rows": null,
            "grid_column": null,
            "grid_gap": null,
            "grid_row": null,
            "grid_template_areas": null,
            "grid_template_columns": null,
            "grid_template_rows": null,
            "height": null,
            "justify_content": null,
            "justify_items": null,
            "left": null,
            "margin": null,
            "max_height": null,
            "max_width": null,
            "min_height": null,
            "min_width": null,
            "object_fit": null,
            "object_position": null,
            "order": null,
            "overflow": null,
            "overflow_x": null,
            "overflow_y": null,
            "padding": null,
            "right": null,
            "top": null,
            "visibility": null,
            "width": null
          }
        },
        "10681522bbb94554b8887824fefd5ba6": {
          "model_module": "@jupyter-widgets/controls",
          "model_name": "ProgressStyleModel",
          "model_module_version": "1.5.0",
          "state": {
            "_model_module": "@jupyter-widgets/controls",
            "_model_module_version": "1.5.0",
            "_model_name": "ProgressStyleModel",
            "_view_count": null,
            "_view_module": "@jupyter-widgets/base",
            "_view_module_version": "1.2.0",
            "_view_name": "StyleView",
            "bar_color": null,
            "description_width": ""
          }
        },
        "581da972271843a2a1a3d8ca3bb95f4b": {
          "model_module": "@jupyter-widgets/base",
          "model_name": "LayoutModel",
          "model_module_version": "1.2.0",
          "state": {
            "_model_module": "@jupyter-widgets/base",
            "_model_module_version": "1.2.0",
            "_model_name": "LayoutModel",
            "_view_count": null,
            "_view_module": "@jupyter-widgets/base",
            "_view_module_version": "1.2.0",
            "_view_name": "LayoutView",
            "align_content": null,
            "align_items": null,
            "align_self": null,
            "border": null,
            "bottom": null,
            "display": null,
            "flex": null,
            "flex_flow": null,
            "grid_area": null,
            "grid_auto_columns": null,
            "grid_auto_flow": null,
            "grid_auto_rows": null,
            "grid_column": null,
            "grid_gap": null,
            "grid_row": null,
            "grid_template_areas": null,
            "grid_template_columns": null,
            "grid_template_rows": null,
            "height": null,
            "justify_content": null,
            "justify_items": null,
            "left": null,
            "margin": null,
            "max_height": null,
            "max_width": null,
            "min_height": null,
            "min_width": null,
            "object_fit": null,
            "object_position": null,
            "order": null,
            "overflow": null,
            "overflow_x": null,
            "overflow_y": null,
            "padding": null,
            "right": null,
            "top": null,
            "visibility": null,
            "width": null
          }
        },
        "f61ade30e4c048798cbd936e70a753cb": {
          "model_module": "@jupyter-widgets/controls",
          "model_name": "DescriptionStyleModel",
          "model_module_version": "1.5.0",
          "state": {
            "_model_module": "@jupyter-widgets/controls",
            "_model_module_version": "1.5.0",
            "_model_name": "DescriptionStyleModel",
            "_view_count": null,
            "_view_module": "@jupyter-widgets/base",
            "_view_module_version": "1.2.0",
            "_view_name": "StyleView",
            "description_width": ""
          }
        }
      }
    }
  },
  "cells": [
    {
      "cell_type": "markdown",
      "metadata": {
        "id": "view-in-github",
        "colab_type": "text"
      },
      "source": [
        "<a href=\"https://colab.research.google.com/github/IvanIsCoding/GNN-for-Combinatiorial-Optimization/blob/main/GNN.ipynb\" target=\"_parent\"><img src=\"https://colab.research.google.com/assets/colab-badge.svg\" alt=\"Open In Colab\"/></a>"
      ]
    },
    {
      "cell_type": "markdown",
      "source": [
        "https://arxiv.org/abs/2107.01188"
      ],
      "metadata": {
        "id": "9-9Puiwea1xF"
      }
    },
    {
      "cell_type": "code",
      "execution_count": 452,
      "metadata": {
        "colab": {
          "base_uri": "https://localhost:8080/"
        },
        "id": "Z3-6FNSCXN8r",
        "outputId": "54b20f00-b62a-4075-ebc0-100ea2eda325"
      },
      "outputs": [
        {
          "output_type": "stream",
          "name": "stdout",
          "text": [
            "GPU 0: Tesla T4 (UUID: GPU-f01107e0-6621-1c94-a13f-8fe2f305cd69)\n"
          ]
        }
      ],
      "source": [
        "!nvidia-smi -L"
      ]
    },
    {
      "cell_type": "code",
      "source": [
        "!pip install -q flax pyqubo"
      ],
      "metadata": {
        "id": "fB2Biw4vYIOb"
      },
      "execution_count": 453,
      "outputs": []
    },
    {
      "cell_type": "code",
      "source": [
        "import jax\n",
        "import jax.numpy as jnp\n",
        "import numpy as np\n",
        "import networkx as nx # for making graphs\n",
        "import optax # for optimizing GNN with Adam\n",
        "\n",
        "from flax import linen as nn # for defining the GNN\n",
        "from flax.training import train_state # utility for training\n",
        "from pyqubo import Array # for defining the QUBO\n",
        "from tqdm.notebook import trange, tqdm # visualizing notebook progress"
      ],
      "metadata": {
        "id": "OlDNV5OGYJGf"
      },
      "execution_count": 454,
      "outputs": []
    },
    {
      "cell_type": "code",
      "source": [
        "def create_max_cut_model(graph):\n",
        "  N = graph.number_of_nodes()\n",
        "  X = Array.create(\"X\", shape=(N,), vartype=\"BINARY\")\n",
        "\n",
        "  hamiltonian = 0\n",
        "  for u, v in graph.edges:\n",
        "    hamiltonian -= (X[u] - X[v])**2\n",
        "  \n",
        "  return hamiltonian.compile()\n",
        "\n",
        "def create_mis_model(graph, penalty=2):\n",
        "  N = graph.number_of_nodes()\n",
        "  X = Array.create(\"X\", shape=(N,), vartype=\"BINARY\")\n",
        "\n",
        "  hamiltonian = -sum(X)\n",
        "  for u, v in graph.edges:\n",
        "    hamiltonian += penalty * (X[u] * X[v])\n",
        "\n",
        "  return hamiltonian.compile()\n",
        "\n",
        "def create_Q_matrix(graph, is_max_cut=True):\n",
        "  if is_max_cut:\n",
        "    model = create_max_cut_model(graph)\n",
        "  else:\n",
        "    model = create_mis_model(graph)\n",
        "  \n",
        "  N = graph.number_of_nodes()\n",
        "  extract_val = lambda x: int(x[2:-1])\n",
        "  Q_matrix = np.zeros((N, N))\n",
        "\n",
        "  qubo_dict, _ = model.to_qubo()\n",
        "\n",
        "  for (a, b), quv in qubo_dict.items():\n",
        "    u = min(extract_val(a), extract_val(b))\n",
        "    v = max(extract_val(a), extract_val(b))\n",
        "    Q_matrix[u,v] = quv\n",
        "\n",
        "  return jnp.array(Q_matrix)"
      ],
      "metadata": {
        "id": "DsuwKoFZohpP"
      },
      "execution_count": 455,
      "outputs": []
    },
    {
      "cell_type": "code",
      "source": [
        "def qubo_approx_cost(probs, Q):\n",
        "  cost = jnp.sum(\n",
        "      jnp.matmul(\n",
        "          jnp.matmul(jnp.transpose(probs), Q), \n",
        "          probs\n",
        "      )\n",
        "  )\n",
        "  return cost  "
      ],
      "metadata": {
        "id": "_Xcg_nkjl-Zm"
      },
      "execution_count": 456,
      "outputs": []
    },
    {
      "cell_type": "code",
      "source": [
        "def compute_metrics(*, probs, q_matrix):\n",
        "  energy = qubo_approx_cost(probs=probs, Q=q_matrix)\n",
        "  metrics = {\n",
        "      \"energy\": energy,\n",
        "  }\n",
        "  return metrics"
      ],
      "metadata": {
        "id": "Y5RETyxkz5Ce"
      },
      "execution_count": 457,
      "outputs": []
    },
    {
      "cell_type": "code",
      "source": [
        "class GraphConvLayer(nn.Module):\n",
        "    c_out : int  # Output feature size\n",
        "\n",
        "    @nn.compact\n",
        "    def __call__(self, node_feats, adj_matrix):\n",
        "        node_feats_w1 = nn.Dense(features=self.c_out, use_bias=False)(node_feats)\n",
        "        node_feats_w2 = jax.lax.batch_matmul(adj_matrix, node_feats)\n",
        "        node_feats_w2 = nn.Dense(features=self.c_out)(node_feats_w2)\n",
        "        return node_feats_w1 + node_feats_w2"
      ],
      "metadata": {
        "id": "eAYPgGF5a83D"
      },
      "execution_count": 458,
      "outputs": []
    },
    {
      "cell_type": "code",
      "source": [
        "class CombGNN(nn.Module):\n",
        "    hidden_size: int\n",
        "    num_classes: int\n",
        "    dropout_frac: float\n",
        "\n",
        "    @nn.compact\n",
        "    def __call__(self, node_feats, adj_matrix):\n",
        "        # First convolution\n",
        "        h = GraphConvLayer(c_out=self.hidden_size)(node_feats=node_feats, adj_matrix=adj_matrix)\n",
        "        h = nn.relu(h)\n",
        "        #h = nn.Dropout(self.dropout_frac)\n",
        "        # Second convolution\n",
        "        h = GraphConvLayer(c_out=self.num_classes)(node_feats=h, adj_matrix=adj_matrix)\n",
        "        probs = nn.sigmoid(h)\n",
        "\n",
        "        return probs"
      ],
      "metadata": {
        "id": "zYWv4KUibkhk"
      },
      "execution_count": 459,
      "outputs": []
    },
    {
      "cell_type": "code",
      "source": [
        "def create_train_state(n_vertices, embedding_size, hidden_size, rng, learning_rate, dropout_frac=0.0):\n",
        "  gnn = CombGNN(hidden_size = hidden_size, num_classes=1, dropout_frac=dropout_frac)\n",
        "  params = gnn.init(rng, node_feats=jnp.ones([n_vertices, embedding_size]), adj_matrix=jnp.ones([n_vertices, n_vertices]))[\"params\"]\n",
        "  tx = optax.adam(learning_rate)\n",
        "  return train_state.TrainState.create(apply_fn = gnn.apply, params=params, tx=tx)"
      ],
      "metadata": {
        "id": "P0q96iBytXTd"
      },
      "execution_count": 460,
      "outputs": []
    },
    {
      "cell_type": "code",
      "source": [
        "@jax.jit\n",
        "def train_step(state, node_embeddings, adj_matrix, q_matrix):\n",
        "  \"\"\"Train for a single step.\"\"\"\n",
        "  def cost_fn(params):\n",
        "    probs = state.apply_fn({'params': params}, node_embeddings, adj_matrix)\n",
        "    cost = qubo_approx_cost(probs=probs, Q=q_matrix)\n",
        "    return cost, probs\n",
        "  grad_fn = jax.grad(cost_fn, has_aux=True)\n",
        "  grads, probs = grad_fn(state.params)\n",
        "  state = state.apply_gradients(grads=grads)\n",
        "  metrics = compute_metrics(probs=probs, q_matrix=q_matrix)\n",
        "  return state, metrics"
      ],
      "metadata": {
        "id": "ORnen6fuxu6j"
      },
      "execution_count": 461,
      "outputs": []
    },
    {
      "cell_type": "code",
      "source": [
        "def get_classification(apply_fn, node_embedding, adj_matrix):\n",
        "  pred_probs = state.apply_fn({'params': state.params}, node_embeddings, adj_matrix)\n",
        "  classification = jnp.where(\n",
        "      pred_probs >= 0.5, 1, 0 \n",
        "  )\n",
        "  return np.ravel(classification)"
      ],
      "metadata": {
        "id": "g_bEsdOR4BfZ"
      },
      "execution_count": 462,
      "outputs": []
    },
    {
      "cell_type": "markdown",
      "source": [
        "# Max-Cut On Example Graph\n",
        "\n"
      ],
      "metadata": {
        "id": "uAHhygRS1ccc"
      }
    },
    {
      "cell_type": "code",
      "source": [
        "edgelist = [(0, 1), (1, 2), (2, 3), (3, 0), (1, 4), (2, 4)]\n",
        "G = nx.from_edgelist(edgelist)"
      ],
      "metadata": {
        "id": "H09rr5JPYKDv"
      },
      "execution_count": 463,
      "outputs": []
    },
    {
      "cell_type": "code",
      "source": [
        "nx.draw(G, pos=nx.spring_layout(G, seed=2023))"
      ],
      "metadata": {
        "colab": {
          "base_uri": "https://localhost:8080/",
          "height": 319
        },
        "id": "OdFTH3MRZJXN",
        "outputId": "9b25a65b-4242-4ea5-a3c6-eade86ac325b"
      },
      "execution_count": 464,
      "outputs": [
        {
          "output_type": "display_data",
          "data": {
            "text/plain": [
              "<Figure size 432x288 with 1 Axes>"
            ],
            "image/png": "[encoded data removed]"
          },
          "metadata": {}
        }
      ]
    },
    {
      "cell_type": "code",
      "source": [
        "A = jnp.array(nx.to_numpy_array(G))"
      ],
      "metadata": {
        "id": "SIkrJneIZiqt"
      },
      "execution_count": 465,
      "outputs": []
    },
    {
      "cell_type": "code",
      "source": [
        "A"
      ],
      "metadata": {
        "colab": {
          "base_uri": "https://localhost:8080/"
        },
        "id": "wLpVhCujZKXE",
        "outputId": "3dbed421-c8a6-430a-8a9e-8983a9517431"
      },
      "execution_count": 466,
      "outputs": [
        {
          "output_type": "execute_result",
          "data": {
            "text/plain": [
              "DeviceArray([[0., 1., 0., 1., 0.],\n",
              "             [1., 0., 1., 0., 1.],\n",
              "             [0., 1., 0., 1., 1.],\n",
              "             [1., 0., 1., 0., 0.],\n",
              "             [0., 1., 1., 0., 0.]], dtype=float32)"
            ]
          },
          "metadata": {},
          "execution_count": 466
        }
      ]
    },
    {
      "cell_type": "code",
      "source": [
        "Q = create_Q_matrix(G)"
      ],
      "metadata": {
        "id": "gypicA9dreSe"
      },
      "execution_count": 467,
      "outputs": []
    },
    {
      "cell_type": "code",
      "source": [
        "Q"
      ],
      "metadata": {
        "colab": {
          "base_uri": "https://localhost:8080/"
        },
        "id": "58MqzUg4sGTa",
        "outputId": "950c089f-c5ce-4e0e-bb45-e35fbb76edcd"
      },
      "execution_count": 468,
      "outputs": [
        {
          "output_type": "execute_result",
          "data": {
            "text/plain": [
              "DeviceArray([[-2.,  2.,  0.,  2.,  0.],\n",
              "             [ 0., -3.,  2.,  0.,  2.],\n",
              "             [ 0.,  0., -3.,  2.,  2.],\n",
              "             [ 0.,  0.,  0., -2.,  0.],\n",
              "             [ 0.,  0.,  0.,  0., -2.]], dtype=float32)"
            ]
          },
          "metadata": {},
          "execution_count": 468
        }
      ]
    },
    {
      "cell_type": "code",
      "source": [
        "rng = jax.random.PRNGKey(2023)\n",
        "rng, init_rng = jax.random.split(rng)\n",
        "rng, embed_rng = jax.random.split(rng)"
      ],
      "metadata": {
        "id": "ox1HS1cRxKsN"
      },
      "execution_count": 469,
      "outputs": []
    },
    {
      "cell_type": "code",
      "source": [
        "learning_rate = 0.005"
      ],
      "metadata": {
        "id": "an30ErWG5W-7"
      },
      "execution_count": 470,
      "outputs": []
    },
    {
      "cell_type": "code",
      "source": [
        "embedding_d0 = 5\n",
        "embedding_d1 = embedding_d0//2"
      ],
      "metadata": {
        "id": "2324ZEekIj6R"
      },
      "execution_count": 471,
      "outputs": []
    },
    {
      "cell_type": "code",
      "source": [
        "state = create_train_state(G.number_of_nodes(), embedding_d0, embedding_d1, init_rng, learning_rate)"
      ],
      "metadata": {
        "id": "Gv6Ym1Ss5arf"
      },
      "execution_count": 472,
      "outputs": []
    },
    {
      "cell_type": "code",
      "source": [
        "node_embeddings = jax.random.uniform(embed_rng, [G.number_of_nodes(), embedding_d0])"
      ],
      "metadata": {
        "id": "9odOmB1KIbMP"
      },
      "execution_count": 473,
      "outputs": []
    },
    {
      "cell_type": "code",
      "source": [
        "node_embeddings"
      ],
      "metadata": {
        "colab": {
          "base_uri": "https://localhost:8080/"
        },
        "id": "gJP4IqmMIpcy",
        "outputId": "e61bf88b-7b99-4b6d-e382-4adc271c98bb"
      },
      "execution_count": 474,
      "outputs": [
        {
          "output_type": "execute_result",
          "data": {
            "text/plain": [
              "DeviceArray([[0.90081596, 0.38583064, 0.02542734, 0.7263125 , 0.77239466],\n",
              "             [0.13210392, 0.2291317 , 0.15860796, 0.39851677, 0.9010197 ],\n",
              "             [0.5372865 , 0.6941434 , 0.948866  , 0.5196214 , 0.97492456],\n",
              "             [0.13318086, 0.49488008, 0.6443068 , 0.95046246, 0.5960568 ],\n",
              "             [0.19223976, 0.44076335, 0.9235079 , 0.26473606, 0.49318063]],            dtype=float32)"
            ]
          },
          "metadata": {},
          "execution_count": 474
        }
      ]
    },
    {
      "cell_type": "code",
      "source": [
        "num_epochs = 500"
      ],
      "metadata": {
        "id": "tVwA4Bg3FZzr"
      },
      "execution_count": 475,
      "outputs": []
    },
    {
      "cell_type": "code",
      "source": [
        "for epoch in trange(1, num_epochs + 1):\n",
        "  state, metrics = train_step(state=state, node_embeddings=node_embeddings, adj_matrix=A, q_matrix=Q)\n",
        "\n",
        "  if epoch % 25 == 0:\n",
        "    print('train epoch: %d, cost: %.2f' % (epoch, metrics[\"energy\"]))"
      ],
      "metadata": {
        "colab": {
          "base_uri": "https://localhost:8080/",
          "height": 396,
          "referenced_widgets": [
            "927d3a1121b54eb3b02484cb30a4a7aa",
            "b9e25d335a0c48dea3bd90c534b603c5",
            "a5eb37d2426449599d575e4cf716008d",
            "b5e3e3c210394560b75c24afc5d048be",
            "d13d366e65744fac8634ae0f7d8c90e6",
            "1c2a892b5ec64673a29ac1d382a15831",
            "cdbc84d1a02749d6a1d5b9955c3cf0fb",
            "3006323c8c59411fa3f119ee37c6523c",
            "a87ca44ba4714f6fa7eb25c39c0b2016",
            "2bbfd609426b4b6d9ce04409bb08764f",
            "fcbd8c05f0414e74bad1022c90901bf9"
          ]
        },
        "id": "KTyhBr26HDx3",
        "outputId": "fb5314aa-3618-4ec6-86d9-3b96b3465f55"
      },
      "execution_count": 476,
      "outputs": [
        {
          "output_type": "display_data",
          "data": {
            "text/plain": [
              "  0%|          | 0/500 [00:00<?, ?it/s]"
            ],
            "application/vnd.jupyter.widget-view+json": {
              "version_major": 2,
              "version_minor": 0,
              "model_id": "927d3a1121b54eb3b02484cb30a4a7aa"
            }
          },
          "metadata": {}
        },
        {
          "output_type": "stream",
          "name": "stdout",
          "text": [
            "train epoch: 25, cost: -0.34\n",
            "train epoch: 50, cost: -2.10\n",
            "train epoch: 75, cost: -3.84\n",
            "train epoch: 100, cost: -4.42\n",
            "train epoch: 125, cost: -4.66\n",
            "train epoch: 150, cost: -4.78\n",
            "train epoch: 175, cost: -4.84\n",
            "train epoch: 200, cost: -4.88\n",
            "train epoch: 225, cost: -4.91\n",
            "train epoch: 250, cost: -4.93\n",
            "train epoch: 275, cost: -4.94\n",
            "train epoch: 300, cost: -4.95\n",
            "train epoch: 325, cost: -4.96\n",
            "train epoch: 350, cost: -4.96\n",
            "train epoch: 375, cost: -4.97\n",
            "train epoch: 400, cost: -4.97\n",
            "train epoch: 425, cost: -4.97\n",
            "train epoch: 450, cost: -4.98\n",
            "train epoch: 475, cost: -4.98\n",
            "train epoch: 500, cost: -4.98\n"
          ]
        }
      ]
    },
    {
      "cell_type": "code",
      "source": [
        "state.apply_fn({'params': state.params}, node_embeddings, A)"
      ],
      "metadata": {
        "colab": {
          "base_uri": "https://localhost:8080/"
        },
        "id": "lCkJVm0OJOEX",
        "outputId": "d9103aec-5e52-4b3a-c4c7-f0d7789d95ab"
      },
      "execution_count": 477,
      "outputs": [
        {
          "output_type": "execute_result",
          "data": {
            "text/plain": [
              "DeviceArray([[9.9998617e-01],\n",
              "             [2.1988944e-04],\n",
              "             [9.9997127e-01],\n",
              "             [2.0501104e-03],\n",
              "             [9.9555635e-01]], dtype=float32)"
            ]
          },
          "metadata": {},
          "execution_count": 477
        }
      ]
    },
    {
      "cell_type": "code",
      "source": [
        "classification = get_classification(state.apply_fn, node_embeddings, A)"
      ],
      "metadata": {
        "id": "MNU2T1Gj8adI"
      },
      "execution_count": 478,
      "outputs": []
    },
    {
      "cell_type": "code",
      "source": [
        "nx.draw(G, pos=nx.spring_layout(G, seed=2023), node_color=[\"yellow\" if c else \"lightblue\" for c in classification], with_labels=True)"
      ],
      "metadata": {
        "colab": {
          "base_uri": "https://localhost:8080/",
          "height": 319
        },
        "id": "C3yIzhfD8bLT",
        "outputId": "bd5bd136-02cb-4c3d-b923-2d0490654873"
      },
      "execution_count": 479,
      "outputs": [
        {
          "output_type": "display_data",
          "data": {
            "text/plain": [
              "<Figure size 432x288 with 1 Axes>"
            ],
            "image/png": "[encoded data removed]"
          },
          "metadata": {}
        }
      ]
    },
    {
      "cell_type": "markdown",
      "source": [
        "# Maximum Independet Set on Example Graph"
      ],
      "metadata": {
        "id": "ppBf750i9kxC"
      }
    },
    {
      "cell_type": "code",
      "source": [
        "A = jnp.array(nx.to_numpy_array(G))\n",
        "Q = create_Q_matrix(G, is_max_cut=False)"
      ],
      "metadata": {
        "id": "wzQFDswc9FPA"
      },
      "execution_count": 480,
      "outputs": []
    },
    {
      "cell_type": "code",
      "source": [
        "Q"
      ],
      "metadata": {
        "colab": {
          "base_uri": "https://localhost:8080/"
        },
        "id": "Z_hJdZKSAfz8",
        "outputId": "e78d2dc3-34d6-45aa-e2e8-195f999c1eec"
      },
      "execution_count": 481,
      "outputs": [
        {
          "output_type": "execute_result",
          "data": {
            "text/plain": [
              "DeviceArray([[-1.,  2.,  0.,  2.,  0.],\n",
              "             [ 0., -1.,  2.,  0.,  2.],\n",
              "             [ 0.,  0., -1.,  2.,  2.],\n",
              "             [ 0.,  0.,  0., -1.,  0.],\n",
              "             [ 0.,  0.,  0.,  0., -1.]], dtype=float32)"
            ]
          },
          "metadata": {},
          "execution_count": 481
        }
      ]
    },
    {
      "cell_type": "code",
      "source": [
        "rng = jax.random.PRNGKey(666) # yeah I know\n",
        "rng, init_rng = jax.random.split(rng)\n",
        "rng, embed_rng = jax.random.split(rng)"
      ],
      "metadata": {
        "id": "9LcNY9j4-9Rm"
      },
      "execution_count": 482,
      "outputs": []
    },
    {
      "cell_type": "code",
      "source": [
        "learning_rate = 0.01"
      ],
      "metadata": {
        "id": "mFdovIBm-_YB"
      },
      "execution_count": 483,
      "outputs": []
    },
    {
      "cell_type": "code",
      "source": [
        "embedding_d0 = 5\n",
        "embedding_d1 = embedding_d0//2"
      ],
      "metadata": {
        "id": "dKw9ZPlO_EAj"
      },
      "execution_count": 484,
      "outputs": []
    },
    {
      "cell_type": "code",
      "source": [
        "state = create_train_state(G.number_of_nodes(), embedding_d0, embedding_d1, init_rng, learning_rate)"
      ],
      "metadata": {
        "id": "FzGKjvfS_GKW"
      },
      "execution_count": 485,
      "outputs": []
    },
    {
      "cell_type": "code",
      "source": [
        "node_embeddings = jax.random.uniform(embed_rng, [G.number_of_nodes(), embedding_d0])"
      ],
      "metadata": {
        "id": "OKzAQQlh_JFO"
      },
      "execution_count": 486,
      "outputs": []
    },
    {
      "cell_type": "code",
      "source": [
        "num_epochs = 500"
      ],
      "metadata": {
        "id": "vgx1RbcG_L32"
      },
      "execution_count": 487,
      "outputs": []
    },
    {
      "cell_type": "code",
      "source": [
        "for epoch in trange(1, num_epochs + 1):\n",
        "  state, metrics = train_step(state=state, node_embeddings=node_embeddings, adj_matrix=A, q_matrix=Q)\n",
        "\n",
        "  if epoch % 25 == 0:\n",
        "    print('train epoch: %d, cost: %.2f' % (epoch, metrics[\"energy\"]))"
      ],
      "metadata": {
        "colab": {
          "base_uri": "https://localhost:8080/",
          "height": 396,
          "referenced_widgets": [
            "191cb434b34749a4910e5bbce478bd9a",
            "db7be19c0aee4061ad01ad1fe750877f",
            "346a6cfbdde0420f838d656b7a1fb8e3",
            "f43238fbca4f4086904df570246125b2",
            "757ebed1dfb64be3925d3e8ab47b0b9f",
            "04aa042064ab48ce89d15e7b93832a95",
            "f23f60c032b748908bdddd209147151c",
            "f86ca987c63946e784bc35d4617eccc5",
            "e0fccf7f2ed944849d3f2d8d0165ebb5",
            "71191a806e5346ccb3cee22596eec5aa",
            "5aca4f8bb11c41ad8adadbaffc3a0958"
          ]
        },
        "id": "osv158Ga_Mrm",
        "outputId": "46104d5a-6734-4629-a554-db9c305761ce"
      },
      "execution_count": 488,
      "outputs": [
        {
          "output_type": "display_data",
          "data": {
            "text/plain": [
              "  0%|          | 0/500 [00:00<?, ?it/s]"
            ],
            "application/vnd.jupyter.widget-view+json": {
              "version_major": 2,
              "version_minor": 0,
              "model_id": "191cb434b34749a4910e5bbce478bd9a"
            }
          },
          "metadata": {}
        },
        {
          "output_type": "stream",
          "name": "stdout",
          "text": [
            "train epoch: 25, cost: -0.01\n",
            "train epoch: 50, cost: -0.01\n",
            "train epoch: 75, cost: -0.07\n",
            "train epoch: 100, cost: -0.61\n",
            "train epoch: 125, cost: -1.60\n",
            "train epoch: 150, cost: -1.89\n",
            "train epoch: 175, cost: -1.94\n",
            "train epoch: 200, cost: -1.96\n",
            "train epoch: 225, cost: -1.97\n",
            "train epoch: 250, cost: -1.98\n",
            "train epoch: 275, cost: -1.98\n",
            "train epoch: 300, cost: -1.99\n",
            "train epoch: 325, cost: -1.99\n",
            "train epoch: 350, cost: -1.99\n",
            "train epoch: 375, cost: -1.99\n",
            "train epoch: 400, cost: -1.99\n",
            "train epoch: 425, cost: -1.99\n",
            "train epoch: 450, cost: -1.99\n",
            "train epoch: 475, cost: -1.99\n",
            "train epoch: 500, cost: -2.00\n"
          ]
        }
      ]
    },
    {
      "cell_type": "code",
      "source": [
        "classification = get_classification(state.apply_fn, node_embeddings, A)"
      ],
      "metadata": {
        "id": "jWaXBiud_ZDW"
      },
      "execution_count": 489,
      "outputs": []
    },
    {
      "cell_type": "code",
      "source": [
        "nx.draw(G, pos=nx.spring_layout(G, seed=2023), node_color=[\"yellow\" if c else \"lightblue\" for c in classification], with_labels=True)"
      ],
      "metadata": {
        "colab": {
          "base_uri": "https://localhost:8080/",
          "height": 319
        },
        "id": "9rmDE180_Zfv",
        "outputId": "e6ff1972-6c99-40a4-c800-73f1f820a4e0"
      },
      "execution_count": 490,
      "outputs": [
        {
          "output_type": "display_data",
          "data": {
            "text/plain": [
              "<Figure size 432x288 with 1 Axes>"
            ],
            "image/png": "[encoded data removed]"
          },
          "metadata": {}
        }
      ]
    },
    {
      "cell_type": "markdown",
      "source": [
        "# Max-Cut on Larger Graph\n"
      ],
      "metadata": {
        "id": "kMcQOwv12e8e"
      }
    },
    {
      "cell_type": "code",
      "source": [
        "G = nx.convert_node_labels_to_integers(nx.fast_gnp_random_graph(n = 100, p=0.05, seed=2023))\n",
        "A = jnp.array(nx.to_numpy_array(G))\n",
        "Q = create_Q_matrix(G)"
      ],
      "metadata": {
        "id": "Nck5XegA2hdA"
      },
      "execution_count": 491,
      "outputs": []
    },
    {
      "cell_type": "code",
      "source": [
        "nx.draw(G, pos=nx.spring_layout(G, seed=2023), with_labels=True)"
      ],
      "metadata": {
        "colab": {
          "base_uri": "https://localhost:8080/",
          "height": 319
        },
        "id": "R8v3QdbX3s5n",
        "outputId": "c6e6bd77-5c98-4696-8146-fbe418bf4c05"
      },
      "execution_count": 492,
      "outputs": [
        {
          "output_type": "display_data",
          "data": {
            "text/plain": [
              "<Figure size 432x288 with 1 Axes>"
            ],
            "image/png": "[encoded data removed]"
          },
          "metadata": {}
        }
      ]
    },
    {
      "cell_type": "code",
      "source": [
        "embedding_d0 = int(np.sqrt(G.number_of_nodes()))\n",
        "embedding_d1 = embedding_d0//2"
      ],
      "metadata": {
        "id": "oAOu3a394bOM"
      },
      "execution_count": 493,
      "outputs": []
    },
    {
      "cell_type": "code",
      "source": [
        "rng = jax.random.PRNGKey(2023)\n",
        "rng, init_rng = jax.random.split(rng)\n",
        "rng, embed_rng = jax.random.split(rng)\n",
        "state = create_train_state(G.number_of_nodes(), embedding_d0, embedding_d1, init_rng, learning_rate)"
      ],
      "metadata": {
        "id": "Gxiw9Dtm4s2k"
      },
      "execution_count": 494,
      "outputs": []
    },
    {
      "cell_type": "code",
      "source": [
        "node_embeddings = jax.random.uniform(embed_rng, [G.number_of_nodes(), embedding_d0])"
      ],
      "metadata": {
        "id": "4q1BLOGn4w7t"
      },
      "execution_count": 495,
      "outputs": []
    },
    {
      "cell_type": "code",
      "source": [
        "num_epochs = 1000"
      ],
      "metadata": {
        "id": "ndpfhZI-3wYj"
      },
      "execution_count": 496,
      "outputs": []
    },
    {
      "cell_type": "code",
      "source": [
        "for epoch in trange(1, num_epochs + 1):\n",
        "  state, metrics = train_step(state=state, node_embeddings=node_embeddings, adj_matrix=A, q_matrix=Q)\n",
        "\n",
        "  if epoch % 25 == 0:\n",
        "    print('train epoch: %d, cost: %.2f' % (epoch, metrics[\"energy\"]))"
      ],
      "metadata": {
        "colab": {
          "base_uri": "https://localhost:8080/",
          "height": 743,
          "referenced_widgets": [
            "a75536d966ee4dedafe330ee067f29cf",
            "16c78419e5404a52b65394322b9f9daa",
            "5470ea49278e40d4995eae2f434fecc5",
            "a8b43417aacc4f6f9f12ccc260038990",
            "22b6a5ca545c494785ae13ac34b8ce7f",
            "021bde9f47594d39aa077bfc00b1a48d",
            "4f172ed12ba5433298032c80199b73fc",
            "44d934a82af243c482ceda843184ca3a",
            "10681522bbb94554b8887824fefd5ba6",
            "581da972271843a2a1a3d8ca3bb95f4b",
            "f61ade30e4c048798cbd936e70a753cb"
          ]
        },
        "id": "CDKKqP8M5GhR",
        "outputId": "58d44cc0-44f0-404a-80a7-a9bec1b9e265"
      },
      "execution_count": 497,
      "outputs": [
        {
          "output_type": "display_data",
          "data": {
            "text/plain": [
              "  0%|          | 0/1000 [00:00<?, ?it/s]"
            ],
            "application/vnd.jupyter.widget-view+json": {
              "version_major": 2,
              "version_minor": 0,
              "model_id": "a75536d966ee4dedafe330ee067f29cf"
            }
          },
          "metadata": {}
        },
        {
          "output_type": "stream",
          "name": "stdout",
          "text": [
            "train epoch: 25, cost: -118.76\n",
            "train epoch: 50, cost: -162.09\n",
            "train epoch: 75, cost: -177.97\n",
            "train epoch: 100, cost: -184.06\n",
            "train epoch: 125, cost: -187.81\n",
            "train epoch: 150, cost: -189.92\n",
            "train epoch: 175, cost: -191.24\n",
            "train epoch: 200, cost: -192.13\n",
            "train epoch: 225, cost: -192.74\n",
            "train epoch: 250, cost: -193.18\n",
            "train epoch: 275, cost: -193.50\n",
            "train epoch: 300, cost: -193.75\n",
            "train epoch: 325, cost: -193.93\n",
            "train epoch: 350, cost: -194.08\n",
            "train epoch: 375, cost: -194.20\n",
            "train epoch: 400, cost: -194.30\n",
            "train epoch: 425, cost: -194.38\n",
            "train epoch: 450, cost: -194.45\n",
            "train epoch: 475, cost: -194.50\n",
            "train epoch: 500, cost: -194.55\n",
            "train epoch: 525, cost: -194.59\n",
            "train epoch: 550, cost: -194.63\n",
            "train epoch: 575, cost: -194.66\n",
            "train epoch: 600, cost: -194.69\n",
            "train epoch: 625, cost: -194.71\n",
            "train epoch: 650, cost: -194.73\n",
            "train epoch: 675, cost: -194.75\n",
            "train epoch: 700, cost: -194.77\n",
            "train epoch: 725, cost: -194.79\n",
            "train epoch: 750, cost: -194.80\n",
            "train epoch: 775, cost: -194.81\n",
            "train epoch: 800, cost: -194.82\n",
            "train epoch: 825, cost: -194.83\n",
            "train epoch: 850, cost: -194.84\n",
            "train epoch: 875, cost: -194.85\n",
            "train epoch: 900, cost: -194.86\n",
            "train epoch: 925, cost: -194.87\n",
            "train epoch: 950, cost: -194.87\n",
            "train epoch: 975, cost: -194.88\n",
            "train epoch: 1000, cost: -194.89\n"
          ]
        }
      ]
    },
    {
      "cell_type": "code",
      "source": [
        "classification = get_classification(state.apply_fn, node_embeddings, A)"
      ],
      "metadata": {
        "id": "heUj5nA354qL"
      },
      "execution_count": 498,
      "outputs": []
    },
    {
      "cell_type": "code",
      "source": [
        "nx.draw(G, pos=nx.spring_layout(G, seed=2023), node_color=[\"yellow\" if c else \"lightblue\" for c in classification], with_labels=True)"
      ],
      "metadata": {
        "colab": {
          "base_uri": "https://localhost:8080/",
          "height": 319
        },
        "id": "Ujs6V6cC4_ot",
        "outputId": "829746e5-9706-4c83-df47-346e13d00bc5"
      },
      "execution_count": 499,
      "outputs": [
        {
          "output_type": "display_data",
          "data": {
            "text/plain": [
              "<Figure size 432x288 with 1 Axes>"
            ],
            "image/png": "[encoded data removed]"
          },
          "metadata": {}
        }
      ]
    },
    {
      "cell_type": "code",
      "source": [
        "[]"
      ],
      "metadata": {
        "colab": {
          "base_uri": "https://localhost:8080/"
        },
        "id": "0BF489687SB6",
        "outputId": "b1cca434-f3ce-4a08-db33-fe60388b30c6"
      },
      "execution_count": 500,
      "outputs": [
        {
          "output_type": "execute_result",
          "data": {
            "text/plain": [
              "[]"
            ]
          },
          "metadata": {},
          "execution_count": 500
        }
      ]
    }
  ]
}
