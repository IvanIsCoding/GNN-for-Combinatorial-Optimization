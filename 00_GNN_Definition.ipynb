{
 "cells": [
  {
   "cell_type": "markdown",
   "metadata": {},
   "source": [
    "# Graph Neural Networks for Solving Combinatorial Optimization Problems"
   ]
  },
  {
   "cell_type": "markdown",
   "metadata": {},
   "source": [
    "<a href=\"https://colab.research.google.com/github/IvanIsCoding/GNN-for-Combinatorial-Optimization/blob/main/00_GNN_Definition.ipynb\" target=\"_parent\"><img src=\"https://colab.research.google.com/assets/colab-badge.svg\" alt=\"Open In Colab\"/></a>"
   ]
  },
  {
   "cell_type": "markdown",
   "metadata": {},
   "source": [
    "Welcome! https://arxiv.org/abs/2107.01188"
   ]
  },
  {
   "cell_type": "code",
   "execution_count": null,
   "metadata": {},
   "outputs": [
    {
     "name": "stdout",
     "output_type": "stream",
     "text": [
      "GPU 0: Tesla T4 (UUID: GPU-7060d45f-6c2b-093c-2256-ea38603ee946)\n"
     ]
    }
   ],
   "source": [
    "!nvidia-smi -L"
   ]
  },
  {
   "cell_type": "markdown",
   "metadata": {},
   "source": [
    "During this notebook we will be using:\n",
    "* JAX: a numerical computation library for Python, supports automatic differentiation and many other cool things\n",
    "* Flax: machine learning library for Python built on top of JAX; Flax is very fexible and provides all the tools we need to implement the paper\n",
    "* PyQUBO: a library for building quadratic unconstrained binary optimization (QUBO) models; this paper is all about QUBOs, and PyQUBO lets us write them in a straightforward way\n",
    "\n",
    "Also, during the notebook you will see some comments on the cells to export code. This is because we use nbdev to create a package from this notebook. This will allow us to reuse all the code from this on the next ones!"
   ]
  },
  {
   "cell_type": "code",
   "execution_count": null,
   "metadata": {},
   "outputs": [],
   "source": [
    "!pip install -q flax pyqubo"
   ]
  },
  {
   "cell_type": "code",
   "execution_count": null,
   "metadata": {},
   "outputs": [],
   "source": [
    "# | default_exp core"
   ]
  },
  {
   "cell_type": "code",
   "execution_count": null,
   "metadata": {},
   "outputs": [],
   "source": [
    "# | export\n",
    "import jax\n",
    "import jax.numpy as jnp\n",
    "import numpy as np\n",
    "import networkx as nx  # for making graphs\n",
    "import optax  # for optimizing GNN with Adam\n",
    "\n",
    "from flax import linen as nn  # for defining the GNN\n",
    "from flax.training import train_state  # utility for training\n",
    "from pyqubo import Array  # for defining the QUBO\n",
    "from tqdm.notebook import trange, tqdm  # visualizing notebook progress"
   ]
  },
  {
   "cell_type": "markdown",
   "metadata": {},
   "source": [
    "## QUBO Background\n",
    "\n",
    "Now that we have installed and imported the libraries we need, let's dicuss QUBO formulations. \n",
    "\n",
    "QUBOs are a specific way to encode optimization problems. You have binary variables $x_{i} \\in \\{0, 1\\}$ and write a Hamiltonian:\n",
    "\n",
    "$$\n",
    "H = \\sum_{i=1}^{N} \\sum_{j=i+1}^{N} b_{i,j}x_{i}x_{j} \\sum_{i=1}^{N} a_{i} x_{i} + c\n",
    "$$\n",
    "\n",
    "Then, you give your Hamiltonian to a QUBO solver and (hopefully) the solver outputs a solution that minimizes $H$. Generally, the output from the solver is decoded and mapped back to a combinatorial optimization problem that is useful in the real-world. I recommend reading [Ising formulations of many NP problems\n",
    "](https://www.frontiersin.org/articles/10.3389/fphy.2014.00005/full) if you are interested more in the topic. Many, many problems can be encoded as QUBOs.\n",
    "\n",
    "There is also another convenient way of writing QUBO problems using matrices. Let $Q$ be the matrix describe the QUBO coefficients, then:\n",
    "\n",
    "$$\n",
    "H = x^\\intercal Q x\n",
    "$$\n",
    "\n",
    "They are equivalent, but for this specific case the matrix version is the one used in the paper. This makes sense for the implementation and given that the authors also want to reach the Deep Learning community that is familiar with linear algebra."
   ]
  },
  {
   "cell_type": "markdown",
   "metadata": {},
   "source": [
    "Two combinatorial optimization problems appear in the paper. The first one is the Max Cut problem. In the Max-Cut problem, you are given an undirected graph and a set of vertices. Your goal is to divide the vertices into two sets such that the number of edges connecting vertices in different sets is maximized. The Max-Cut problem has attracted a lot of interested from the research community (e.g. quantum computing), hence it is not surprising the authors chose it.\n",
    "\n",
    "The QUBO formulation for the Max-Cut given a weighted-graph $G = (V, E)$ is:\n",
    "\n",
    "$$\n",
    "H = \\sum_{(u, v) \\in E} W_{u, v} (x_{u} - x_{v})^{2}\n",
    "$$\n",
    "\n",
    "The hamiltonian $H$ encodes the cost of the cut. If $x_{u} = 0$, then the vertex $u$ is in the first set. Analogously, if $x_{u} = 1$ then $u$ is in the other set. Notice that $(x_{u} - x_{v})^{2}$ evaluates to $1$ if and only if the vertices are in different sets. There are two details worth noticing in our implementation: we assume the ede weights $W_{u, v}$ are all one; and we feed $-H$ to our solver, because the solver finds a minimum (not a maximum).\n",
    "\n",
    "The second optimization problem is the Maximum Independent Set (MIS). In the MIS, you are given a graph $G = (V, E)$ and your goal is to find a set of vertices such that no two vertices in the set are connected by an edge. This set is called an independent set. You want to find the independent set with the maximum number of vertices.\n",
    "\n",
    "The QUBO formulation for the MIS is:\n",
    "\n",
    "$$\n",
    "H = \\sum_{v \\in V} x_{v} - P \\sum_{(u, v) \\in E} x_{u}x_{v}\n",
    "$$\n",
    "\n",
    "Because QUBOs don't have constraints, P is a penalty we added to the formulation such that the MIS solution is valid. We set $P = 2$ as in the paper.\n",
    "\n",
    "Now that we discussed the formulations, let's implement them using PyQUBO. We have three functions: one for the Max-Cut formulation; one for the MIS formulation; and one for obtaining the Q matrix defined earlier."
   ]
  },
  {
   "cell_type": "code",
   "execution_count": null,
   "metadata": {},
   "outputs": [],
   "source": [
    "# | export\n",
    "def create_max_cut_model(graph):\n",
    "    N = graph.number_of_nodes()\n",
    "    X = Array.create(\"X\", shape=(N,), vartype=\"BINARY\")\n",
    "\n",
    "    hamiltonian = 0\n",
    "    for u, v in graph.edges:\n",
    "        hamiltonian -= (X[u] - X[v]) ** 2\n",
    "\n",
    "    return hamiltonian.compile()\n",
    "\n",
    "\n",
    "def create_mis_model(graph, penalty=2):\n",
    "    N = graph.number_of_nodes()\n",
    "    X = Array.create(\"X\", shape=(N,), vartype=\"BINARY\")\n",
    "\n",
    "    hamiltonian = -sum(X)\n",
    "    for u, v in graph.edges:\n",
    "        hamiltonian += penalty * (X[u] * X[v])\n",
    "\n",
    "    return hamiltonian.compile()\n",
    "\n",
    "\n",
    "def create_Q_matrix(graph, is_max_cut=True):\n",
    "    if is_max_cut:\n",
    "        model = create_max_cut_model(graph)\n",
    "    else:\n",
    "        model = create_mis_model(graph)\n",
    "\n",
    "    N = graph.number_of_nodes()\n",
    "    extract_val = lambda x: int(x[2:-1])\n",
    "    Q_matrix = np.zeros((N, N))\n",
    "\n",
    "    qubo_dict, _ = model.to_qubo()\n",
    "\n",
    "    for (a, b), quv in qubo_dict.items():\n",
    "        u = min(extract_val(a), extract_val(b))\n",
    "        v = max(extract_val(a), extract_val(b))\n",
    "        Q_matrix[u, v] = quv\n",
    "\n",
    "    return jnp.array(Q_matrix)"
   ]
  },
  {
   "cell_type": "markdown",
   "metadata": {},
   "source": [
    "The two functions below implement a cost inspired by the hamiltonian using the QUBO matrix discussed earlier:\n",
    "\n",
    "$$\n",
    "H = x^\\intercal Q x\n",
    "$$\n",
    "\n",
    "Notice that in the paper, as we will discussed later, we transition to a relaxed version of the Hamiltonian cost:\n",
    "\n",
    "$$\n",
    "\\mathcal{L}_{QUBO} = p_{\\Theta}^\\intercal Q p_{\\Theta} \n",
    "$$\n",
    "\n",
    "Where $p_{\\Theta}$ is a vector of probabilities. Instead of assigning 0 or 1 to the variables, the authors chose a continuous version which makes sense for training the GNN."
   ]
  },
  {
   "cell_type": "code",
   "execution_count": null,
   "metadata": {},
   "outputs": [],
   "source": [
    "# | export\n",
    "def qubo_approx_cost(probs, Q):\n",
    "    cost = jnp.sum(jnp.matmul(jnp.matmul(jnp.transpose(probs), Q), probs))\n",
    "    return cost"
   ]
  },
  {
   "cell_type": "code",
   "execution_count": null,
   "metadata": {},
   "outputs": [],
   "source": [
    "# | export\n",
    "def compute_metrics(*, probs, q_matrix):\n",
    "    energy = qubo_approx_cost(probs=probs, Q=q_matrix)\n",
    "    metrics = {\n",
    "        \"energy\": energy,\n",
    "    }\n",
    "    return metrics"
   ]
  },
  {
   "cell_type": "markdown",
   "metadata": {},
   "source": [
    "## The Graph Convolution\n",
    "\n",
    "We enter now the Neural Network section of the paper where we defined the architecture of the Graph Neural Network.\n",
    "\n",
    "The core idea is using message passing. Each vertex $i$ in the graph contains a node feature vector $\\textbf{x}_{i}$. The Graph Convolution learns to aggregate the messages of the vertex and its neighbours using $W_{1}$ and $W_{2}$:\n",
    "\n",
    "$$\n",
    "\\textbf{x}_{i}^{\\prime} = W_{1} \\textbf{x}_{i} + W_{2} \\sum_{j \\in \\mathcal{N}_{i}} e_{j, i} \\textbf{x}_{j}\n",
    "$$\n",
    "\n",
    "\n",
    "We implement the Graph Convolution below using Flax + JAX. To calcualte $\\sum_{j \\in \\mathcal{N}_{i}} e_{j, i} x_{j}$, we use the adjacency matrix of the graph. Notice that our implementation is focused on smaller graphs, hence we did not use sparse matrices (which is what powers the original paper)."
   ]
  },
  {
   "cell_type": "code",
   "execution_count": null,
   "metadata": {},
   "outputs": [],
   "source": [
    "# | export\n",
    "class GraphConvLayer(nn.Module):\n",
    "    c_out: int  # Output feature size\n",
    "\n",
    "    @nn.compact\n",
    "    def __call__(self, node_feats, adj_matrix):\n",
    "        node_feats_w1 = nn.Dense(features=self.c_out, use_bias=False)(node_feats)\n",
    "        node_feats_w2 = jax.lax.batch_matmul(adj_matrix, node_feats)\n",
    "        node_feats_w2 = nn.Dense(features=self.c_out)(node_feats_w2)\n",
    "        return node_feats_w1 + node_feats_w2"
   ]
  },
  {
   "cell_type": "markdown",
   "metadata": {},
   "source": [
    "## Unsupervised Learning and the Graph Neural Network \n",
    "\n",
    "\n",
    "With the Graph Convolution in hands, we can talk about the GNN architecture and its goals.\n",
    "\n",
    "The idea proposed is to apply unsupervised learning to learn the node labels of the optimal solution just by using $\\mathcal{L}_{QUBO}$. Let's say that the optimal solution is:\n",
    "\n",
    "$$\n",
    "x^\\intercal  = \\begin{bmatrix} 1, 0, 1, 0, 1 \\end{bmatrix}\n",
    "$$\n",
    "\n",
    "Then, our neural network is trying to predict probabiltiies that the label is 0 or 1. So $p_{\\Theta}$ would look something like this:\n",
    "\n",
    "$$\n",
    "p_{\\Theta}^\\intercal  = \\begin{bmatrix} 0.9, 0.05, 0.87, 0.13, 0.99 \\end{bmatrix}\n",
    "$$\n",
    "\n",
    "$\\mathcal{L}_{QUBO}$ would give us an approximate cost of the QUBO (as if $p_{\\Theta}$ were a superposition of many $x$). So overall, this is a pretty clever idea.\n",
    "\n",
    "To find $p_{\\Theta}$, they propose the following architecture for the GNN:\n",
    "* Initialize the feature vectors $\\textbf{x}_{i}$ for each vertex at random\n",
    "* $k$ layers consisting of:\n",
    "    * Applying the Graph Convolution\n",
    "    * Applying an activation function which in the case is ReLU\n",
    "    * Applying Dropout regularization to reduce overfitting\n",
    "\n",
    "On the last of the $k$ layers, no ReLU or Regularization is applied. Instead, a Softmax to predict the probabilities takes place.\n",
    "\n",
    "For the paper, the authors use $k = 2$ or $k = 3$ layers. For our Flax implementation. we use $k = 2$."
   ]
  },
  {
   "cell_type": "code",
   "execution_count": null,
   "metadata": {},
   "outputs": [],
   "source": [
    "# | export\n",
    "class CombGNN(nn.Module):\n",
    "    hidden_size: int\n",
    "    num_classes: int\n",
    "    dropout_frac: float\n",
    "\n",
    "    @nn.compact\n",
    "    def __call__(self, node_feats, adj_matrix, train=False):\n",
    "        # First convolution\n",
    "        h = GraphConvLayer(c_out=self.hidden_size)(\n",
    "            node_feats=node_feats, adj_matrix=adj_matrix\n",
    "        )\n",
    "        h = nn.relu(h)\n",
    "        h = nn.Dropout(rate=self.dropout_frac, deterministic=not train)(h)\n",
    "        # Second convolution\n",
    "        h = GraphConvLayer(c_out=self.num_classes)(node_feats=h, adj_matrix=adj_matrix)\n",
    "        probs = nn.sigmoid(h)\n",
    "\n",
    "        return probs"
   ]
  },
  {
   "cell_type": "markdown",
   "metadata": {},
   "source": [
    "## Training neural networks with Flax\n",
    "\n",
    "Now that we defined our architecture, it is time to write code to train the neural network!\n",
    "\n",
    "Flax provides a TrainState dataclass that is very convenient to keep track of the paramters. Hence the code below does:\n",
    "* Initiates the parameters for GNNComb using random values\n",
    "* Assigns the Adam optimizer with the given learning rate (using optax, the optimizer for JAX)\n",
    "* Returns a TrainState keeping track of our net, the current parameters, and all other hyperparameters we chose"
   ]
  },
  {
   "cell_type": "code",
   "execution_count": null,
   "metadata": {},
   "outputs": [],
   "source": [
    "# | export\n",
    "def create_train_state(\n",
    "    n_vertices, embedding_size, hidden_size, rng, learning_rate, dropout_frac=0.0\n",
    "):\n",
    "    gnn = CombGNN(hidden_size=hidden_size, num_classes=1, dropout_frac=dropout_frac)\n",
    "    dropout_rng = jax.random.PRNGKey(0)\n",
    "    params = gnn.init(\n",
    "        rngs={\"params\": rng, \"dropout\": dropout_rng},\n",
    "        node_feats=jnp.ones([n_vertices, embedding_size]),\n",
    "        adj_matrix=jnp.ones([n_vertices, n_vertices]),\n",
    "        train=True,\n",
    "    )[\"params\"]\n",
    "    tx = optax.adam(learning_rate)\n",
    "    return train_state.TrainState.create(apply_fn=gnn.apply, params=params, tx=tx)"
   ]
  },
  {
   "cell_type": "markdown",
   "metadata": {},
   "source": [
    "After we have our convenient TrainState class, we are going to perform training steps on them. One of the true magics of JAX is it just-in-time compilation. We apply the `@jax.jit` decorator to compile the code and make things super fast!\n",
    "\n",
    "To train the neural network, we:\n",
    "* Evaluate the GNN using the current parameters\n",
    "* Calcualte the cost $\\mathcal{L}_{QUBO}$\n",
    "* Calcualte the gradients using JAX, which does all the backpropagation for us\n",
    "* Let the optimizer handle the gradients and update the parameters"
   ]
  },
  {
   "cell_type": "code",
   "execution_count": null,
   "metadata": {},
   "outputs": [],
   "source": [
    "# | export\n",
    "@jax.jit\n",
    "def train_step(state, node_embeddings, adj_matrix, q_matrix, dropout_rng):\n",
    "    \"\"\"Train for a single step.\"\"\"\n",
    "\n",
    "    def cost_fn(params):\n",
    "        probs = state.apply_fn(\n",
    "            {\"params\": params},\n",
    "            node_embeddings,\n",
    "            adj_matrix,\n",
    "            rngs={\"dropout\": dropout_rng},\n",
    "            train=True,\n",
    "        )\n",
    "        cost = qubo_approx_cost(probs=probs, Q=q_matrix)\n",
    "        return cost, probs\n",
    "\n",
    "    grad_fn = jax.grad(cost_fn, has_aux=True)\n",
    "    grads, probs = grad_fn(state.params)\n",
    "    state = state.apply_gradients(grads=grads)\n",
    "    metrics = compute_metrics(probs=probs, q_matrix=q_matrix)\n",
    "    return state, metrics"
   ]
  },
  {
   "cell_type": "markdown",
   "metadata": {},
   "source": [
    "Last but not least on our training steps, is an utility method to recover the classifications. We are not interested in probabilities at the end. We want zeroes or ones!"
   ]
  },
  {
   "cell_type": "code",
   "execution_count": null,
   "metadata": {},
   "outputs": [],
   "source": [
    "# | export\n",
    "def get_classification(apply_fn, params, node_embeddings, adj_matrix):\n",
    "    pred_probs = apply_fn({\"params\": params}, node_embeddings, adj_matrix)\n",
    "    classification = jnp.where(pred_probs >= 0.5, 1, 0)\n",
    "    return np.ravel(classification)"
   ]
  },
  {
   "cell_type": "markdown",
   "metadata": {},
   "source": [
    "# Max-Cut On Example Graph\n",
    "\n",
    "After all this introduction, it is time to check if our implementation works, right? We will start with the Max-Cut case.\n",
    "\n",
    "We check our implementation against the small example present in the paper. So let's first define and visualize our graph."
   ]
  },
  {
   "cell_type": "code",
   "execution_count": null,
   "metadata": {},
   "outputs": [],
   "source": [
    "edgelist = [(0, 1), (1, 2), (2, 3), (3, 0), (1, 4), (2, 4)]\n",
    "G = nx.from_edgelist(edgelist)"
   ]
  },
  {
   "cell_type": "code",
   "execution_count": null,
   "metadata": {},
   "outputs": [
    {
     "data": {
      "image/png": "[encoded data removed]",
      "text/plain": [
       "<Figure size 432x288 with 1 Axes>"
      ]
     },
     "metadata": {},
     "output_type": "display_data"
    }
   ],
   "source": [
    "nx.draw(G, pos=nx.spring_layout(G, seed=2023))"
   ]
  },
  {
   "cell_type": "markdown",
   "metadata": {},
   "source": [
    "Alright, our graph looks ready. Time to calculate two very important matrices for our training steps: the adjacency matrix $A$ and the QUBO matrix $Q$. $A$ is used in the graph convolutions and $Q$ is used for the cost. We take a peek at $A$ and $Q$ to check if they are correct"
   ]
  },
  {
   "cell_type": "code",
   "execution_count": null,
   "metadata": {},
   "outputs": [],
   "source": [
    "A = jnp.array(nx.to_numpy_array(G))"
   ]
  },
  {
   "cell_type": "code",
   "execution_count": null,
   "metadata": {},
   "outputs": [
    {
     "data": {
      "text/plain": [
       "DeviceArray([[0., 1., 0., 1., 0.],\n",
       "             [1., 0., 1., 0., 1.],\n",
       "             [0., 1., 0., 1., 1.],\n",
       "             [1., 0., 1., 0., 0.],\n",
       "             [0., 1., 1., 0., 0.]], dtype=float32)"
      ]
     },
     "execution_count": null,
     "metadata": {},
     "output_type": "execute_result"
    }
   ],
   "source": [
    "A"
   ]
  },
  {
   "cell_type": "code",
   "execution_count": null,
   "metadata": {},
   "outputs": [],
   "source": [
    "Q = create_Q_matrix(G)"
   ]
  },
  {
   "cell_type": "code",
   "execution_count": null,
   "metadata": {},
   "outputs": [
    {
     "data": {
      "text/plain": [
       "DeviceArray([[-2.,  2.,  0.,  2.,  0.],\n",
       "             [ 0., -3.,  2.,  0.,  2.],\n",
       "             [ 0.,  0., -3.,  2.,  2.],\n",
       "             [ 0.,  0.,  0., -2.,  0.],\n",
       "             [ 0.,  0.,  0.,  0., -2.]], dtype=float32)"
      ]
     },
     "execution_count": null,
     "metadata": {},
     "output_type": "execute_result"
    }
   ],
   "source": [
    "Q"
   ]
  },
  {
   "cell_type": "markdown",
   "metadata": {},
   "source": [
    "The matrices look right. Time to train the neural network! The code:\n",
    "* Creates the random number keys we need for initializing the network, embeddings, and training\n",
    "* Defines our learning rate, size of node featurs, and size of the hidden features\n",
    "* Trains the network for 500 epochs\n",
    "\n",
    "note: JAX has a very particular way of working with random numbers; if you are new to JAX, pay attention to that"
   ]
  },
  {
   "cell_type": "code",
   "execution_count": null,
   "metadata": {},
   "outputs": [],
   "source": [
    "rng = jax.random.PRNGKey(2023)\n",
    "rng, init_rng = jax.random.split(rng)\n",
    "rng, embed_rng = jax.random.split(rng)"
   ]
  },
  {
   "cell_type": "code",
   "execution_count": null,
   "metadata": {},
   "outputs": [],
   "source": [
    "learning_rate = 0.005"
   ]
  },
  {
   "cell_type": "code",
   "execution_count": null,
   "metadata": {},
   "outputs": [],
   "source": [
    "embedding_d0 = 5\n",
    "embedding_d1 = embedding_d0 // 2"
   ]
  },
  {
   "cell_type": "code",
   "execution_count": null,
   "metadata": {},
   "outputs": [],
   "source": [
    "state = create_train_state(\n",
    "    G.number_of_nodes(), embedding_d0, embedding_d1, init_rng, learning_rate\n",
    ")"
   ]
  },
  {
   "cell_type": "code",
   "execution_count": null,
   "metadata": {},
   "outputs": [],
   "source": [
    "node_embeddings = jax.random.uniform(embed_rng, [G.number_of_nodes(), embedding_d0])"
   ]
  },
  {
   "cell_type": "code",
   "execution_count": null,
   "metadata": {},
   "outputs": [
    {
     "data": {
      "text/plain": [
       "DeviceArray([[0.90081596, 0.38583064, 0.02542734, 0.7263125 , 0.77239466],\n",
       "             [0.13210392, 0.2291317 , 0.15860796, 0.39851677, 0.9010197 ],\n",
       "             [0.5372865 , 0.6941434 , 0.948866  , 0.5196214 , 0.97492456],\n",
       "             [0.13318086, 0.49488008, 0.6443068 , 0.95046246, 0.5960568 ],\n",
       "             [0.19223976, 0.44076335, 0.9235079 , 0.26473606, 0.49318063]],            dtype=float32)"
      ]
     },
     "execution_count": null,
     "metadata": {},
     "output_type": "execute_result"
    }
   ],
   "source": [
    "node_embeddings"
   ]
  },
  {
   "cell_type": "code",
   "execution_count": null,
   "metadata": {},
   "outputs": [],
   "source": [
    "num_epochs = 500"
   ]
  },
  {
   "cell_type": "code",
   "execution_count": null,
   "metadata": {},
   "outputs": [
    {
     "data": {
      "application/vnd.jupyter.widget-view+json": {
       "model_id": "69b2e4021db24ff5af8b4fdb92c8cdba",
       "version_major": 2,
       "version_minor": 0
      },
      "text/plain": [
       "  0%|          | 0/500 [00:00<?, ?it/s]"
      ]
     },
     "metadata": {},
     "output_type": "display_data"
    },
    {
     "name": "stdout",
     "output_type": "stream",
     "text": [
      "train epoch: 25, cost: -0.34\n",
      "train epoch: 50, cost: -2.10\n",
      "train epoch: 75, cost: -3.84\n",
      "train epoch: 100, cost: -4.42\n",
      "train epoch: 125, cost: -4.66\n",
      "train epoch: 150, cost: -4.78\n",
      "train epoch: 175, cost: -4.84\n",
      "train epoch: 200, cost: -4.88\n",
      "train epoch: 225, cost: -4.91\n",
      "train epoch: 250, cost: -4.93\n",
      "train epoch: 275, cost: -4.94\n",
      "train epoch: 300, cost: -4.95\n",
      "train epoch: 325, cost: -4.96\n",
      "train epoch: 350, cost: -4.96\n",
      "train epoch: 375, cost: -4.97\n",
      "train epoch: 400, cost: -4.97\n",
      "train epoch: 425, cost: -4.97\n",
      "train epoch: 450, cost: -4.98\n",
      "train epoch: 475, cost: -4.98\n",
      "train epoch: 500, cost: -4.98\n"
     ]
    }
   ],
   "source": [
    "for epoch in trange(1, num_epochs + 1):\n",
    "    rng, dropout_rng = jax.random.split(rng)\n",
    "    state, metrics = train_step(\n",
    "        state=state,\n",
    "        node_embeddings=node_embeddings,\n",
    "        adj_matrix=A,\n",
    "        q_matrix=Q,\n",
    "        dropout_rng=dropout_rng,\n",
    "    )\n",
    "\n",
    "    if epoch % 25 == 0:\n",
    "        print(\"train epoch: %d, cost: %.2f\" % (epoch, metrics[\"energy\"]))"
   ]
  },
  {
   "cell_type": "markdown",
   "metadata": {},
   "source": [
    "After finding the optimal parameters, let's examine the solution the network found:"
   ]
  },
  {
   "cell_type": "code",
   "execution_count": null,
   "metadata": {},
   "outputs": [
    {
     "data": {
      "text/plain": [
       "DeviceArray([[9.9998617e-01],\n",
       "             [2.1988944e-04],\n",
       "             [9.9997127e-01],\n",
       "             [2.0501104e-03],\n",
       "             [9.9555635e-01]], dtype=float32)"
      ]
     },
     "execution_count": null,
     "metadata": {},
     "output_type": "execute_result"
    }
   ],
   "source": [
    "state.apply_fn({\"params\": state.params}, node_embeddings, A, train=True)"
   ]
  },
  {
   "cell_type": "markdown",
   "metadata": {},
   "source": [
    "Probabilities are not very useful, so let's convert them to zeroes and ones and visualize:"
   ]
  },
  {
   "cell_type": "code",
   "execution_count": null,
   "metadata": {},
   "outputs": [],
   "source": [
    "classification = get_classification(state.apply_fn, state.params, node_embeddings, A)"
   ]
  },
  {
   "cell_type": "code",
   "execution_count": null,
   "metadata": {},
   "outputs": [
    {
     "data": {
      "image/png": "[encoded data removed]",
      "text/plain": [
       "<Figure size 432x288 with 1 Axes>"
      ]
     },
     "metadata": {},
     "output_type": "display_data"
    }
   ],
   "source": [
    "nx.draw(\n",
    "    G,\n",
    "    pos=nx.spring_layout(G, seed=2023),\n",
    "    node_color=[\"yellow\" if c else \"lightblue\" for c in classification],\n",
    "    with_labels=True,\n",
    ")"
   ]
  },
  {
   "cell_type": "markdown",
   "metadata": {},
   "source": [
    "The GNN found the optimal solution to the problem! The Max-Cut of the graph is 5 because of the edges $\\{ (0, 1), (0, 3), (2, 1), (2, 3), (4, 1)\\}$. Hence the code worked!"
   ]
  },
  {
   "cell_type": "markdown",
   "metadata": {},
   "source": [
    "# Maximum Independet Set on Example Graph"
   ]
  },
  {
   "cell_type": "code",
   "execution_count": null,
   "metadata": {},
   "outputs": [],
   "source": [
    "A = jnp.array(nx.to_numpy_array(G))\n",
    "Q = create_Q_matrix(G, is_max_cut=False)"
   ]
  },
  {
   "cell_type": "code",
   "execution_count": null,
   "metadata": {},
   "outputs": [
    {
     "data": {
      "text/plain": [
       "DeviceArray([[-1.,  2.,  0.,  2.,  0.],\n",
       "             [ 0., -1.,  2.,  0.,  2.],\n",
       "             [ 0.,  0., -1.,  2.,  2.],\n",
       "             [ 0.,  0.,  0., -1.,  0.],\n",
       "             [ 0.,  0.,  0.,  0., -1.]], dtype=float32)"
      ]
     },
     "execution_count": null,
     "metadata": {},
     "output_type": "execute_result"
    }
   ],
   "source": [
    "Q"
   ]
  },
  {
   "cell_type": "code",
   "execution_count": null,
   "metadata": {},
   "outputs": [],
   "source": [
    "rng = jax.random.PRNGKey(666)  # yeah I know\n",
    "rng, init_rng = jax.random.split(rng)\n",
    "rng, embed_rng = jax.random.split(rng)"
   ]
  },
  {
   "cell_type": "code",
   "execution_count": null,
   "metadata": {},
   "outputs": [],
   "source": [
    "learning_rate = 0.01"
   ]
  },
  {
   "cell_type": "code",
   "execution_count": null,
   "metadata": {},
   "outputs": [],
   "source": [
    "embedding_d0 = 5\n",
    "embedding_d1 = embedding_d0 // 2"
   ]
  },
  {
   "cell_type": "code",
   "execution_count": null,
   "metadata": {},
   "outputs": [],
   "source": [
    "state = create_train_state(\n",
    "    G.number_of_nodes(), embedding_d0, embedding_d1, init_rng, learning_rate\n",
    ")"
   ]
  },
  {
   "cell_type": "code",
   "execution_count": null,
   "metadata": {},
   "outputs": [],
   "source": [
    "node_embeddings = jax.random.uniform(embed_rng, [G.number_of_nodes(), embedding_d0])"
   ]
  },
  {
   "cell_type": "code",
   "execution_count": null,
   "metadata": {},
   "outputs": [],
   "source": [
    "num_epochs = 500"
   ]
  },
  {
   "cell_type": "code",
   "execution_count": null,
   "metadata": {},
   "outputs": [
    {
     "data": {
      "application/vnd.jupyter.widget-view+json": {
       "model_id": "289bb88260454d41ab720137cd3c83bf",
       "version_major": 2,
       "version_minor": 0
      },
      "text/plain": [
       "  0%|          | 0/500 [00:00<?, ?it/s]"
      ]
     },
     "metadata": {},
     "output_type": "display_data"
    },
    {
     "name": "stdout",
     "output_type": "stream",
     "text": [
      "train epoch: 25, cost: -0.01\n",
      "train epoch: 50, cost: -0.01\n",
      "train epoch: 75, cost: -0.07\n",
      "train epoch: 100, cost: -0.61\n",
      "train epoch: 125, cost: -1.60\n",
      "train epoch: 150, cost: -1.89\n",
      "train epoch: 175, cost: -1.94\n",
      "train epoch: 200, cost: -1.96\n",
      "train epoch: 225, cost: -1.97\n",
      "train epoch: 250, cost: -1.98\n",
      "train epoch: 275, cost: -1.98\n",
      "train epoch: 300, cost: -1.99\n",
      "train epoch: 325, cost: -1.99\n",
      "train epoch: 350, cost: -1.99\n",
      "train epoch: 375, cost: -1.99\n",
      "train epoch: 400, cost: -1.99\n",
      "train epoch: 425, cost: -1.99\n",
      "train epoch: 450, cost: -1.99\n",
      "train epoch: 475, cost: -1.99\n",
      "train epoch: 500, cost: -2.00\n"
     ]
    }
   ],
   "source": [
    "for epoch in trange(1, num_epochs + 1):\n",
    "    state, metrics = train_step(\n",
    "        state=state,\n",
    "        node_embeddings=node_embeddings,\n",
    "        adj_matrix=A,\n",
    "        q_matrix=Q,\n",
    "        dropout_rng=dropout_rng,\n",
    "    )\n",
    "\n",
    "    if epoch % 25 == 0:\n",
    "        print(\"train epoch: %d, cost: %.2f\" % (epoch, metrics[\"energy\"]))"
   ]
  },
  {
   "cell_type": "code",
   "execution_count": null,
   "metadata": {},
   "outputs": [],
   "source": [
    "classification = get_classification(state.apply_fn, state.params, node_embeddings, A)"
   ]
  },
  {
   "cell_type": "code",
   "execution_count": null,
   "metadata": {},
   "outputs": [
    {
     "data": {
      "image/png": "[encoded data removed]",
      "text/plain": [
       "<Figure size 432x288 with 1 Axes>"
      ]
     },
     "metadata": {},
     "output_type": "display_data"
    }
   ],
   "source": [
    "nx.draw(\n",
    "    G,\n",
    "    pos=nx.spring_layout(G, seed=2023),\n",
    "    node_color=[\"yellow\" if c else \"lightblue\" for c in classification],\n",
    "    with_labels=True,\n",
    ")"
   ]
  },
  {
   "cell_type": "markdown",
   "metadata": {},
   "source": [
    "# Max-Cut on Larger Graph\n"
   ]
  },
  {
   "cell_type": "code",
   "execution_count": null,
   "metadata": {},
   "outputs": [],
   "source": [
    "G = nx.convert_node_labels_to_integers(\n",
    "    nx.fast_gnp_random_graph(n=100, p=0.05, seed=2023)\n",
    ")\n",
    "A = jnp.array(nx.to_numpy_array(G))\n",
    "Q = create_Q_matrix(G)"
   ]
  },
  {
   "cell_type": "code",
   "execution_count": null,
   "metadata": {},
   "outputs": [
    {
     "data": {
      "image/png": "[encoded data removed]",
      "text/plain": [
       "<Figure size 432x288 with 1 Axes>"
      ]
     },
     "metadata": {},
     "output_type": "display_data"
    }
   ],
   "source": [
    "nx.draw(G, pos=nx.spring_layout(G, seed=2023), with_labels=True)"
   ]
  },
  {
   "cell_type": "code",
   "execution_count": null,
   "metadata": {},
   "outputs": [],
   "source": [
    "embedding_d0 = int(np.sqrt(G.number_of_nodes()))\n",
    "embedding_d1 = embedding_d0 // 2"
   ]
  },
  {
   "cell_type": "code",
   "execution_count": null,
   "metadata": {},
   "outputs": [],
   "source": [
    "rng = jax.random.PRNGKey(2023)\n",
    "rng, init_rng = jax.random.split(rng)\n",
    "rng, embed_rng = jax.random.split(rng)\n",
    "state = create_train_state(\n",
    "    G.number_of_nodes(),\n",
    "    embedding_d0,\n",
    "    embedding_d1,\n",
    "    init_rng,\n",
    "    learning_rate,\n",
    "    dropout_frac=0.01,\n",
    ")"
   ]
  },
  {
   "cell_type": "code",
   "execution_count": null,
   "metadata": {},
   "outputs": [],
   "source": [
    "node_embeddings = jax.random.uniform(embed_rng, [G.number_of_nodes(), embedding_d0])"
   ]
  },
  {
   "cell_type": "code",
   "execution_count": null,
   "metadata": {},
   "outputs": [],
   "source": [
    "num_epochs = 1000"
   ]
  },
  {
   "cell_type": "code",
   "execution_count": null,
   "metadata": {},
   "outputs": [
    {
     "data": {
      "application/vnd.jupyter.widget-view+json": {
       "model_id": "bef4345cde034b1da8cb4bded8065e21",
       "version_major": 2,
       "version_minor": 0
      },
      "text/plain": [
       "  0%|          | 0/1000 [00:00<?, ?it/s]"
      ]
     },
     "metadata": {},
     "output_type": "display_data"
    },
    {
     "name": "stdout",
     "output_type": "stream",
     "text": [
      "train epoch: 25, cost: -119.44\n",
      "train epoch: 50, cost: -143.59\n",
      "train epoch: 75, cost: -168.37\n",
      "train epoch: 100, cost: -176.33\n",
      "train epoch: 125, cost: -177.63\n",
      "train epoch: 150, cost: -181.75\n",
      "train epoch: 175, cost: -174.95\n",
      "train epoch: 200, cost: -185.43\n",
      "train epoch: 225, cost: -185.26\n",
      "train epoch: 250, cost: -184.12\n",
      "train epoch: 275, cost: -192.22\n",
      "train epoch: 300, cost: -190.46\n",
      "train epoch: 325, cost: -190.28\n",
      "train epoch: 350, cost: -194.29\n",
      "train epoch: 375, cost: -194.64\n",
      "train epoch: 400, cost: -187.61\n",
      "train epoch: 425, cost: -190.77\n",
      "train epoch: 450, cost: -195.63\n",
      "train epoch: 475, cost: -195.76\n",
      "train epoch: 500, cost: -193.19\n",
      "train epoch: 525, cost: -196.21\n",
      "train epoch: 550, cost: -196.09\n",
      "train epoch: 575, cost: -195.81\n",
      "train epoch: 600, cost: -196.26\n",
      "train epoch: 625, cost: -196.10\n",
      "train epoch: 650, cost: -190.07\n",
      "train epoch: 675, cost: -194.42\n",
      "train epoch: 700, cost: -197.08\n",
      "train epoch: 725, cost: -197.10\n",
      "train epoch: 750, cost: -193.38\n",
      "train epoch: 775, cost: -193.56\n",
      "train epoch: 800, cost: -197.20\n",
      "train epoch: 825, cost: -197.22\n",
      "train epoch: 850, cost: -197.35\n",
      "train epoch: 875, cost: -196.61\n",
      "train epoch: 900, cost: -195.16\n",
      "train epoch: 925, cost: -197.41\n",
      "train epoch: 950, cost: -195.31\n",
      "train epoch: 975, cost: -197.55\n",
      "train epoch: 1000, cost: -197.45\n"
     ]
    }
   ],
   "source": [
    "for epoch in trange(1, num_epochs + 1):\n",
    "    rng, dropout_rng = jax.random.split(rng)\n",
    "    state, metrics = train_step(\n",
    "        state=state,\n",
    "        node_embeddings=node_embeddings,\n",
    "        adj_matrix=A,\n",
    "        q_matrix=Q,\n",
    "        dropout_rng=dropout_rng,\n",
    "    )\n",
    "\n",
    "    if epoch % 25 == 0:\n",
    "        print(\"train epoch: %d, cost: %.2f\" % (epoch, metrics[\"energy\"]))"
   ]
  },
  {
   "cell_type": "code",
   "execution_count": null,
   "metadata": {},
   "outputs": [],
   "source": [
    "classification = get_classification(state.apply_fn, state.params, node_embeddings, A)"
   ]
  },
  {
   "cell_type": "code",
   "execution_count": null,
   "metadata": {},
   "outputs": [
    {
     "data": {
      "image/png": "[encoded data removed]",
      "text/plain": [
       "<Figure size 432x288 with 1 Axes>"
      ]
     },
     "metadata": {},
     "output_type": "display_data"
    }
   ],
   "source": [
    "nx.draw(\n",
    "    G,\n",
    "    pos=nx.spring_layout(G, seed=2023),\n",
    "    node_color=[\"yellow\" if c else \"lightblue\" for c in classification],\n",
    "    with_labels=True,\n",
    ")"
   ]
  }
 ],
 "metadata": {
  "kernelspec": {
   "display_name": "Python 3",
   "language": "python",
   "name": "python3"
  },
  "language_info": {
   "codemirror_mode": {
    "name": "ipython",
    "version": 3
   },
   "file_extension": ".py",
   "mimetype": "text/x-python",
   "name": "python",
   "nbconvert_exporter": "python",
   "pygments_lexer": "ipython3",
   "version": "3.10.8"
  },
  "widgets": {
   "application/vnd.jupyter.widget-state+json": {
    "1cb677dff7f54f57b740301694e59e51": {
     "model_module": "@jupyter-widgets/controls",
     "model_module_version": "1.5.0",
     "model_name": "DescriptionStyleModel",
     "state": {
      "_model_module": "@jupyter-widgets/controls",
      "_model_module_version": "1.5.0",
      "_model_name": "DescriptionStyleModel",
      "_view_count": null,
      "_view_module": "@jupyter-widgets/base",
      "_view_module_version": "1.2.0",
      "_view_name": "StyleView",
      "description_width": ""
     }
    },
    "1e7238815b1e4c8ead07c15019fcdf2a": {
     "model_module": "@jupyter-widgets/base",
     "model_module_version": "1.2.0",
     "model_name": "LayoutModel",
     "state": {
      "_model_module": "@jupyter-widgets/base",
      "_model_module_version": "1.2.0",
      "_model_name": "LayoutModel",
      "_view_count": null,
      "_view_module": "@jupyter-widgets/base",
      "_view_module_version": "1.2.0",
      "_view_name": "LayoutView",
      "align_content": null,
      "align_items": null,
      "align_self": null,
      "border": null,
      "bottom": null,
      "display": null,
      "flex": null,
      "flex_flow": null,
      "grid_area": null,
      "grid_auto_columns": null,
      "grid_auto_flow": null,
      "grid_auto_rows": null,
      "grid_column": null,
      "grid_gap": null,
      "grid_row": null,
      "grid_template_areas": null,
      "grid_template_columns": null,
      "grid_template_rows": null,
      "height": null,
      "justify_content": null,
      "justify_items": null,
      "left": null,
      "margin": null,
      "max_height": null,
      "max_width": null,
      "min_height": null,
      "min_width": null,
      "object_fit": null,
      "object_position": null,
      "order": null,
      "overflow": null,
      "overflow_x": null,
      "overflow_y": null,
      "padding": null,
      "right": null,
      "top": null,
      "visibility": null,
      "width": null
     }
    },
    "229626abd4c54dc4a0da659cf4dee270": {
     "model_module": "@jupyter-widgets/base",
     "model_module_version": "1.2.0",
     "model_name": "LayoutModel",
     "state": {
      "_model_module": "@jupyter-widgets/base",
      "_model_module_version": "1.2.0",
      "_model_name": "LayoutModel",
      "_view_count": null,
      "_view_module": "@jupyter-widgets/base",
      "_view_module_version": "1.2.0",
      "_view_name": "LayoutView",
      "align_content": null,
      "align_items": null,
      "align_self": null,
      "border": null,
      "bottom": null,
      "display": null,
      "flex": null,
      "flex_flow": null,
      "grid_area": null,
      "grid_auto_columns": null,
      "grid_auto_flow": null,
      "grid_auto_rows": null,
      "grid_column": null,
      "grid_gap": null,
      "grid_row": null,
      "grid_template_areas": null,
      "grid_template_columns": null,
      "grid_template_rows": null,
      "height": null,
      "justify_content": null,
      "justify_items": null,
      "left": null,
      "margin": null,
      "max_height": null,
      "max_width": null,
      "min_height": null,
      "min_width": null,
      "object_fit": null,
      "object_position": null,
      "order": null,
      "overflow": null,
      "overflow_x": null,
      "overflow_y": null,
      "padding": null,
      "right": null,
      "top": null,
      "visibility": null,
      "width": null
     }
    },
    "289bb88260454d41ab720137cd3c83bf": {
     "model_module": "@jupyter-widgets/controls",
     "model_module_version": "1.5.0",
     "model_name": "HBoxModel",
     "state": {
      "_dom_classes": [],
      "_model_module": "@jupyter-widgets/controls",
      "_model_module_version": "1.5.0",
      "_model_name": "HBoxModel",
      "_view_count": null,
      "_view_module": "@jupyter-widgets/controls",
      "_view_module_version": "1.5.0",
      "_view_name": "HBoxView",
      "box_style": "",
      "children": [
       "IPY_MODEL_c270cc8c90c14043bf034ddb3bdf2eaa",
       "IPY_MODEL_37b06e31509941e18eea19c443c8dbe8",
       "IPY_MODEL_b5a2f0aa0f664c3daef427c1a562f266"
      ],
      "layout": "IPY_MODEL_edf46a49120341c3b8686e7b5b83a1cc"
     }
    },
    "28cdeb80a26d48f196627f8e41fcab3d": {
     "model_module": "@jupyter-widgets/controls",
     "model_module_version": "1.5.0",
     "model_name": "DescriptionStyleModel",
     "state": {
      "_model_module": "@jupyter-widgets/controls",
      "_model_module_version": "1.5.0",
      "_model_name": "DescriptionStyleModel",
      "_view_count": null,
      "_view_module": "@jupyter-widgets/base",
      "_view_module_version": "1.2.0",
      "_view_name": "StyleView",
      "description_width": ""
     }
    },
    "37b06e31509941e18eea19c443c8dbe8": {
     "model_module": "@jupyter-widgets/controls",
     "model_module_version": "1.5.0",
     "model_name": "FloatProgressModel",
     "state": {
      "_dom_classes": [],
      "_model_module": "@jupyter-widgets/controls",
      "_model_module_version": "1.5.0",
      "_model_name": "FloatProgressModel",
      "_view_count": null,
      "_view_module": "@jupyter-widgets/controls",
      "_view_module_version": "1.5.0",
      "_view_name": "ProgressView",
      "bar_style": "success",
      "description": "",
      "description_tooltip": null,
      "layout": "IPY_MODEL_98c354ba531d4d30884b7b4d486bebfa",
      "max": 500,
      "min": 0,
      "orientation": "horizontal",
      "style": "IPY_MODEL_70df5b5cd0e54a0a8102bed523272fd8",
      "value": 500
     }
    },
    "3aa6efd0721b44d5910e6437e4e78f81": {
     "model_module": "@jupyter-widgets/base",
     "model_module_version": "1.2.0",
     "model_name": "LayoutModel",
     "state": {
      "_model_module": "@jupyter-widgets/base",
      "_model_module_version": "1.2.0",
      "_model_name": "LayoutModel",
      "_view_count": null,
      "_view_module": "@jupyter-widgets/base",
      "_view_module_version": "1.2.0",
      "_view_name": "LayoutView",
      "align_content": null,
      "align_items": null,
      "align_self": null,
      "border": null,
      "bottom": null,
      "display": null,
      "flex": null,
      "flex_flow": null,
      "grid_area": null,
      "grid_auto_columns": null,
      "grid_auto_flow": null,
      "grid_auto_rows": null,
      "grid_column": null,
      "grid_gap": null,
      "grid_row": null,
      "grid_template_areas": null,
      "grid_template_columns": null,
      "grid_template_rows": null,
      "height": null,
      "justify_content": null,
      "justify_items": null,
      "left": null,
      "margin": null,
      "max_height": null,
      "max_width": null,
      "min_height": null,
      "min_width": null,
      "object_fit": null,
      "object_position": null,
      "order": null,
      "overflow": null,
      "overflow_x": null,
      "overflow_y": null,
      "padding": null,
      "right": null,
      "top": null,
      "visibility": null,
      "width": null
     }
    },
    "3abb3c0f9c094d369a19af9defd8b454": {
     "model_module": "@jupyter-widgets/base",
     "model_module_version": "1.2.0",
     "model_name": "LayoutModel",
     "state": {
      "_model_module": "@jupyter-widgets/base",
      "_model_module_version": "1.2.0",
      "_model_name": "LayoutModel",
      "_view_count": null,
      "_view_module": "@jupyter-widgets/base",
      "_view_module_version": "1.2.0",
      "_view_name": "LayoutView",
      "align_content": null,
      "align_items": null,
      "align_self": null,
      "border": null,
      "bottom": null,
      "display": null,
      "flex": null,
      "flex_flow": null,
      "grid_area": null,
      "grid_auto_columns": null,
      "grid_auto_flow": null,
      "grid_auto_rows": null,
      "grid_column": null,
      "grid_gap": null,
      "grid_row": null,
      "grid_template_areas": null,
      "grid_template_columns": null,
      "grid_template_rows": null,
      "height": null,
      "justify_content": null,
      "justify_items": null,
      "left": null,
      "margin": null,
      "max_height": null,
      "max_width": null,
      "min_height": null,
      "min_width": null,
      "object_fit": null,
      "object_position": null,
      "order": null,
      "overflow": null,
      "overflow_x": null,
      "overflow_y": null,
      "padding": null,
      "right": null,
      "top": null,
      "visibility": null,
      "width": null
     }
    },
    "492110574f1141db97f8554f5bc11fe6": {
     "model_module": "@jupyter-widgets/base",
     "model_module_version": "1.2.0",
     "model_name": "LayoutModel",
     "state": {
      "_model_module": "@jupyter-widgets/base",
      "_model_module_version": "1.2.0",
      "_model_name": "LayoutModel",
      "_view_count": null,
      "_view_module": "@jupyter-widgets/base",
      "_view_module_version": "1.2.0",
      "_view_name": "LayoutView",
      "align_content": null,
      "align_items": null,
      "align_self": null,
      "border": null,
      "bottom": null,
      "display": null,
      "flex": null,
      "flex_flow": null,
      "grid_area": null,
      "grid_auto_columns": null,
      "grid_auto_flow": null,
      "grid_auto_rows": null,
      "grid_column": null,
      "grid_gap": null,
      "grid_row": null,
      "grid_template_areas": null,
      "grid_template_columns": null,
      "grid_template_rows": null,
      "height": null,
      "justify_content": null,
      "justify_items": null,
      "left": null,
      "margin": null,
      "max_height": null,
      "max_width": null,
      "min_height": null,
      "min_width": null,
      "object_fit": null,
      "object_position": null,
      "order": null,
      "overflow": null,
      "overflow_x": null,
      "overflow_y": null,
      "padding": null,
      "right": null,
      "top": null,
      "visibility": null,
      "width": null
     }
    },
    "498bad21a6a0495aab4f46881af6b042": {
     "model_module": "@jupyter-widgets/controls",
     "model_module_version": "1.5.0",
     "model_name": "DescriptionStyleModel",
     "state": {
      "_model_module": "@jupyter-widgets/controls",
      "_model_module_version": "1.5.0",
      "_model_name": "DescriptionStyleModel",
      "_view_count": null,
      "_view_module": "@jupyter-widgets/base",
      "_view_module_version": "1.2.0",
      "_view_name": "StyleView",
      "description_width": ""
     }
    },
    "59f55cf3fc474f25aa9611cbb8950805": {
     "model_module": "@jupyter-widgets/base",
     "model_module_version": "1.2.0",
     "model_name": "LayoutModel",
     "state": {
      "_model_module": "@jupyter-widgets/base",
      "_model_module_version": "1.2.0",
      "_model_name": "LayoutModel",
      "_view_count": null,
      "_view_module": "@jupyter-widgets/base",
      "_view_module_version": "1.2.0",
      "_view_name": "LayoutView",
      "align_content": null,
      "align_items": null,
      "align_self": null,
      "border": null,
      "bottom": null,
      "display": null,
      "flex": null,
      "flex_flow": null,
      "grid_area": null,
      "grid_auto_columns": null,
      "grid_auto_flow": null,
      "grid_auto_rows": null,
      "grid_column": null,
      "grid_gap": null,
      "grid_row": null,
      "grid_template_areas": null,
      "grid_template_columns": null,
      "grid_template_rows": null,
      "height": null,
      "justify_content": null,
      "justify_items": null,
      "left": null,
      "margin": null,
      "max_height": null,
      "max_width": null,
      "min_height": null,
      "min_width": null,
      "object_fit": null,
      "object_position": null,
      "order": null,
      "overflow": null,
      "overflow_x": null,
      "overflow_y": null,
      "padding": null,
      "right": null,
      "top": null,
      "visibility": null,
      "width": null
     }
    },
    "668747a627fd43878fc3eda11df87491": {
     "model_module": "@jupyter-widgets/controls",
     "model_module_version": "1.5.0",
     "model_name": "HTMLModel",
     "state": {
      "_dom_classes": [],
      "_model_module": "@jupyter-widgets/controls",
      "_model_module_version": "1.5.0",
      "_model_name": "HTMLModel",
      "_view_count": null,
      "_view_module": "@jupyter-widgets/controls",
      "_view_module_version": "1.5.0",
      "_view_name": "HTMLView",
      "description": "",
      "description_tooltip": null,
      "layout": "IPY_MODEL_a6a543e773304cfd89677a46604c5641",
      "placeholder": "​",
      "style": "IPY_MODEL_498bad21a6a0495aab4f46881af6b042",
      "value": " 500/500 [00:01&lt;00:00, 553.96it/s]"
     }
    },
    "69b2e4021db24ff5af8b4fdb92c8cdba": {
     "model_module": "@jupyter-widgets/controls",
     "model_module_version": "1.5.0",
     "model_name": "HBoxModel",
     "state": {
      "_dom_classes": [],
      "_model_module": "@jupyter-widgets/controls",
      "_model_module_version": "1.5.0",
      "_model_name": "HBoxModel",
      "_view_count": null,
      "_view_module": "@jupyter-widgets/controls",
      "_view_module_version": "1.5.0",
      "_view_name": "HBoxView",
      "box_style": "",
      "children": [
       "IPY_MODEL_fd393c103e554fb28796da6c7e83e806",
       "IPY_MODEL_7916577106024165a26cd8ebbf359227",
       "IPY_MODEL_668747a627fd43878fc3eda11df87491"
      ],
      "layout": "IPY_MODEL_b743161df5334a6084e3e03ec21aef30"
     }
    },
    "70df5b5cd0e54a0a8102bed523272fd8": {
     "model_module": "@jupyter-widgets/controls",
     "model_module_version": "1.5.0",
     "model_name": "ProgressStyleModel",
     "state": {
      "_model_module": "@jupyter-widgets/controls",
      "_model_module_version": "1.5.0",
      "_model_name": "ProgressStyleModel",
      "_view_count": null,
      "_view_module": "@jupyter-widgets/base",
      "_view_module_version": "1.2.0",
      "_view_name": "StyleView",
      "bar_color": null,
      "description_width": ""
     }
    },
    "782ff3b8567c4ff59a4998ff1c929d18": {
     "model_module": "@jupyter-widgets/controls",
     "model_module_version": "1.5.0",
     "model_name": "DescriptionStyleModel",
     "state": {
      "_model_module": "@jupyter-widgets/controls",
      "_model_module_version": "1.5.0",
      "_model_name": "DescriptionStyleModel",
      "_view_count": null,
      "_view_module": "@jupyter-widgets/base",
      "_view_module_version": "1.2.0",
      "_view_name": "StyleView",
      "description_width": ""
     }
    },
    "7916577106024165a26cd8ebbf359227": {
     "model_module": "@jupyter-widgets/controls",
     "model_module_version": "1.5.0",
     "model_name": "FloatProgressModel",
     "state": {
      "_dom_classes": [],
      "_model_module": "@jupyter-widgets/controls",
      "_model_module_version": "1.5.0",
      "_model_name": "FloatProgressModel",
      "_view_count": null,
      "_view_module": "@jupyter-widgets/controls",
      "_view_module_version": "1.5.0",
      "_view_name": "ProgressView",
      "bar_style": "success",
      "description": "",
      "description_tooltip": null,
      "layout": "IPY_MODEL_229626abd4c54dc4a0da659cf4dee270",
      "max": 500,
      "min": 0,
      "orientation": "horizontal",
      "style": "IPY_MODEL_856c20f0364f40b1adaa145fc5cd80b5",
      "value": 500
     }
    },
    "7d99776adf544f4d8ce853a94402809f": {
     "model_module": "@jupyter-widgets/controls",
     "model_module_version": "1.5.0",
     "model_name": "DescriptionStyleModel",
     "state": {
      "_model_module": "@jupyter-widgets/controls",
      "_model_module_version": "1.5.0",
      "_model_name": "DescriptionStyleModel",
      "_view_count": null,
      "_view_module": "@jupyter-widgets/base",
      "_view_module_version": "1.2.0",
      "_view_name": "StyleView",
      "description_width": ""
     }
    },
    "8535af51ec804ab59baf815b27321a8f": {
     "model_module": "@jupyter-widgets/base",
     "model_module_version": "1.2.0",
     "model_name": "LayoutModel",
     "state": {
      "_model_module": "@jupyter-widgets/base",
      "_model_module_version": "1.2.0",
      "_model_name": "LayoutModel",
      "_view_count": null,
      "_view_module": "@jupyter-widgets/base",
      "_view_module_version": "1.2.0",
      "_view_name": "LayoutView",
      "align_content": null,
      "align_items": null,
      "align_self": null,
      "border": null,
      "bottom": null,
      "display": null,
      "flex": null,
      "flex_flow": null,
      "grid_area": null,
      "grid_auto_columns": null,
      "grid_auto_flow": null,
      "grid_auto_rows": null,
      "grid_column": null,
      "grid_gap": null,
      "grid_row": null,
      "grid_template_areas": null,
      "grid_template_columns": null,
      "grid_template_rows": null,
      "height": null,
      "justify_content": null,
      "justify_items": null,
      "left": null,
      "margin": null,
      "max_height": null,
      "max_width": null,
      "min_height": null,
      "min_width": null,
      "object_fit": null,
      "object_position": null,
      "order": null,
      "overflow": null,
      "overflow_x": null,
      "overflow_y": null,
      "padding": null,
      "right": null,
      "top": null,
      "visibility": null,
      "width": null
     }
    },
    "856c20f0364f40b1adaa145fc5cd80b5": {
     "model_module": "@jupyter-widgets/controls",
     "model_module_version": "1.5.0",
     "model_name": "ProgressStyleModel",
     "state": {
      "_model_module": "@jupyter-widgets/controls",
      "_model_module_version": "1.5.0",
      "_model_name": "ProgressStyleModel",
      "_view_count": null,
      "_view_module": "@jupyter-widgets/base",
      "_view_module_version": "1.2.0",
      "_view_name": "StyleView",
      "bar_color": null,
      "description_width": ""
     }
    },
    "94299516cdfb44a7ae32fde5431328a4": {
     "model_module": "@jupyter-widgets/base",
     "model_module_version": "1.2.0",
     "model_name": "LayoutModel",
     "state": {
      "_model_module": "@jupyter-widgets/base",
      "_model_module_version": "1.2.0",
      "_model_name": "LayoutModel",
      "_view_count": null,
      "_view_module": "@jupyter-widgets/base",
      "_view_module_version": "1.2.0",
      "_view_name": "LayoutView",
      "align_content": null,
      "align_items": null,
      "align_self": null,
      "border": null,
      "bottom": null,
      "display": null,
      "flex": null,
      "flex_flow": null,
      "grid_area": null,
      "grid_auto_columns": null,
      "grid_auto_flow": null,
      "grid_auto_rows": null,
      "grid_column": null,
      "grid_gap": null,
      "grid_row": null,
      "grid_template_areas": null,
      "grid_template_columns": null,
      "grid_template_rows": null,
      "height": null,
      "justify_content": null,
      "justify_items": null,
      "left": null,
      "margin": null,
      "max_height": null,
      "max_width": null,
      "min_height": null,
      "min_width": null,
      "object_fit": null,
      "object_position": null,
      "order": null,
      "overflow": null,
      "overflow_x": null,
      "overflow_y": null,
      "padding": null,
      "right": null,
      "top": null,
      "visibility": null,
      "width": null
     }
    },
    "98c354ba531d4d30884b7b4d486bebfa": {
     "model_module": "@jupyter-widgets/base",
     "model_module_version": "1.2.0",
     "model_name": "LayoutModel",
     "state": {
      "_model_module": "@jupyter-widgets/base",
      "_model_module_version": "1.2.0",
      "_model_name": "LayoutModel",
      "_view_count": null,
      "_view_module": "@jupyter-widgets/base",
      "_view_module_version": "1.2.0",
      "_view_name": "LayoutView",
      "align_content": null,
      "align_items": null,
      "align_self": null,
      "border": null,
      "bottom": null,
      "display": null,
      "flex": null,
      "flex_flow": null,
      "grid_area": null,
      "grid_auto_columns": null,
      "grid_auto_flow": null,
      "grid_auto_rows": null,
      "grid_column": null,
      "grid_gap": null,
      "grid_row": null,
      "grid_template_areas": null,
      "grid_template_columns": null,
      "grid_template_rows": null,
      "height": null,
      "justify_content": null,
      "justify_items": null,
      "left": null,
      "margin": null,
      "max_height": null,
      "max_width": null,
      "min_height": null,
      "min_width": null,
      "object_fit": null,
      "object_position": null,
      "order": null,
      "overflow": null,
      "overflow_x": null,
      "overflow_y": null,
      "padding": null,
      "right": null,
      "top": null,
      "visibility": null,
      "width": null
     }
    },
    "9feebfdf44e3483397b0dfc067b47963": {
     "model_module": "@jupyter-widgets/controls",
     "model_module_version": "1.5.0",
     "model_name": "FloatProgressModel",
     "state": {
      "_dom_classes": [],
      "_model_module": "@jupyter-widgets/controls",
      "_model_module_version": "1.5.0",
      "_model_name": "FloatProgressModel",
      "_view_count": null,
      "_view_module": "@jupyter-widgets/controls",
      "_view_module_version": "1.5.0",
      "_view_name": "ProgressView",
      "bar_style": "success",
      "description": "",
      "description_tooltip": null,
      "layout": "IPY_MODEL_1e7238815b1e4c8ead07c15019fcdf2a",
      "max": 1000,
      "min": 0,
      "orientation": "horizontal",
      "style": "IPY_MODEL_bfba78b134ec4b5aaab9810d2ff90ca2",
      "value": 1000
     }
    },
    "a6a543e773304cfd89677a46604c5641": {
     "model_module": "@jupyter-widgets/base",
     "model_module_version": "1.2.0",
     "model_name": "LayoutModel",
     "state": {
      "_model_module": "@jupyter-widgets/base",
      "_model_module_version": "1.2.0",
      "_model_name": "LayoutModel",
      "_view_count": null,
      "_view_module": "@jupyter-widgets/base",
      "_view_module_version": "1.2.0",
      "_view_name": "LayoutView",
      "align_content": null,
      "align_items": null,
      "align_self": null,
      "border": null,
      "bottom": null,
      "display": null,
      "flex": null,
      "flex_flow": null,
      "grid_area": null,
      "grid_auto_columns": null,
      "grid_auto_flow": null,
      "grid_auto_rows": null,
      "grid_column": null,
      "grid_gap": null,
      "grid_row": null,
      "grid_template_areas": null,
      "grid_template_columns": null,
      "grid_template_rows": null,
      "height": null,
      "justify_content": null,
      "justify_items": null,
      "left": null,
      "margin": null,
      "max_height": null,
      "max_width": null,
      "min_height": null,
      "min_width": null,
      "object_fit": null,
      "object_position": null,
      "order": null,
      "overflow": null,
      "overflow_x": null,
      "overflow_y": null,
      "padding": null,
      "right": null,
      "top": null,
      "visibility": null,
      "width": null
     }
    },
    "acaad506e8dc4a63a27b75dbbb280ed6": {
     "model_module": "@jupyter-widgets/controls",
     "model_module_version": "1.5.0",
     "model_name": "HTMLModel",
     "state": {
      "_dom_classes": [],
      "_model_module": "@jupyter-widgets/controls",
      "_model_module_version": "1.5.0",
      "_model_name": "HTMLModel",
      "_view_count": null,
      "_view_module": "@jupyter-widgets/controls",
      "_view_module_version": "1.5.0",
      "_view_name": "HTMLView",
      "description": "",
      "description_tooltip": null,
      "layout": "IPY_MODEL_94299516cdfb44a7ae32fde5431328a4",
      "placeholder": "​",
      "style": "IPY_MODEL_1cb677dff7f54f57b740301694e59e51",
      "value": "100%"
     }
    },
    "b5a2f0aa0f664c3daef427c1a562f266": {
     "model_module": "@jupyter-widgets/controls",
     "model_module_version": "1.5.0",
     "model_name": "HTMLModel",
     "state": {
      "_dom_classes": [],
      "_model_module": "@jupyter-widgets/controls",
      "_model_module_version": "1.5.0",
      "_model_name": "HTMLModel",
      "_view_count": null,
      "_view_module": "@jupyter-widgets/controls",
      "_view_module_version": "1.5.0",
      "_view_name": "HTMLView",
      "description": "",
      "description_tooltip": null,
      "layout": "IPY_MODEL_8535af51ec804ab59baf815b27321a8f",
      "placeholder": "​",
      "style": "IPY_MODEL_de81405747bb489f9f54d122b6ca675f",
      "value": " 500/500 [00:00&lt;00:00, 763.98it/s]"
     }
    },
    "b6aecd95b6f0429891339a7d8b237d07": {
     "model_module": "@jupyter-widgets/controls",
     "model_module_version": "1.5.0",
     "model_name": "HTMLModel",
     "state": {
      "_dom_classes": [],
      "_model_module": "@jupyter-widgets/controls",
      "_model_module_version": "1.5.0",
      "_model_name": "HTMLModel",
      "_view_count": null,
      "_view_module": "@jupyter-widgets/controls",
      "_view_module_version": "1.5.0",
      "_view_name": "HTMLView",
      "description": "",
      "description_tooltip": null,
      "layout": "IPY_MODEL_3abb3c0f9c094d369a19af9defd8b454",
      "placeholder": "​",
      "style": "IPY_MODEL_782ff3b8567c4ff59a4998ff1c929d18",
      "value": " 1000/1000 [00:01&lt;00:00, 991.20it/s]"
     }
    },
    "b743161df5334a6084e3e03ec21aef30": {
     "model_module": "@jupyter-widgets/base",
     "model_module_version": "1.2.0",
     "model_name": "LayoutModel",
     "state": {
      "_model_module": "@jupyter-widgets/base",
      "_model_module_version": "1.2.0",
      "_model_name": "LayoutModel",
      "_view_count": null,
      "_view_module": "@jupyter-widgets/base",
      "_view_module_version": "1.2.0",
      "_view_name": "LayoutView",
      "align_content": null,
      "align_items": null,
      "align_self": null,
      "border": null,
      "bottom": null,
      "display": null,
      "flex": null,
      "flex_flow": null,
      "grid_area": null,
      "grid_auto_columns": null,
      "grid_auto_flow": null,
      "grid_auto_rows": null,
      "grid_column": null,
      "grid_gap": null,
      "grid_row": null,
      "grid_template_areas": null,
      "grid_template_columns": null,
      "grid_template_rows": null,
      "height": null,
      "justify_content": null,
      "justify_items": null,
      "left": null,
      "margin": null,
      "max_height": null,
      "max_width": null,
      "min_height": null,
      "min_width": null,
      "object_fit": null,
      "object_position": null,
      "order": null,
      "overflow": null,
      "overflow_x": null,
      "overflow_y": null,
      "padding": null,
      "right": null,
      "top": null,
      "visibility": null,
      "width": null
     }
    },
    "bef4345cde034b1da8cb4bded8065e21": {
     "model_module": "@jupyter-widgets/controls",
     "model_module_version": "1.5.0",
     "model_name": "HBoxModel",
     "state": {
      "_dom_classes": [],
      "_model_module": "@jupyter-widgets/controls",
      "_model_module_version": "1.5.0",
      "_model_name": "HBoxModel",
      "_view_count": null,
      "_view_module": "@jupyter-widgets/controls",
      "_view_module_version": "1.5.0",
      "_view_name": "HBoxView",
      "box_style": "",
      "children": [
       "IPY_MODEL_acaad506e8dc4a63a27b75dbbb280ed6",
       "IPY_MODEL_9feebfdf44e3483397b0dfc067b47963",
       "IPY_MODEL_b6aecd95b6f0429891339a7d8b237d07"
      ],
      "layout": "IPY_MODEL_59f55cf3fc474f25aa9611cbb8950805"
     }
    },
    "bfba78b134ec4b5aaab9810d2ff90ca2": {
     "model_module": "@jupyter-widgets/controls",
     "model_module_version": "1.5.0",
     "model_name": "ProgressStyleModel",
     "state": {
      "_model_module": "@jupyter-widgets/controls",
      "_model_module_version": "1.5.0",
      "_model_name": "ProgressStyleModel",
      "_view_count": null,
      "_view_module": "@jupyter-widgets/base",
      "_view_module_version": "1.2.0",
      "_view_name": "StyleView",
      "bar_color": null,
      "description_width": ""
     }
    },
    "c270cc8c90c14043bf034ddb3bdf2eaa": {
     "model_module": "@jupyter-widgets/controls",
     "model_module_version": "1.5.0",
     "model_name": "HTMLModel",
     "state": {
      "_dom_classes": [],
      "_model_module": "@jupyter-widgets/controls",
      "_model_module_version": "1.5.0",
      "_model_name": "HTMLModel",
      "_view_count": null,
      "_view_module": "@jupyter-widgets/controls",
      "_view_module_version": "1.5.0",
      "_view_name": "HTMLView",
      "description": "",
      "description_tooltip": null,
      "layout": "IPY_MODEL_3aa6efd0721b44d5910e6437e4e78f81",
      "placeholder": "​",
      "style": "IPY_MODEL_28cdeb80a26d48f196627f8e41fcab3d",
      "value": "100%"
     }
    },
    "de81405747bb489f9f54d122b6ca675f": {
     "model_module": "@jupyter-widgets/controls",
     "model_module_version": "1.5.0",
     "model_name": "DescriptionStyleModel",
     "state": {
      "_model_module": "@jupyter-widgets/controls",
      "_model_module_version": "1.5.0",
      "_model_name": "DescriptionStyleModel",
      "_view_count": null,
      "_view_module": "@jupyter-widgets/base",
      "_view_module_version": "1.2.0",
      "_view_name": "StyleView",
      "description_width": ""
     }
    },
    "edf46a49120341c3b8686e7b5b83a1cc": {
     "model_module": "@jupyter-widgets/base",
     "model_module_version": "1.2.0",
     "model_name": "LayoutModel",
     "state": {
      "_model_module": "@jupyter-widgets/base",
      "_model_module_version": "1.2.0",
      "_model_name": "LayoutModel",
      "_view_count": null,
      "_view_module": "@jupyter-widgets/base",
      "_view_module_version": "1.2.0",
      "_view_name": "LayoutView",
      "align_content": null,
      "align_items": null,
      "align_self": null,
      "border": null,
      "bottom": null,
      "display": null,
      "flex": null,
      "flex_flow": null,
      "grid_area": null,
      "grid_auto_columns": null,
      "grid_auto_flow": null,
      "grid_auto_rows": null,
      "grid_column": null,
      "grid_gap": null,
      "grid_row": null,
      "grid_template_areas": null,
      "grid_template_columns": null,
      "grid_template_rows": null,
      "height": null,
      "justify_content": null,
      "justify_items": null,
      "left": null,
      "margin": null,
      "max_height": null,
      "max_width": null,
      "min_height": null,
      "min_width": null,
      "object_fit": null,
      "object_position": null,
      "order": null,
      "overflow": null,
      "overflow_x": null,
      "overflow_y": null,
      "padding": null,
      "right": null,
      "top": null,
      "visibility": null,
      "width": null
     }
    },
    "fd393c103e554fb28796da6c7e83e806": {
     "model_module": "@jupyter-widgets/controls",
     "model_module_version": "1.5.0",
     "model_name": "HTMLModel",
     "state": {
      "_dom_classes": [],
      "_model_module": "@jupyter-widgets/controls",
      "_model_module_version": "1.5.0",
      "_model_name": "HTMLModel",
      "_view_count": null,
      "_view_module": "@jupyter-widgets/controls",
      "_view_module_version": "1.5.0",
      "_view_name": "HTMLView",
      "description": "",
      "description_tooltip": null,
      "layout": "IPY_MODEL_492110574f1141db97f8554f5bc11fe6",
      "placeholder": "​",
      "style": "IPY_MODEL_7d99776adf544f4d8ce853a94402809f",
      "value": "100%"
     }
    }
   }
  }
 },
 "nbformat": 4,
 "nbformat_minor": 1
}
