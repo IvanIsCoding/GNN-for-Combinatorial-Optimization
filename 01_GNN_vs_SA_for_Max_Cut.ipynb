{
  "nbformat": 4,
  "nbformat_minor": 0,
  "metadata": {
    "colab": {
      "provenance": [],
      "authorship_tag": "ABX9TyOQu2nck/nYMEMN5KXu4q+7",
      "include_colab_link": true
    },
    "kernelspec": {
      "name": "python3",
      "display_name": "Python 3"
    },
    "language_info": {
      "name": "python"
    },
    "gpuClass": "standard",
    "accelerator": "GPU",
    "widgets": {
      "application/vnd.jupyter.widget-state+json": {
        "d5b719d2dcc1486e9dbdf0008e5a8312": {
          "model_module": "@jupyter-widgets/controls",
          "model_name": "HBoxModel",
          "model_module_version": "1.5.0",
          "state": {
            "_dom_classes": [],
            "_model_module": "@jupyter-widgets/controls",
            "_model_module_version": "1.5.0",
            "_model_name": "HBoxModel",
            "_view_count": null,
            "_view_module": "@jupyter-widgets/controls",
            "_view_module_version": "1.5.0",
            "_view_name": "HBoxView",
            "box_style": "",
            "children": [
              "IPY_MODEL_667872bb727941bd9bfcf65316ffe385",
              "IPY_MODEL_9747348583794d5ca1632fc5a6f3bf75",
              "IPY_MODEL_d5d11131428644a7abd53ef120637c9a"
            ],
            "layout": "IPY_MODEL_821fb04170ee439594048ff5d6d10a32"
          }
        },
        "667872bb727941bd9bfcf65316ffe385": {
          "model_module": "@jupyter-widgets/controls",
          "model_name": "HTMLModel",
          "model_module_version": "1.5.0",
          "state": {
            "_dom_classes": [],
            "_model_module": "@jupyter-widgets/controls",
            "_model_module_version": "1.5.0",
            "_model_name": "HTMLModel",
            "_view_count": null,
            "_view_module": "@jupyter-widgets/controls",
            "_view_module_version": "1.5.0",
            "_view_name": "HTMLView",
            "description": "",
            "description_tooltip": null,
            "layout": "IPY_MODEL_7bd7a9881c834133927f668d32d367e9",
            "placeholder": "​",
            "style": "IPY_MODEL_e5c832646cb94bfea971f79abd367641",
            "value": "100%"
          }
        },
        "9747348583794d5ca1632fc5a6f3bf75": {
          "model_module": "@jupyter-widgets/controls",
          "model_name": "FloatProgressModel",
          "model_module_version": "1.5.0",
          "state": {
            "_dom_classes": [],
            "_model_module": "@jupyter-widgets/controls",
            "_model_module_version": "1.5.0",
            "_model_name": "FloatProgressModel",
            "_view_count": null,
            "_view_module": "@jupyter-widgets/controls",
            "_view_module_version": "1.5.0",
            "_view_name": "ProgressView",
            "bar_style": "success",
            "description": "",
            "description_tooltip": null,
            "layout": "IPY_MODEL_4a099c3456f04d25a498e5d9716b26c0",
            "max": 20,
            "min": 0,
            "orientation": "horizontal",
            "style": "IPY_MODEL_f3cf0d0ecb48436ca6fc0fd435ca644d",
            "value": 20
          }
        },
        "d5d11131428644a7abd53ef120637c9a": {
          "model_module": "@jupyter-widgets/controls",
          "model_name": "HTMLModel",
          "model_module_version": "1.5.0",
          "state": {
            "_dom_classes": [],
            "_model_module": "@jupyter-widgets/controls",
            "_model_module_version": "1.5.0",
            "_model_name": "HTMLModel",
            "_view_count": null,
            "_view_module": "@jupyter-widgets/controls",
            "_view_module_version": "1.5.0",
            "_view_name": "HTMLView",
            "description": "",
            "description_tooltip": null,
            "layout": "IPY_MODEL_140650b7cbb744a9bd30adbd63d6682a",
            "placeholder": "​",
            "style": "IPY_MODEL_d77c202d05a2477bbb41b5e67e10cfff",
            "value": " 20/20 [24:53&lt;00:00, 118.43s/it]"
          }
        },
        "821fb04170ee439594048ff5d6d10a32": {
          "model_module": "@jupyter-widgets/base",
          "model_name": "LayoutModel",
          "model_module_version": "1.2.0",
          "state": {
            "_model_module": "@jupyter-widgets/base",
            "_model_module_version": "1.2.0",
            "_model_name": "LayoutModel",
            "_view_count": null,
            "_view_module": "@jupyter-widgets/base",
            "_view_module_version": "1.2.0",
            "_view_name": "LayoutView",
            "align_content": null,
            "align_items": null,
            "align_self": null,
            "border": null,
            "bottom": null,
            "display": null,
            "flex": null,
            "flex_flow": null,
            "grid_area": null,
            "grid_auto_columns": null,
            "grid_auto_flow": null,
            "grid_auto_rows": null,
            "grid_column": null,
            "grid_gap": null,
            "grid_row": null,
            "grid_template_areas": null,
            "grid_template_columns": null,
            "grid_template_rows": null,
            "height": null,
            "justify_content": null,
            "justify_items": null,
            "left": null,
            "margin": null,
            "max_height": null,
            "max_width": null,
            "min_height": null,
            "min_width": null,
            "object_fit": null,
            "object_position": null,
            "order": null,
            "overflow": null,
            "overflow_x": null,
            "overflow_y": null,
            "padding": null,
            "right": null,
            "top": null,
            "visibility": null,
            "width": null
          }
        },
        "7bd7a9881c834133927f668d32d367e9": {
          "model_module": "@jupyter-widgets/base",
          "model_name": "LayoutModel",
          "model_module_version": "1.2.0",
          "state": {
            "_model_module": "@jupyter-widgets/base",
            "_model_module_version": "1.2.0",
            "_model_name": "LayoutModel",
            "_view_count": null,
            "_view_module": "@jupyter-widgets/base",
            "_view_module_version": "1.2.0",
            "_view_name": "LayoutView",
            "align_content": null,
            "align_items": null,
            "align_self": null,
            "border": null,
            "bottom": null,
            "display": null,
            "flex": null,
            "flex_flow": null,
            "grid_area": null,
            "grid_auto_columns": null,
            "grid_auto_flow": null,
            "grid_auto_rows": null,
            "grid_column": null,
            "grid_gap": null,
            "grid_row": null,
            "grid_template_areas": null,
            "grid_template_columns": null,
            "grid_template_rows": null,
            "height": null,
            "justify_content": null,
            "justify_items": null,
            "left": null,
            "margin": null,
            "max_height": null,
            "max_width": null,
            "min_height": null,
            "min_width": null,
            "object_fit": null,
            "object_position": null,
            "order": null,
            "overflow": null,
            "overflow_x": null,
            "overflow_y": null,
            "padding": null,
            "right": null,
            "top": null,
            "visibility": null,
            "width": null
          }
        },
        "e5c832646cb94bfea971f79abd367641": {
          "model_module": "@jupyter-widgets/controls",
          "model_name": "DescriptionStyleModel",
          "model_module_version": "1.5.0",
          "state": {
            "_model_module": "@jupyter-widgets/controls",
            "_model_module_version": "1.5.0",
            "_model_name": "DescriptionStyleModel",
            "_view_count": null,
            "_view_module": "@jupyter-widgets/base",
            "_view_module_version": "1.2.0",
            "_view_name": "StyleView",
            "description_width": ""
          }
        },
        "4a099c3456f04d25a498e5d9716b26c0": {
          "model_module": "@jupyter-widgets/base",
          "model_name": "LayoutModel",
          "model_module_version": "1.2.0",
          "state": {
            "_model_module": "@jupyter-widgets/base",
            "_model_module_version": "1.2.0",
            "_model_name": "LayoutModel",
            "_view_count": null,
            "_view_module": "@jupyter-widgets/base",
            "_view_module_version": "1.2.0",
            "_view_name": "LayoutView",
            "align_content": null,
            "align_items": null,
            "align_self": null,
            "border": null,
            "bottom": null,
            "display": null,
            "flex": null,
            "flex_flow": null,
            "grid_area": null,
            "grid_auto_columns": null,
            "grid_auto_flow": null,
            "grid_auto_rows": null,
            "grid_column": null,
            "grid_gap": null,
            "grid_row": null,
            "grid_template_areas": null,
            "grid_template_columns": null,
            "grid_template_rows": null,
            "height": null,
            "justify_content": null,
            "justify_items": null,
            "left": null,
            "margin": null,
            "max_height": null,
            "max_width": null,
            "min_height": null,
            "min_width": null,
            "object_fit": null,
            "object_position": null,
            "order": null,
            "overflow": null,
            "overflow_x": null,
            "overflow_y": null,
            "padding": null,
            "right": null,
            "top": null,
            "visibility": null,
            "width": null
          }
        },
        "f3cf0d0ecb48436ca6fc0fd435ca644d": {
          "model_module": "@jupyter-widgets/controls",
          "model_name": "ProgressStyleModel",
          "model_module_version": "1.5.0",
          "state": {
            "_model_module": "@jupyter-widgets/controls",
            "_model_module_version": "1.5.0",
            "_model_name": "ProgressStyleModel",
            "_view_count": null,
            "_view_module": "@jupyter-widgets/base",
            "_view_module_version": "1.2.0",
            "_view_name": "StyleView",
            "bar_color": null,
            "description_width": ""
          }
        },
        "140650b7cbb744a9bd30adbd63d6682a": {
          "model_module": "@jupyter-widgets/base",
          "model_name": "LayoutModel",
          "model_module_version": "1.2.0",
          "state": {
            "_model_module": "@jupyter-widgets/base",
            "_model_module_version": "1.2.0",
            "_model_name": "LayoutModel",
            "_view_count": null,
            "_view_module": "@jupyter-widgets/base",
            "_view_module_version": "1.2.0",
            "_view_name": "LayoutView",
            "align_content": null,
            "align_items": null,
            "align_self": null,
            "border": null,
            "bottom": null,
            "display": null,
            "flex": null,
            "flex_flow": null,
            "grid_area": null,
            "grid_auto_columns": null,
            "grid_auto_flow": null,
            "grid_auto_rows": null,
            "grid_column": null,
            "grid_gap": null,
            "grid_row": null,
            "grid_template_areas": null,
            "grid_template_columns": null,
            "grid_template_rows": null,
            "height": null,
            "justify_content": null,
            "justify_items": null,
            "left": null,
            "margin": null,
            "max_height": null,
            "max_width": null,
            "min_height": null,
            "min_width": null,
            "object_fit": null,
            "object_position": null,
            "order": null,
            "overflow": null,
            "overflow_x": null,
            "overflow_y": null,
            "padding": null,
            "right": null,
            "top": null,
            "visibility": null,
            "width": null
          }
        },
        "d77c202d05a2477bbb41b5e67e10cfff": {
          "model_module": "@jupyter-widgets/controls",
          "model_name": "DescriptionStyleModel",
          "model_module_version": "1.5.0",
          "state": {
            "_model_module": "@jupyter-widgets/controls",
            "_model_module_version": "1.5.0",
            "_model_name": "DescriptionStyleModel",
            "_view_count": null,
            "_view_module": "@jupyter-widgets/base",
            "_view_module_version": "1.2.0",
            "_view_name": "StyleView",
            "description_width": ""
          }
        },
        "e9964b2cc1f04968ae010939afde89e0": {
          "model_module": "@jupyter-widgets/controls",
          "model_name": "HBoxModel",
          "model_module_version": "1.5.0",
          "state": {
            "_dom_classes": [],
            "_model_module": "@jupyter-widgets/controls",
            "_model_module_version": "1.5.0",
            "_model_name": "HBoxModel",
            "_view_count": null,
            "_view_module": "@jupyter-widgets/controls",
            "_view_module_version": "1.5.0",
            "_view_name": "HBoxView",
            "box_style": "",
            "children": [
              "IPY_MODEL_2d26bcf285f54a9c8e27483ca944c420",
              "IPY_MODEL_b6781fbf3cbc44dd8312d8a39c8a4e17",
              "IPY_MODEL_bef83a87cd234a66ad2cab0ac81b66e5"
            ],
            "layout": "IPY_MODEL_03d7383f72a547b1bc73a875e6a1132c"
          }
        },
        "2d26bcf285f54a9c8e27483ca944c420": {
          "model_module": "@jupyter-widgets/controls",
          "model_name": "HTMLModel",
          "model_module_version": "1.5.0",
          "state": {
            "_dom_classes": [],
            "_model_module": "@jupyter-widgets/controls",
            "_model_module_version": "1.5.0",
            "_model_name": "HTMLModel",
            "_view_count": null,
            "_view_module": "@jupyter-widgets/controls",
            "_view_module_version": "1.5.0",
            "_view_name": "HTMLView",
            "description": "",
            "description_tooltip": null,
            "layout": "IPY_MODEL_8960ee91fa02432c98c66e379627b20b",
            "placeholder": "​",
            "style": "IPY_MODEL_47a869280bb64f7aae228e54d7ac199c",
            "value": " 50%"
          }
        },
        "b6781fbf3cbc44dd8312d8a39c8a4e17": {
          "model_module": "@jupyter-widgets/controls",
          "model_name": "FloatProgressModel",
          "model_module_version": "1.5.0",
          "state": {
            "_dom_classes": [],
            "_model_module": "@jupyter-widgets/controls",
            "_model_module_version": "1.5.0",
            "_model_name": "FloatProgressModel",
            "_view_count": null,
            "_view_module": "@jupyter-widgets/controls",
            "_view_module_version": "1.5.0",
            "_view_name": "ProgressView",
            "bar_style": "",
            "description": "",
            "description_tooltip": null,
            "layout": "IPY_MODEL_7206452e6ed248df876ba5a528a65040",
            "max": 20,
            "min": 0,
            "orientation": "horizontal",
            "style": "IPY_MODEL_4cc768a16ac3416ab5878296ece90490",
            "value": 10
          }
        },
        "bef83a87cd234a66ad2cab0ac81b66e5": {
          "model_module": "@jupyter-widgets/controls",
          "model_name": "HTMLModel",
          "model_module_version": "1.5.0",
          "state": {
            "_dom_classes": [],
            "_model_module": "@jupyter-widgets/controls",
            "_model_module_version": "1.5.0",
            "_model_name": "HTMLModel",
            "_view_count": null,
            "_view_module": "@jupyter-widgets/controls",
            "_view_module_version": "1.5.0",
            "_view_name": "HTMLView",
            "description": "",
            "description_tooltip": null,
            "layout": "IPY_MODEL_02626d0b3eb04ca8890aecf455e6dc18",
            "placeholder": "​",
            "style": "IPY_MODEL_211e2fa497954f81a6b133e40b07fcf7",
            "value": " 10/20 [07:12&lt;09:46, 58.69s/it]"
          }
        },
        "03d7383f72a547b1bc73a875e6a1132c": {
          "model_module": "@jupyter-widgets/base",
          "model_name": "LayoutModel",
          "model_module_version": "1.2.0",
          "state": {
            "_model_module": "@jupyter-widgets/base",
            "_model_module_version": "1.2.0",
            "_model_name": "LayoutModel",
            "_view_count": null,
            "_view_module": "@jupyter-widgets/base",
            "_view_module_version": "1.2.0",
            "_view_name": "LayoutView",
            "align_content": null,
            "align_items": null,
            "align_self": null,
            "border": null,
            "bottom": null,
            "display": null,
            "flex": null,
            "flex_flow": null,
            "grid_area": null,
            "grid_auto_columns": null,
            "grid_auto_flow": null,
            "grid_auto_rows": null,
            "grid_column": null,
            "grid_gap": null,
            "grid_row": null,
            "grid_template_areas": null,
            "grid_template_columns": null,
            "grid_template_rows": null,
            "height": null,
            "justify_content": null,
            "justify_items": null,
            "left": null,
            "margin": null,
            "max_height": null,
            "max_width": null,
            "min_height": null,
            "min_width": null,
            "object_fit": null,
            "object_position": null,
            "order": null,
            "overflow": null,
            "overflow_x": null,
            "overflow_y": null,
            "padding": null,
            "right": null,
            "top": null,
            "visibility": null,
            "width": null
          }
        },
        "8960ee91fa02432c98c66e379627b20b": {
          "model_module": "@jupyter-widgets/base",
          "model_name": "LayoutModel",
          "model_module_version": "1.2.0",
          "state": {
            "_model_module": "@jupyter-widgets/base",
            "_model_module_version": "1.2.0",
            "_model_name": "LayoutModel",
            "_view_count": null,
            "_view_module": "@jupyter-widgets/base",
            "_view_module_version": "1.2.0",
            "_view_name": "LayoutView",
            "align_content": null,
            "align_items": null,
            "align_self": null,
            "border": null,
            "bottom": null,
            "display": null,
            "flex": null,
            "flex_flow": null,
            "grid_area": null,
            "grid_auto_columns": null,
            "grid_auto_flow": null,
            "grid_auto_rows": null,
            "grid_column": null,
            "grid_gap": null,
            "grid_row": null,
            "grid_template_areas": null,
            "grid_template_columns": null,
            "grid_template_rows": null,
            "height": null,
            "justify_content": null,
            "justify_items": null,
            "left": null,
            "margin": null,
            "max_height": null,
            "max_width": null,
            "min_height": null,
            "min_width": null,
            "object_fit": null,
            "object_position": null,
            "order": null,
            "overflow": null,
            "overflow_x": null,
            "overflow_y": null,
            "padding": null,
            "right": null,
            "top": null,
            "visibility": null,
            "width": null
          }
        },
        "47a869280bb64f7aae228e54d7ac199c": {
          "model_module": "@jupyter-widgets/controls",
          "model_name": "DescriptionStyleModel",
          "model_module_version": "1.5.0",
          "state": {
            "_model_module": "@jupyter-widgets/controls",
            "_model_module_version": "1.5.0",
            "_model_name": "DescriptionStyleModel",
            "_view_count": null,
            "_view_module": "@jupyter-widgets/base",
            "_view_module_version": "1.2.0",
            "_view_name": "StyleView",
            "description_width": ""
          }
        },
        "7206452e6ed248df876ba5a528a65040": {
          "model_module": "@jupyter-widgets/base",
          "model_name": "LayoutModel",
          "model_module_version": "1.2.0",
          "state": {
            "_model_module": "@jupyter-widgets/base",
            "_model_module_version": "1.2.0",
            "_model_name": "LayoutModel",
            "_view_count": null,
            "_view_module": "@jupyter-widgets/base",
            "_view_module_version": "1.2.0",
            "_view_name": "LayoutView",
            "align_content": null,
            "align_items": null,
            "align_self": null,
            "border": null,
            "bottom": null,
            "display": null,
            "flex": null,
            "flex_flow": null,
            "grid_area": null,
            "grid_auto_columns": null,
            "grid_auto_flow": null,
            "grid_auto_rows": null,
            "grid_column": null,
            "grid_gap": null,
            "grid_row": null,
            "grid_template_areas": null,
            "grid_template_columns": null,
            "grid_template_rows": null,
            "height": null,
            "justify_content": null,
            "justify_items": null,
            "left": null,
            "margin": null,
            "max_height": null,
            "max_width": null,
            "min_height": null,
            "min_width": null,
            "object_fit": null,
            "object_position": null,
            "order": null,
            "overflow": null,
            "overflow_x": null,
            "overflow_y": null,
            "padding": null,
            "right": null,
            "top": null,
            "visibility": null,
            "width": null
          }
        },
        "4cc768a16ac3416ab5878296ece90490": {
          "model_module": "@jupyter-widgets/controls",
          "model_name": "ProgressStyleModel",
          "model_module_version": "1.5.0",
          "state": {
            "_model_module": "@jupyter-widgets/controls",
            "_model_module_version": "1.5.0",
            "_model_name": "ProgressStyleModel",
            "_view_count": null,
            "_view_module": "@jupyter-widgets/base",
            "_view_module_version": "1.2.0",
            "_view_name": "StyleView",
            "bar_color": null,
            "description_width": ""
          }
        },
        "02626d0b3eb04ca8890aecf455e6dc18": {
          "model_module": "@jupyter-widgets/base",
          "model_name": "LayoutModel",
          "model_module_version": "1.2.0",
          "state": {
            "_model_module": "@jupyter-widgets/base",
            "_model_module_version": "1.2.0",
            "_model_name": "LayoutModel",
            "_view_count": null,
            "_view_module": "@jupyter-widgets/base",
            "_view_module_version": "1.2.0",
            "_view_name": "LayoutView",
            "align_content": null,
            "align_items": null,
            "align_self": null,
            "border": null,
            "bottom": null,
            "display": null,
            "flex": null,
            "flex_flow": null,
            "grid_area": null,
            "grid_auto_columns": null,
            "grid_auto_flow": null,
            "grid_auto_rows": null,
            "grid_column": null,
            "grid_gap": null,
            "grid_row": null,
            "grid_template_areas": null,
            "grid_template_columns": null,
            "grid_template_rows": null,
            "height": null,
            "justify_content": null,
            "justify_items": null,
            "left": null,
            "margin": null,
            "max_height": null,
            "max_width": null,
            "min_height": null,
            "min_width": null,
            "object_fit": null,
            "object_position": null,
            "order": null,
            "overflow": null,
            "overflow_x": null,
            "overflow_y": null,
            "padding": null,
            "right": null,
            "top": null,
            "visibility": null,
            "width": null
          }
        },
        "211e2fa497954f81a6b133e40b07fcf7": {
          "model_module": "@jupyter-widgets/controls",
          "model_name": "DescriptionStyleModel",
          "model_module_version": "1.5.0",
          "state": {
            "_model_module": "@jupyter-widgets/controls",
            "_model_module_version": "1.5.0",
            "_model_name": "DescriptionStyleModel",
            "_view_count": null,
            "_view_module": "@jupyter-widgets/base",
            "_view_module_version": "1.2.0",
            "_view_name": "StyleView",
            "description_width": ""
          }
        }
      }
    }
  },
  "cells": [
    {
      "cell_type": "markdown",
      "metadata": {
        "id": "view-in-github",
        "colab_type": "text"
      },
      "source": [
        "<a href=\"https://colab.research.google.com/github/IvanIsCoding/GNN-for-Combinatorial-Optimization/blob/main/01_GNN_vs_SA_for_Max_Cut.ipynb\" target=\"_parent\"><img src=\"https://colab.research.google.com/assets/colab-badge.svg\" alt=\"Open In Colab\"/></a>"
      ]
    },
    {
      "cell_type": "markdown",
      "source": [
        "This is where we compare Graph Neural Networks vs Simulated Annealing\n",
        "\n",
        "https://arxiv.org/abs/2206.13211"
      ],
      "metadata": {
        "id": "uIjGwozFmc4z"
      }
    },
    {
      "cell_type": "code",
      "execution_count": 16,
      "metadata": {
        "colab": {
          "base_uri": "https://localhost:8080/"
        },
        "id": "uiPheC_SMl6_",
        "outputId": "20a5daa1-689d-4746-fb24-02be58317f3a"
      },
      "outputs": [
        {
          "output_type": "stream",
          "name": "stdout",
          "text": [
            "  Preparing metadata (setup.py) ... \u001b[?25l\u001b[?25hdone\n"
          ]
        }
      ],
      "source": [
        "!pip install -q git+https://github.com/IvanIsCoding/GNN-for-Combinatorial-Optimization.git"
      ]
    },
    {
      "cell_type": "markdown",
      "source": [
        "We saw the definition of GNNs on the previous one, time to see what simulated annealing is about"
      ],
      "metadata": {
        "id": "O4ldoZNLmpDp"
      }
    },
    {
      "cell_type": "code",
      "source": [
        "from gnn_for_co.core import create_train_state, train_step, get_classification, create_Q_matrix, create_max_cut_model\n",
        "\n",
        "import jax\n",
        "import jax.numpy as jnp\n",
        "import numpy as np\n",
        "import networkx as nx\n",
        "import openjij as oj\n",
        "import seaborn as sns\n",
        "import pandas as pd\n",
        "import matplotlib.pyplot as plt\n",
        "\n",
        "from tqdm.notebook import trange, tqdm"
      ],
      "metadata": {
        "id": "kVA7cUD2NZGC"
      },
      "execution_count": 17,
      "outputs": []
    },
    {
      "cell_type": "code",
      "source": [
        "G = nx.convert_node_labels_to_integers(nx.fast_gnp_random_graph(n = 100, p=0.05, seed=2023))"
      ],
      "metadata": {
        "id": "DR2A-4TjQedt"
      },
      "execution_count": 18,
      "outputs": []
    },
    {
      "cell_type": "code",
      "source": [
        "nx.draw(G, pos=nx.spring_layout(G, seed=2023), with_labels=True)"
      ],
      "metadata": {
        "colab": {
          "base_uri": "https://localhost:8080/",
          "height": 319
        },
        "id": "tPU3tt8eTFTf",
        "outputId": "d952b79e-e6e4-4f2a-8453-a5a41deb5231"
      },
      "execution_count": 19,
      "outputs": [
        {
          "output_type": "display_data",
          "data": {
            "text/plain": [
              "<Figure size 432x288 with 1 Axes>"
            ],
            "image/png": "[encoded data removed]"
          },
          "metadata": {}
        }
      ]
    },
    {
      "cell_type": "code",
      "source": [
        "sampler = oj.SASampler()"
      ],
      "metadata": {
        "id": "xS6Q_dkPSj17"
      },
      "execution_count": 20,
      "outputs": []
    },
    {
      "cell_type": "code",
      "source": [
        "model = create_max_cut_model(G)\n",
        "qubo_dict, offset = model.to_qubo()"
      ],
      "metadata": {
        "id": "xBC6sIYoS-G7"
      },
      "execution_count": 21,
      "outputs": []
    },
    {
      "cell_type": "code",
      "source": [
        "response = sampler.sample_qubo(qubo_dict, num_reads=1000)"
      ],
      "metadata": {
        "id": "sFhAY7ioUciY"
      },
      "execution_count": 22,
      "outputs": []
    },
    {
      "cell_type": "code",
      "source": [
        "response.first.energy"
      ],
      "metadata": {
        "colab": {
          "base_uri": "https://localhost:8080/"
        },
        "id": "jWNaIFwVVVMs",
        "outputId": "7a4f3029-15d1-4054-ad47-c0118ab4a662"
      },
      "execution_count": 23,
      "outputs": [
        {
          "output_type": "execute_result",
          "data": {
            "text/plain": [
              "-213.0"
            ]
          },
          "metadata": {},
          "execution_count": 23
        }
      ]
    },
    {
      "cell_type": "code",
      "source": [
        "node_color = [\"lightblue\" for i in range(G.number_of_nodes())]\n",
        "for x, val in response.first.sample.items():\n",
        "  if val == 1:\n",
        "    node_color[int(x[2:-1])] = \"yellow\""
      ],
      "metadata": {
        "id": "ovxDL6yflaE5"
      },
      "execution_count": 24,
      "outputs": []
    },
    {
      "cell_type": "code",
      "source": [
        "nx.draw(G, pos=nx.spring_layout(G, seed=2023), node_color=node_color, with_labels=True)"
      ],
      "metadata": {
        "colab": {
          "base_uri": "https://localhost:8080/",
          "height": 319
        },
        "id": "7cYOndCumFKp",
        "outputId": "976d5127-b3e5-422a-fc00-cbece34f6440"
      },
      "execution_count": 25,
      "outputs": [
        {
          "output_type": "display_data",
          "data": {
            "text/plain": [
              "<Figure size 432x288 with 1 Axes>"
            ],
            "image/png": "[encoded data removed]"
          },
          "metadata": {}
        }
      ]
    },
    {
      "cell_type": "markdown",
      "source": [
        "Notice that simulated annealing found a better solution. Time to "
      ],
      "metadata": {
        "id": "WcqSXvQKmxlX"
      }
    },
    {
      "cell_type": "code",
      "source": [
        "def inner_solve_with_gnn(G, embedding_size, hidden_size, learning_rate, epochs, dropout_rate, seed=2023, verbose=False):\n",
        "  A = jnp.array(nx.to_numpy_array(G))\n",
        "  Q = create_Q_matrix(G)\n",
        "\n",
        "  rng = jax.random.PRNGKey(seed)\n",
        "  rng, init_rng = jax.random.split(rng)\n",
        "  rng, embed_rng = jax.random.split(rng)\n",
        "  state = create_train_state(G.number_of_nodes(), embedding_size, hidden_size, init_rng, learning_rate, dropout_frac=0.01)\n",
        "  node_embeddings = jax.random.uniform(embed_rng, [G.number_of_nodes(), embedding_d0])\n",
        "\n",
        "  for epoch in trange(1, epochs + 1, disable=not verbose):\n",
        "    rng, dropout_rng = jax.random.split(rng)\n",
        "    state, metrics = train_step(state=state, node_embeddings=node_embeddings, adj_matrix=A, q_matrix=Q, dropout_rng=dropout_rng)\n",
        "\n",
        "    if epoch % 25 == 0 and verbose:\n",
        "      print('train epoch: %d, cost: %.2f' % (epoch, metrics[\"energy\"]))\n",
        "    \n",
        "  classification = np.array(get_classification(state.apply_fn, state.params, node_embeddings, A))\n",
        "  probs = state.apply_fn({\"params\": state.params}, node_embeddings, A)\n",
        "  solution = {f\"X[{i}]\": classification[i] for i in range(G.number_of_nodes())}\n",
        "  last_energy = metrics[\"energy\"]\n",
        "\n",
        "  return {\n",
        "      \"classification\": classification,\n",
        "      \"probs\": probs,\n",
        "      \"energy\": last_energy,\n",
        "      \"solution\": solution\n",
        "  }\n",
        "\n",
        "def solve_with_gnn(G, embedding_size, hidden_size, learning_rate, epochs, dropout_rate, seed=2023, verbose=False, shots=5):\n",
        "  lower_bound = -G.number_of_nodes()/10.0\n",
        "  \n",
        "  for k in range(shots):\n",
        "    solution = inner_solve_with_gnn(G, embedding_size, hidden_size, learning_rate, epochs, dropout_rate, seed + (k+1)**3, verbose=False)\n",
        "\n",
        "    if solution[\"energy\"] <= lower_bound:\n",
        "      break\n",
        "  \n",
        "  return solution"
      ],
      "metadata": {
        "id": "fd-sDgYanO5X"
      },
      "execution_count": 26,
      "outputs": []
    },
    {
      "cell_type": "code",
      "source": [
        "def solve_with_annealing(G, num_reads):\n",
        "  sampler = oj.SASampler()\n",
        "\n",
        "  model = create_max_cut_model(G)\n",
        "  qubo_dict, offset = model.to_qubo()\n",
        "\n",
        "  response = sampler.sample_qubo(qubo_dict, num_reads=num_reads)\n",
        "\n",
        "  return {\n",
        "      \"sample\": response.first.sample,\n",
        "      \"energy\": response.first.energy,\n",
        "      \"model\": model\n",
        "  }"
      ],
      "metadata": {
        "id": "v5nZCNBorwUK"
      },
      "execution_count": 27,
      "outputs": []
    },
    {
      "cell_type": "markdown",
      "source": [
        "\n",
        "Results for d = 3 regular graphs\n"
      ],
      "metadata": {
        "id": "Ysm-PjwQFSXL"
      }
    },
    {
      "cell_type": "code",
      "source": [
        "d3_graphs = {\n",
        "    i: nx.convert_node_labels_to_integers(nx.random_regular_graph(d=3, n=i, seed=2023)) for i in range(100, 2100, 100)\n",
        "}"
      ],
      "metadata": {
        "id": "SpLuMFIqXU-m"
      },
      "execution_count": 28,
      "outputs": []
    },
    {
      "cell_type": "code",
      "source": [
        "df = pd.DataFrame(columns=['N', 'Max-Cut Size', 'Algorithm'])\n",
        "gnn_results = []\n",
        "sa_results = []"
      ],
      "metadata": {
        "id": "Aidsn1gfF2L6"
      },
      "execution_count": 29,
      "outputs": []
    },
    {
      "cell_type": "code",
      "source": [
        "for i, G in tqdm(d3_graphs.items()):\n",
        "  \n",
        "  annealing_sol = solve_with_annealing(G, num_reads=2000)\n",
        "  model = annealing_sol[\"model\"]\n",
        "  sa_results.append(-annealing_sol[\"energy\"])\n",
        "\n",
        "  print(f\"N = {i}, Anneling found {sa_results[-1]}\")\n",
        "\n",
        "  embedding_d0 = int(np.sqrt(i))\n",
        "  embedding_d1 = embedding_d0//2\n",
        "  learning_rate = 0.005\n",
        "  epochs = 10000\n",
        "  if i < 1400:\n",
        "    dropout_rate = 0.01\n",
        "  else:\n",
        "    dropout_rate = 0.05\n",
        "  gnn_sol = solve_with_gnn(G, embedding_d0, embedding_d1, learning_rate, epochs, dropout_rate, seed=2023, verbose=False)\n",
        "\n",
        "\n",
        "  gnn_results.append(\n",
        "      -model.decode_sample(gnn_sol[\"solution\"], vartype=\"BINARY\").energy\n",
        "  )\n",
        "  print(f\"N = {i}, Graph Neural Networks found {gnn_results[-1]}\")"
      ],
      "metadata": {
        "colab": {
          "base_uri": "https://localhost:8080/",
          "height": 743,
          "referenced_widgets": [
            "d5b719d2dcc1486e9dbdf0008e5a8312",
            "667872bb727941bd9bfcf65316ffe385",
            "9747348583794d5ca1632fc5a6f3bf75",
            "d5d11131428644a7abd53ef120637c9a",
            "821fb04170ee439594048ff5d6d10a32",
            "7bd7a9881c834133927f668d32d367e9",
            "e5c832646cb94bfea971f79abd367641",
            "4a099c3456f04d25a498e5d9716b26c0",
            "f3cf0d0ecb48436ca6fc0fd435ca644d",
            "140650b7cbb744a9bd30adbd63d6682a",
            "d77c202d05a2477bbb41b5e67e10cfff"
          ]
        },
        "id": "7OgAB4v1F6fQ",
        "outputId": "46a8af6f-83ba-4a76-8b94-ae62fe604459"
      },
      "execution_count": 30,
      "outputs": [
        {
          "output_type": "display_data",
          "data": {
            "text/plain": [
              "  0%|          | 0/20 [00:00<?, ?it/s]"
            ],
            "application/vnd.jupyter.widget-view+json": {
              "version_major": 2,
              "version_minor": 0,
              "model_id": "d5b719d2dcc1486e9dbdf0008e5a8312"
            }
          },
          "metadata": {}
        },
        {
          "output_type": "stream",
          "name": "stdout",
          "text": [
            "N = 100, Anneling found 138.0\n",
            "N = 100, Graph Neural Networks found 122.0\n",
            "N = 200, Anneling found 275.0\n",
            "N = 200, Graph Neural Networks found 241.0\n",
            "N = 300, Anneling found 413.0\n",
            "N = 300, Graph Neural Networks found 360.0\n",
            "N = 400, Anneling found 551.0\n",
            "N = 400, Graph Neural Networks found 490.0\n",
            "N = 500, Anneling found 689.0\n",
            "N = 500, Graph Neural Networks found 602.0\n",
            "N = 600, Anneling found 828.0\n",
            "N = 600, Graph Neural Networks found 727.0\n",
            "N = 700, Anneling found 965.0\n",
            "N = 700, Graph Neural Networks found 844.0\n",
            "N = 800, Anneling found 1103.0\n",
            "N = 800, Graph Neural Networks found 961.0\n",
            "N = 900, Anneling found 1242.0\n",
            "N = 900, Graph Neural Networks found 1085.0\n",
            "N = 1000, Anneling found 1381.0\n",
            "N = 1000, Graph Neural Networks found 1190.0\n",
            "N = 1100, Anneling found 1518.0\n",
            "N = 1100, Graph Neural Networks found 1345.0\n",
            "N = 1200, Anneling found 1657.0\n",
            "N = 1200, Graph Neural Networks found 1469.0\n",
            "N = 1300, Anneling found 1791.0\n",
            "N = 1300, Graph Neural Networks found 1567.0\n",
            "N = 1400, Anneling found 1935.0\n",
            "N = 1400, Graph Neural Networks found 1675.0\n",
            "N = 1500, Anneling found 2069.0\n",
            "N = 1500, Graph Neural Networks found 1808.0\n",
            "N = 1600, Anneling found 2207.0\n",
            "N = 1600, Graph Neural Networks found 1935.0\n",
            "N = 1700, Anneling found 2346.0\n",
            "N = 1700, Graph Neural Networks found 2063.0\n",
            "N = 1800, Anneling found 2488.0\n",
            "N = 1800, Graph Neural Networks found 2179.0\n",
            "N = 1900, Anneling found 2618.0\n",
            "N = 1900, Graph Neural Networks found 2298.0\n",
            "N = 2000, Anneling found 2761.0\n",
            "N = 2000, Graph Neural Networks found 2455.0\n"
          ]
        }
      ]
    },
    {
      "cell_type": "code",
      "source": [
        "import seaborn as sns\n",
        "sns.set_theme()"
      ],
      "metadata": {
        "id": "XLijWIp4Jjh2"
      },
      "execution_count": 31,
      "outputs": []
    },
    {
      "cell_type": "code",
      "source": [
        "for n, cut_size in zip(range(100, 2100, 100), gnn_results):\n",
        "  df.loc[len(df)] = [n, cut_size, \"Graph Neural Network\"]"
      ],
      "metadata": {
        "id": "JIfxjdjXsMSm"
      },
      "execution_count": 32,
      "outputs": []
    },
    {
      "cell_type": "code",
      "source": [
        "for n, cut_size in zip(range(100, 2100, 100), sa_results):\n",
        "  df.loc[len(df)] = [n, cut_size, \"Simulated Annealing\"]"
      ],
      "metadata": {
        "id": "x4gQbse5sshy"
      },
      "execution_count": 33,
      "outputs": []
    },
    {
      "cell_type": "code",
      "source": [
        "sns.scatterplot(\n",
        "    data=df, x =\"N\", y=\"Max-Cut Size\", hue=\"Algorithm\"\n",
        ").set(\n",
        "    title=\"Comparison of Max-Cut size solutions from Graph Neural Networks \\n versus Simulated Annealing for d-Regular Graphs (d = 3)\",\n",
        "    ylabel=\"Max-Cut Size\",\n",
        "    xlabel=\"Number of vertices in the graph\",\n",
        ")\n",
        "plt.plot()"
      ],
      "metadata": {
        "colab": {
          "base_uri": "https://localhost:8080/",
          "height": 333
        },
        "id": "CzKI42kUTVTk",
        "outputId": "0abd8d41-98d7-4648-fa07-071df9ef764c"
      },
      "execution_count": 34,
      "outputs": [
        {
          "output_type": "execute_result",
          "data": {
            "text/plain": [
              "[]"
            ]
          },
          "metadata": {},
          "execution_count": 34
        },
        {
          "output_type": "display_data",
          "data": {
            "text/plain": [
              "<Figure size 432x288 with 1 Axes>"
            ],
            "image/png": "[encoded data removed]"
          },
          "metadata": {}
        }
      ]
    },
    {
      "cell_type": "markdown",
      "source": [
        "Now for d=5"
      ],
      "metadata": {
        "id": "7qExv6WIT5HV"
      }
    },
    {
      "cell_type": "code",
      "source": [
        "d5_graphs = {\n",
        "    i: nx.convert_node_labels_to_integers(nx.random_regular_graph(d=5, n=i, seed=2023)) for i in range(100, 2100, 100)\n",
        "}"
      ],
      "metadata": {
        "id": "OwEdyz3rTsCM"
      },
      "execution_count": 35,
      "outputs": []
    },
    {
      "cell_type": "code",
      "source": [
        "df = pd.DataFrame(columns=['N', 'Max-Cut Size', 'Algorithm'])\n",
        "gnn_results = []\n",
        "sa_results = []"
      ],
      "metadata": {
        "id": "VlXaiX5mt-HW"
      },
      "execution_count": 36,
      "outputs": []
    },
    {
      "cell_type": "code",
      "source": [
        "for i, G in tqdm(d5_graphs.items()):\n",
        "  \n",
        "  annealing_sol = solve_with_annealing(G, num_reads=2000)\n",
        "  model = annealing_sol[\"model\"]\n",
        "  sa_results.append(-annealing_sol[\"energy\"])\n",
        "\n",
        "  print(f\"N = {i}, Anneling found {sa_results[-1]}\")\n",
        "\n",
        "  embedding_d0 = int(np.sqrt(i))\n",
        "  embedding_d1 = embedding_d0//2\n",
        "  learning_rate = 0.005\n",
        "  epochs = 10000\n",
        "  if i < 1400:\n",
        "    dropout_rate = 0.01\n",
        "  else:\n",
        "    dropout_rate = 0.05\n",
        "  gnn_sol = solve_with_gnn(G, embedding_d0, embedding_d1, learning_rate, epochs, dropout_rate, seed=2023, verbose=False)\n",
        "\n",
        "\n",
        "  gnn_results.append(\n",
        "      -model.decode_sample(gnn_sol[\"solution\"], vartype=\"BINARY\").energy\n",
        "  )\n",
        "  print(f\"N = {i}, Graph Neural Networks found {gnn_results[-1]}\")"
      ],
      "metadata": {
        "colab": {
          "base_uri": "https://localhost:8080/",
          "height": 396,
          "referenced_widgets": [
            "e9964b2cc1f04968ae010939afde89e0",
            "2d26bcf285f54a9c8e27483ca944c420",
            "b6781fbf3cbc44dd8312d8a39c8a4e17",
            "bef83a87cd234a66ad2cab0ac81b66e5",
            "03d7383f72a547b1bc73a875e6a1132c",
            "8960ee91fa02432c98c66e379627b20b",
            "47a869280bb64f7aae228e54d7ac199c",
            "7206452e6ed248df876ba5a528a65040",
            "4cc768a16ac3416ab5878296ece90490",
            "02626d0b3eb04ca8890aecf455e6dc18",
            "211e2fa497954f81a6b133e40b07fcf7"
          ]
        },
        "id": "fTZ1iNuLT8C-",
        "outputId": "d843f54a-7851-4416-c3a6-36fe45833845"
      },
      "execution_count": null,
      "outputs": [
        {
          "output_type": "display_data",
          "data": {
            "text/plain": [
              "  0%|          | 0/20 [00:00<?, ?it/s]"
            ],
            "application/vnd.jupyter.widget-view+json": {
              "version_major": 2,
              "version_minor": 0,
              "model_id": "e9964b2cc1f04968ae010939afde89e0"
            }
          },
          "metadata": {}
        },
        {
          "output_type": "stream",
          "name": "stdout",
          "text": [
            "N = 100, Anneling found 205.0\n",
            "N = 100, Graph Neural Networks found 189.0\n",
            "N = 200, Anneling found 411.0\n",
            "N = 200, Graph Neural Networks found 371.0\n",
            "N = 300, Anneling found 623.0\n",
            "N = 300, Graph Neural Networks found 562.0\n",
            "N = 400, Anneling found 829.0\n",
            "N = 400, Graph Neural Networks found 739.0\n",
            "N = 500, Anneling found 1039.0\n",
            "N = 500, Graph Neural Networks found 905.0\n",
            "N = 600, Anneling found 1244.0\n",
            "N = 600, Graph Neural Networks found 1104.0\n",
            "N = 700, Anneling found 1455.0\n",
            "N = 700, Graph Neural Networks found 1269.0\n",
            "N = 800, Anneling found 1661.0\n",
            "N = 800, Graph Neural Networks found 1471.0\n",
            "N = 900, Anneling found 1871.0\n",
            "N = 900, Graph Neural Networks found 1655.0\n",
            "N = 1000, Anneling found 2081.0\n",
            "N = 1000, Graph Neural Networks found 1835.0\n"
          ]
        }
      ]
    },
    {
      "cell_type": "code",
      "source": [
        "for n, cut_size in zip(range(100, 2100, 100), gnn_results):\n",
        "  df.loc[len(df)] = [n, cut_size, \"Graph Neural Network\"]"
      ],
      "metadata": {
        "id": "yfFQTDBIuEHw"
      },
      "execution_count": null,
      "outputs": []
    },
    {
      "cell_type": "code",
      "source": [
        "for n, cut_size in zip(range(100, 2100, 100), sa_results):\n",
        "  df.loc[len(df)] = [n, cut_size, \"Simulated Annealing\"]"
      ],
      "metadata": {
        "id": "Dg6XULn_uE-c"
      },
      "execution_count": null,
      "outputs": []
    },
    {
      "cell_type": "code",
      "source": [
        "sns.scatterplot(\n",
        "    data=df, x =\"N\", y=\"Max-Cut Size\", hue=\"Algorithm\"\n",
        ").set(\n",
        "    title=\"Comparison of Max-Cut size solutions from Graph Neural Networks \\n versus Simulated Annealing for d-Regular Graphs (d = 5)\",\n",
        "    ylabel=\"Max-Cut Size\",\n",
        "    xlabel=\"Number of vertices in the graph\",\n",
        ")\n",
        "plt.plot()"
      ],
      "metadata": {
        "id": "rwltZvn3UFyB"
      },
      "execution_count": null,
      "outputs": []
    }
  ]
}