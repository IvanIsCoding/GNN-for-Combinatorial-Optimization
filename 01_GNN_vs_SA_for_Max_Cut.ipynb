{
  "nbformat": 4,
  "nbformat_minor": 0,
  "metadata": {
    "colab": {
      "provenance": [],
      "authorship_tag": "ABX9TyN0l87PXocjfxgzkBLPUsGC",
      "include_colab_link": true
    },
    "kernelspec": {
      "name": "python3",
      "display_name": "Python 3"
    },
    "language_info": {
      "name": "python"
    },
    "gpuClass": "standard",
    "widgets": {
      "application/vnd.jupyter.widget-state+json": {
        "3669cfb281554c939cc48f7d05f14dd7": {
          "model_module": "@jupyter-widgets/controls",
          "model_name": "HBoxModel",
          "model_module_version": "1.5.0",
          "state": {
            "_dom_classes": [],
            "_model_module": "@jupyter-widgets/controls",
            "_model_module_version": "1.5.0",
            "_model_name": "HBoxModel",
            "_view_count": null,
            "_view_module": "@jupyter-widgets/controls",
            "_view_module_version": "1.5.0",
            "_view_name": "HBoxView",
            "box_style": "",
            "children": [
              "IPY_MODEL_df0e077a326f4281b0405d603db25cf5",
              "IPY_MODEL_7472ba66d4a349db80f867bb4db24bb1",
              "IPY_MODEL_df217d9180e6428498cc6aad98d2bf00"
            ],
            "layout": "IPY_MODEL_a5af1d61f1b241e18d48d65f4db9dd22"
          }
        },
        "df0e077a326f4281b0405d603db25cf5": {
          "model_module": "@jupyter-widgets/controls",
          "model_name": "HTMLModel",
          "model_module_version": "1.5.0",
          "state": {
            "_dom_classes": [],
            "_model_module": "@jupyter-widgets/controls",
            "_model_module_version": "1.5.0",
            "_model_name": "HTMLModel",
            "_view_count": null,
            "_view_module": "@jupyter-widgets/controls",
            "_view_module_version": "1.5.0",
            "_view_name": "HTMLView",
            "description": "",
            "description_tooltip": null,
            "layout": "IPY_MODEL_c52ca32ac89142f59c0839a529ac3d4e",
            "placeholder": "​",
            "style": "IPY_MODEL_a8edf159d61449cd881ed314b369f0a5",
            "value": "100%"
          }
        },
        "7472ba66d4a349db80f867bb4db24bb1": {
          "model_module": "@jupyter-widgets/controls",
          "model_name": "FloatProgressModel",
          "model_module_version": "1.5.0",
          "state": {
            "_dom_classes": [],
            "_model_module": "@jupyter-widgets/controls",
            "_model_module_version": "1.5.0",
            "_model_name": "FloatProgressModel",
            "_view_count": null,
            "_view_module": "@jupyter-widgets/controls",
            "_view_module_version": "1.5.0",
            "_view_name": "ProgressView",
            "bar_style": "success",
            "description": "",
            "description_tooltip": null,
            "layout": "IPY_MODEL_c64e5e43f6ba418d966c7b997ab6d9f6",
            "max": 20,
            "min": 0,
            "orientation": "horizontal",
            "style": "IPY_MODEL_07d45a2da7b241dfaa7d37e7cfc61314",
            "value": 20
          }
        },
        "df217d9180e6428498cc6aad98d2bf00": {
          "model_module": "@jupyter-widgets/controls",
          "model_name": "HTMLModel",
          "model_module_version": "1.5.0",
          "state": {
            "_dom_classes": [],
            "_model_module": "@jupyter-widgets/controls",
            "_model_module_version": "1.5.0",
            "_model_name": "HTMLModel",
            "_view_count": null,
            "_view_module": "@jupyter-widgets/controls",
            "_view_module_version": "1.5.0",
            "_view_name": "HTMLView",
            "description": "",
            "description_tooltip": null,
            "layout": "IPY_MODEL_df99a82aafeb4f9c9bd456f23e841691",
            "placeholder": "​",
            "style": "IPY_MODEL_33348f3fbe92429a88a3eb3962bf8f26",
            "value": " 20/20 [22:00&lt;00:00, 106.87s/it]"
          }
        },
        "a5af1d61f1b241e18d48d65f4db9dd22": {
          "model_module": "@jupyter-widgets/base",
          "model_name": "LayoutModel",
          "model_module_version": "1.2.0",
          "state": {
            "_model_module": "@jupyter-widgets/base",
            "_model_module_version": "1.2.0",
            "_model_name": "LayoutModel",
            "_view_count": null,
            "_view_module": "@jupyter-widgets/base",
            "_view_module_version": "1.2.0",
            "_view_name": "LayoutView",
            "align_content": null,
            "align_items": null,
            "align_self": null,
            "border": null,
            "bottom": null,
            "display": null,
            "flex": null,
            "flex_flow": null,
            "grid_area": null,
            "grid_auto_columns": null,
            "grid_auto_flow": null,
            "grid_auto_rows": null,
            "grid_column": null,
            "grid_gap": null,
            "grid_row": null,
            "grid_template_areas": null,
            "grid_template_columns": null,
            "grid_template_rows": null,
            "height": null,
            "justify_content": null,
            "justify_items": null,
            "left": null,
            "margin": null,
            "max_height": null,
            "max_width": null,
            "min_height": null,
            "min_width": null,
            "object_fit": null,
            "object_position": null,
            "order": null,
            "overflow": null,
            "overflow_x": null,
            "overflow_y": null,
            "padding": null,
            "right": null,
            "top": null,
            "visibility": null,
            "width": null
          }
        },
        "c52ca32ac89142f59c0839a529ac3d4e": {
          "model_module": "@jupyter-widgets/base",
          "model_name": "LayoutModel",
          "model_module_version": "1.2.0",
          "state": {
            "_model_module": "@jupyter-widgets/base",
            "_model_module_version": "1.2.0",
            "_model_name": "LayoutModel",
            "_view_count": null,
            "_view_module": "@jupyter-widgets/base",
            "_view_module_version": "1.2.0",
            "_view_name": "LayoutView",
            "align_content": null,
            "align_items": null,
            "align_self": null,
            "border": null,
            "bottom": null,
            "display": null,
            "flex": null,
            "flex_flow": null,
            "grid_area": null,
            "grid_auto_columns": null,
            "grid_auto_flow": null,
            "grid_auto_rows": null,
            "grid_column": null,
            "grid_gap": null,
            "grid_row": null,
            "grid_template_areas": null,
            "grid_template_columns": null,
            "grid_template_rows": null,
            "height": null,
            "justify_content": null,
            "justify_items": null,
            "left": null,
            "margin": null,
            "max_height": null,
            "max_width": null,
            "min_height": null,
            "min_width": null,
            "object_fit": null,
            "object_position": null,
            "order": null,
            "overflow": null,
            "overflow_x": null,
            "overflow_y": null,
            "padding": null,
            "right": null,
            "top": null,
            "visibility": null,
            "width": null
          }
        },
        "a8edf159d61449cd881ed314b369f0a5": {
          "model_module": "@jupyter-widgets/controls",
          "model_name": "DescriptionStyleModel",
          "model_module_version": "1.5.0",
          "state": {
            "_model_module": "@jupyter-widgets/controls",
            "_model_module_version": "1.5.0",
            "_model_name": "DescriptionStyleModel",
            "_view_count": null,
            "_view_module": "@jupyter-widgets/base",
            "_view_module_version": "1.2.0",
            "_view_name": "StyleView",
            "description_width": ""
          }
        },
        "c64e5e43f6ba418d966c7b997ab6d9f6": {
          "model_module": "@jupyter-widgets/base",
          "model_name": "LayoutModel",
          "model_module_version": "1.2.0",
          "state": {
            "_model_module": "@jupyter-widgets/base",
            "_model_module_version": "1.2.0",
            "_model_name": "LayoutModel",
            "_view_count": null,
            "_view_module": "@jupyter-widgets/base",
            "_view_module_version": "1.2.0",
            "_view_name": "LayoutView",
            "align_content": null,
            "align_items": null,
            "align_self": null,
            "border": null,
            "bottom": null,
            "display": null,
            "flex": null,
            "flex_flow": null,
            "grid_area": null,
            "grid_auto_columns": null,
            "grid_auto_flow": null,
            "grid_auto_rows": null,
            "grid_column": null,
            "grid_gap": null,
            "grid_row": null,
            "grid_template_areas": null,
            "grid_template_columns": null,
            "grid_template_rows": null,
            "height": null,
            "justify_content": null,
            "justify_items": null,
            "left": null,
            "margin": null,
            "max_height": null,
            "max_width": null,
            "min_height": null,
            "min_width": null,
            "object_fit": null,
            "object_position": null,
            "order": null,
            "overflow": null,
            "overflow_x": null,
            "overflow_y": null,
            "padding": null,
            "right": null,
            "top": null,
            "visibility": null,
            "width": null
          }
        },
        "07d45a2da7b241dfaa7d37e7cfc61314": {
          "model_module": "@jupyter-widgets/controls",
          "model_name": "ProgressStyleModel",
          "model_module_version": "1.5.0",
          "state": {
            "_model_module": "@jupyter-widgets/controls",
            "_model_module_version": "1.5.0",
            "_model_name": "ProgressStyleModel",
            "_view_count": null,
            "_view_module": "@jupyter-widgets/base",
            "_view_module_version": "1.2.0",
            "_view_name": "StyleView",
            "bar_color": null,
            "description_width": ""
          }
        },
        "df99a82aafeb4f9c9bd456f23e841691": {
          "model_module": "@jupyter-widgets/base",
          "model_name": "LayoutModel",
          "model_module_version": "1.2.0",
          "state": {
            "_model_module": "@jupyter-widgets/base",
            "_model_module_version": "1.2.0",
            "_model_name": "LayoutModel",
            "_view_count": null,
            "_view_module": "@jupyter-widgets/base",
            "_view_module_version": "1.2.0",
            "_view_name": "LayoutView",
            "align_content": null,
            "align_items": null,
            "align_self": null,
            "border": null,
            "bottom": null,
            "display": null,
            "flex": null,
            "flex_flow": null,
            "grid_area": null,
            "grid_auto_columns": null,
            "grid_auto_flow": null,
            "grid_auto_rows": null,
            "grid_column": null,
            "grid_gap": null,
            "grid_row": null,
            "grid_template_areas": null,
            "grid_template_columns": null,
            "grid_template_rows": null,
            "height": null,
            "justify_content": null,
            "justify_items": null,
            "left": null,
            "margin": null,
            "max_height": null,
            "max_width": null,
            "min_height": null,
            "min_width": null,
            "object_fit": null,
            "object_position": null,
            "order": null,
            "overflow": null,
            "overflow_x": null,
            "overflow_y": null,
            "padding": null,
            "right": null,
            "top": null,
            "visibility": null,
            "width": null
          }
        },
        "33348f3fbe92429a88a3eb3962bf8f26": {
          "model_module": "@jupyter-widgets/controls",
          "model_name": "DescriptionStyleModel",
          "model_module_version": "1.5.0",
          "state": {
            "_model_module": "@jupyter-widgets/controls",
            "_model_module_version": "1.5.0",
            "_model_name": "DescriptionStyleModel",
            "_view_count": null,
            "_view_module": "@jupyter-widgets/base",
            "_view_module_version": "1.2.0",
            "_view_name": "StyleView",
            "description_width": ""
          }
        },
        "17c5c4d7bc6c4586ae6789a6808c9fac": {
          "model_module": "@jupyter-widgets/controls",
          "model_name": "HBoxModel",
          "model_module_version": "1.5.0",
          "state": {
            "_dom_classes": [],
            "_model_module": "@jupyter-widgets/controls",
            "_model_module_version": "1.5.0",
            "_model_name": "HBoxModel",
            "_view_count": null,
            "_view_module": "@jupyter-widgets/controls",
            "_view_module_version": "1.5.0",
            "_view_name": "HBoxView",
            "box_style": "",
            "children": [
              "IPY_MODEL_6d1c7d2e3a124c6e8e91e6837c7b815b",
              "IPY_MODEL_555a29c24c774c2ebe8cf5ca7f2dcfe4",
              "IPY_MODEL_00335ff98a4441ca9fc7f9c6559a51f3"
            ],
            "layout": "IPY_MODEL_742778d5fb304399a791cc42eb3bd99c"
          }
        },
        "6d1c7d2e3a124c6e8e91e6837c7b815b": {
          "model_module": "@jupyter-widgets/controls",
          "model_name": "HTMLModel",
          "model_module_version": "1.5.0",
          "state": {
            "_dom_classes": [],
            "_model_module": "@jupyter-widgets/controls",
            "_model_module_version": "1.5.0",
            "_model_name": "HTMLModel",
            "_view_count": null,
            "_view_module": "@jupyter-widgets/controls",
            "_view_module_version": "1.5.0",
            "_view_name": "HTMLView",
            "description": "",
            "description_tooltip": null,
            "layout": "IPY_MODEL_c69303f782294dd19f61c77561b3c705",
            "placeholder": "​",
            "style": "IPY_MODEL_fa917d97963649e196daa72c87da8603",
            "value": "100%"
          }
        },
        "555a29c24c774c2ebe8cf5ca7f2dcfe4": {
          "model_module": "@jupyter-widgets/controls",
          "model_name": "FloatProgressModel",
          "model_module_version": "1.5.0",
          "state": {
            "_dom_classes": [],
            "_model_module": "@jupyter-widgets/controls",
            "_model_module_version": "1.5.0",
            "_model_name": "FloatProgressModel",
            "_view_count": null,
            "_view_module": "@jupyter-widgets/controls",
            "_view_module_version": "1.5.0",
            "_view_name": "ProgressView",
            "bar_style": "success",
            "description": "",
            "description_tooltip": null,
            "layout": "IPY_MODEL_7d0d91de88eb426fb936514ed58eb7b3",
            "max": 20,
            "min": 0,
            "orientation": "horizontal",
            "style": "IPY_MODEL_b92db35787b04960b11edd992bf6675a",
            "value": 20
          }
        },
        "00335ff98a4441ca9fc7f9c6559a51f3": {
          "model_module": "@jupyter-widgets/controls",
          "model_name": "HTMLModel",
          "model_module_version": "1.5.0",
          "state": {
            "_dom_classes": [],
            "_model_module": "@jupyter-widgets/controls",
            "_model_module_version": "1.5.0",
            "_model_name": "HTMLModel",
            "_view_count": null,
            "_view_module": "@jupyter-widgets/controls",
            "_view_module_version": "1.5.0",
            "_view_name": "HTMLView",
            "description": "",
            "description_tooltip": null,
            "layout": "IPY_MODEL_c3f64bd2cef94fada7cac9a090e52ce3",
            "placeholder": "​",
            "style": "IPY_MODEL_b392de1dd6494f47a008b34f4fbb2f93",
            "value": " 20/20 [23:24&lt;00:00, 113.07s/it]"
          }
        },
        "742778d5fb304399a791cc42eb3bd99c": {
          "model_module": "@jupyter-widgets/base",
          "model_name": "LayoutModel",
          "model_module_version": "1.2.0",
          "state": {
            "_model_module": "@jupyter-widgets/base",
            "_model_module_version": "1.2.0",
            "_model_name": "LayoutModel",
            "_view_count": null,
            "_view_module": "@jupyter-widgets/base",
            "_view_module_version": "1.2.0",
            "_view_name": "LayoutView",
            "align_content": null,
            "align_items": null,
            "align_self": null,
            "border": null,
            "bottom": null,
            "display": null,
            "flex": null,
            "flex_flow": null,
            "grid_area": null,
            "grid_auto_columns": null,
            "grid_auto_flow": null,
            "grid_auto_rows": null,
            "grid_column": null,
            "grid_gap": null,
            "grid_row": null,
            "grid_template_areas": null,
            "grid_template_columns": null,
            "grid_template_rows": null,
            "height": null,
            "justify_content": null,
            "justify_items": null,
            "left": null,
            "margin": null,
            "max_height": null,
            "max_width": null,
            "min_height": null,
            "min_width": null,
            "object_fit": null,
            "object_position": null,
            "order": null,
            "overflow": null,
            "overflow_x": null,
            "overflow_y": null,
            "padding": null,
            "right": null,
            "top": null,
            "visibility": null,
            "width": null
          }
        },
        "c69303f782294dd19f61c77561b3c705": {
          "model_module": "@jupyter-widgets/base",
          "model_name": "LayoutModel",
          "model_module_version": "1.2.0",
          "state": {
            "_model_module": "@jupyter-widgets/base",
            "_model_module_version": "1.2.0",
            "_model_name": "LayoutModel",
            "_view_count": null,
            "_view_module": "@jupyter-widgets/base",
            "_view_module_version": "1.2.0",
            "_view_name": "LayoutView",
            "align_content": null,
            "align_items": null,
            "align_self": null,
            "border": null,
            "bottom": null,
            "display": null,
            "flex": null,
            "flex_flow": null,
            "grid_area": null,
            "grid_auto_columns": null,
            "grid_auto_flow": null,
            "grid_auto_rows": null,
            "grid_column": null,
            "grid_gap": null,
            "grid_row": null,
            "grid_template_areas": null,
            "grid_template_columns": null,
            "grid_template_rows": null,
            "height": null,
            "justify_content": null,
            "justify_items": null,
            "left": null,
            "margin": null,
            "max_height": null,
            "max_width": null,
            "min_height": null,
            "min_width": null,
            "object_fit": null,
            "object_position": null,
            "order": null,
            "overflow": null,
            "overflow_x": null,
            "overflow_y": null,
            "padding": null,
            "right": null,
            "top": null,
            "visibility": null,
            "width": null
          }
        },
        "fa917d97963649e196daa72c87da8603": {
          "model_module": "@jupyter-widgets/controls",
          "model_name": "DescriptionStyleModel",
          "model_module_version": "1.5.0",
          "state": {
            "_model_module": "@jupyter-widgets/controls",
            "_model_module_version": "1.5.0",
            "_model_name": "DescriptionStyleModel",
            "_view_count": null,
            "_view_module": "@jupyter-widgets/base",
            "_view_module_version": "1.2.0",
            "_view_name": "StyleView",
            "description_width": ""
          }
        },
        "7d0d91de88eb426fb936514ed58eb7b3": {
          "model_module": "@jupyter-widgets/base",
          "model_name": "LayoutModel",
          "model_module_version": "1.2.0",
          "state": {
            "_model_module": "@jupyter-widgets/base",
            "_model_module_version": "1.2.0",
            "_model_name": "LayoutModel",
            "_view_count": null,
            "_view_module": "@jupyter-widgets/base",
            "_view_module_version": "1.2.0",
            "_view_name": "LayoutView",
            "align_content": null,
            "align_items": null,
            "align_self": null,
            "border": null,
            "bottom": null,
            "display": null,
            "flex": null,
            "flex_flow": null,
            "grid_area": null,
            "grid_auto_columns": null,
            "grid_auto_flow": null,
            "grid_auto_rows": null,
            "grid_column": null,
            "grid_gap": null,
            "grid_row": null,
            "grid_template_areas": null,
            "grid_template_columns": null,
            "grid_template_rows": null,
            "height": null,
            "justify_content": null,
            "justify_items": null,
            "left": null,
            "margin": null,
            "max_height": null,
            "max_width": null,
            "min_height": null,
            "min_width": null,
            "object_fit": null,
            "object_position": null,
            "order": null,
            "overflow": null,
            "overflow_x": null,
            "overflow_y": null,
            "padding": null,
            "right": null,
            "top": null,
            "visibility": null,
            "width": null
          }
        },
        "b92db35787b04960b11edd992bf6675a": {
          "model_module": "@jupyter-widgets/controls",
          "model_name": "ProgressStyleModel",
          "model_module_version": "1.5.0",
          "state": {
            "_model_module": "@jupyter-widgets/controls",
            "_model_module_version": "1.5.0",
            "_model_name": "ProgressStyleModel",
            "_view_count": null,
            "_view_module": "@jupyter-widgets/base",
            "_view_module_version": "1.2.0",
            "_view_name": "StyleView",
            "bar_color": null,
            "description_width": ""
          }
        },
        "c3f64bd2cef94fada7cac9a090e52ce3": {
          "model_module": "@jupyter-widgets/base",
          "model_name": "LayoutModel",
          "model_module_version": "1.2.0",
          "state": {
            "_model_module": "@jupyter-widgets/base",
            "_model_module_version": "1.2.0",
            "_model_name": "LayoutModel",
            "_view_count": null,
            "_view_module": "@jupyter-widgets/base",
            "_view_module_version": "1.2.0",
            "_view_name": "LayoutView",
            "align_content": null,
            "align_items": null,
            "align_self": null,
            "border": null,
            "bottom": null,
            "display": null,
            "flex": null,
            "flex_flow": null,
            "grid_area": null,
            "grid_auto_columns": null,
            "grid_auto_flow": null,
            "grid_auto_rows": null,
            "grid_column": null,
            "grid_gap": null,
            "grid_row": null,
            "grid_template_areas": null,
            "grid_template_columns": null,
            "grid_template_rows": null,
            "height": null,
            "justify_content": null,
            "justify_items": null,
            "left": null,
            "margin": null,
            "max_height": null,
            "max_width": null,
            "min_height": null,
            "min_width": null,
            "object_fit": null,
            "object_position": null,
            "order": null,
            "overflow": null,
            "overflow_x": null,
            "overflow_y": null,
            "padding": null,
            "right": null,
            "top": null,
            "visibility": null,
            "width": null
          }
        },
        "b392de1dd6494f47a008b34f4fbb2f93": {
          "model_module": "@jupyter-widgets/controls",
          "model_name": "DescriptionStyleModel",
          "model_module_version": "1.5.0",
          "state": {
            "_model_module": "@jupyter-widgets/controls",
            "_model_module_version": "1.5.0",
            "_model_name": "DescriptionStyleModel",
            "_view_count": null,
            "_view_module": "@jupyter-widgets/base",
            "_view_module_version": "1.2.0",
            "_view_name": "StyleView",
            "description_width": ""
          }
        }
      }
    }
  },
  "cells": [
    {
      "cell_type": "markdown",
      "metadata": {
        "id": "view-in-github",
        "colab_type": "text"
      },
      "source": [
        "<a href=\"https://colab.research.google.com/github/IvanIsCoding/GNN-for-Combinatorial-Optimization/blob/main/01_GNN_vs_SA_for_Max_Cut.ipynb\" target=\"_parent\"><img src=\"https://colab.research.google.com/assets/colab-badge.svg\" alt=\"Open In Colab\"/></a>"
      ]
    },
    {
      "cell_type": "markdown",
      "source": [
        "This is where we compare Graph Neural Networks vs Simulated Annealing\n",
        "\n",
        "https://arxiv.org/abs/2206.13211"
      ],
      "metadata": {
        "id": "uIjGwozFmc4z"
      }
    },
    {
      "cell_type": "code",
      "execution_count": 17,
      "metadata": {
        "colab": {
          "base_uri": "https://localhost:8080/"
        },
        "id": "uiPheC_SMl6_",
        "outputId": "3b09905f-94e5-450e-a254-d0b6bad133d1"
      },
      "outputs": [
        {
          "output_type": "stream",
          "name": "stdout",
          "text": [
            "  Preparing metadata (setup.py) ... \u001b[?25l\u001b[?25hdone\n"
          ]
        }
      ],
      "source": [
        "!pip install -q git+https://github.com/IvanIsCoding/GNN-for-Combinatorial-Optimization.git"
      ]
    },
    {
      "cell_type": "markdown",
      "source": [
        "We saw the definition of GNNs on the previous one, time to see what simulated annealing is about"
      ],
      "metadata": {
        "id": "O4ldoZNLmpDp"
      }
    },
    {
      "cell_type": "code",
      "source": [
        "from gnn_for_co.core import create_train_state, train_step, get_classification, create_Q_matrix, create_max_cut_model\n",
        "\n",
        "import jax\n",
        "import jax.numpy as jnp\n",
        "import numpy as np\n",
        "import networkx as nx\n",
        "import openjij as oj\n",
        "from tqdm.notebook import trange, tqdm"
      ],
      "metadata": {
        "id": "kVA7cUD2NZGC"
      },
      "execution_count": 18,
      "outputs": []
    },
    {
      "cell_type": "code",
      "source": [
        "G = nx.convert_node_labels_to_integers(nx.fast_gnp_random_graph(n = 100, p=0.05, seed=2023))"
      ],
      "metadata": {
        "id": "DR2A-4TjQedt"
      },
      "execution_count": 19,
      "outputs": []
    },
    {
      "cell_type": "code",
      "source": [
        "nx.draw(G, pos=nx.spring_layout(G, seed=2023), with_labels=True)"
      ],
      "metadata": {
        "colab": {
          "base_uri": "https://localhost:8080/",
          "height": 319
        },
        "id": "tPU3tt8eTFTf",
        "outputId": "b28c7421-f04b-4bb3-8141-5eba6f12b4e3"
      },
      "execution_count": 20,
      "outputs": [
        {
          "output_type": "display_data",
          "data": {
            "text/plain": [
              "<Figure size 432x288 with 1 Axes>"
            ],
            "image/png": "[encoded data removed]"
          },
          "metadata": {}
        }
      ]
    },
    {
      "cell_type": "code",
      "source": [
        "sampler = oj.SASampler()"
      ],
      "metadata": {
        "id": "xS6Q_dkPSj17"
      },
      "execution_count": 21,
      "outputs": []
    },
    {
      "cell_type": "code",
      "source": [
        "model = create_max_cut_model(G)\n",
        "qubo_dict, offset = model.to_qubo()"
      ],
      "metadata": {
        "id": "xBC6sIYoS-G7"
      },
      "execution_count": 22,
      "outputs": []
    },
    {
      "cell_type": "code",
      "source": [
        "response = sampler.sample_qubo(qubo_dict, num_reads=1000)"
      ],
      "metadata": {
        "id": "sFhAY7ioUciY"
      },
      "execution_count": 23,
      "outputs": []
    },
    {
      "cell_type": "code",
      "source": [
        "response.first.energy"
      ],
      "metadata": {
        "colab": {
          "base_uri": "https://localhost:8080/"
        },
        "id": "jWNaIFwVVVMs",
        "outputId": "96fc5d88-c361-4de8-f15f-17ef11a5c3fb"
      },
      "execution_count": 24,
      "outputs": [
        {
          "output_type": "execute_result",
          "data": {
            "text/plain": [
              "-213.0"
            ]
          },
          "metadata": {},
          "execution_count": 24
        }
      ]
    },
    {
      "cell_type": "code",
      "source": [
        "node_color = [\"lightblue\" for i in range(G.number_of_nodes())]\n",
        "for x, val in response.first.sample.items():\n",
        "  if val == 1:\n",
        "    node_color[int(x[2:-1])] = \"yellow\""
      ],
      "metadata": {
        "id": "ovxDL6yflaE5"
      },
      "execution_count": 25,
      "outputs": []
    },
    {
      "cell_type": "code",
      "source": [
        "nx.draw(G, pos=nx.spring_layout(G, seed=2023), node_color=node_color, with_labels=True)"
      ],
      "metadata": {
        "colab": {
          "base_uri": "https://localhost:8080/",
          "height": 319
        },
        "id": "7cYOndCumFKp",
        "outputId": "8f75f322-6662-4de0-f486-b5d6d38a5211"
      },
      "execution_count": 26,
      "outputs": [
        {
          "output_type": "display_data",
          "data": {
            "text/plain": [
              "<Figure size 432x288 with 1 Axes>"
            ],
            "image/png": "[encoded data removed]"
          },
          "metadata": {}
        }
      ]
    },
    {
      "cell_type": "markdown",
      "source": [
        "Notice that simulated annealing found a better solution. Time to "
      ],
      "metadata": {
        "id": "WcqSXvQKmxlX"
      }
    },
    {
      "cell_type": "code",
      "source": [
        "def solve_with_gnn(G, embedding_size, hidden_size, learning_rate, epochs, dropout_rate, seed=2023, verbose=False):\n",
        "  A = jnp.array(nx.to_numpy_array(G))\n",
        "  Q = create_Q_matrix(G)\n",
        "\n",
        "  rng = jax.random.PRNGKey(seed)\n",
        "  rng, init_rng = jax.random.split(rng)\n",
        "  rng, embed_rng = jax.random.split(rng)\n",
        "  state = create_train_state(G.number_of_nodes(), embedding_size, hidden_size, init_rng, learning_rate, dropout_frac=0.01)\n",
        "  node_embeddings = jax.random.uniform(embed_rng, [G.number_of_nodes(), embedding_d0])\n",
        "\n",
        "  for epoch in trange(1, epochs + 1, disable=not verbose):\n",
        "    rng, dropout_rng = jax.random.split(rng)\n",
        "    state, metrics = train_step(state=state, node_embeddings=node_embeddings, adj_matrix=A, q_matrix=Q, dropout_rng=dropout_rng)\n",
        "\n",
        "    if epoch % 25 == 0 and verbose:\n",
        "      print('train epoch: %d, cost: %.2f' % (epoch, metrics[\"energy\"]))\n",
        "    \n",
        "  classification = np.array(get_classification(state.apply_fn, state.params, node_embeddings, A))\n",
        "  probs = state.apply_fn({\"params\": state.params}, node_embeddings, A)\n",
        "  solution = {f\"X[{i}]\": classification[i] for i in range(G.number_of_nodes())}\n",
        "  last_energy = metrics[\"energy\"]\n",
        "\n",
        "  return {\n",
        "      \"classification\": classification,\n",
        "      \"probs\": probs,\n",
        "      \"energy\": last_energy,\n",
        "      \"solution\": solution\n",
        "  }"
      ],
      "metadata": {
        "id": "fd-sDgYanO5X"
      },
      "execution_count": 27,
      "outputs": []
    },
    {
      "cell_type": "code",
      "source": [
        "def solve_with_annealing(G, num_reads):\n",
        "  sampler = oj.SASampler()\n",
        "\n",
        "  model = create_max_cut_model(G)\n",
        "  qubo_dict, offset = model.to_qubo()\n",
        "\n",
        "  response = sampler.sample_qubo(qubo_dict, num_reads=num_reads)\n",
        "\n",
        "  return {\n",
        "      \"sample\": response.first.sample,\n",
        "      \"energy\": response.first.energy,\n",
        "      \"model\": model\n",
        "  }"
      ],
      "metadata": {
        "id": "v5nZCNBorwUK"
      },
      "execution_count": 28,
      "outputs": []
    },
    {
      "cell_type": "markdown",
      "source": [
        "\n",
        "Results for d = 3 regular graphs\n"
      ],
      "metadata": {
        "id": "Ysm-PjwQFSXL"
      }
    },
    {
      "cell_type": "code",
      "source": [
        "d3_graphs = {\n",
        "    i: nx.convert_node_labels_to_integers(nx.random_regular_graph(d=3, n=i, seed=2023)) for i in range(100, 2100, 100)\n",
        "}"
      ],
      "metadata": {
        "id": "SpLuMFIqXU-m"
      },
      "execution_count": 29,
      "outputs": []
    },
    {
      "cell_type": "code",
      "source": [
        "gnn_results = []\n",
        "sa_results = []"
      ],
      "metadata": {
        "id": "Aidsn1gfF2L6"
      },
      "execution_count": 30,
      "outputs": []
    },
    {
      "cell_type": "code",
      "source": [
        "for i, G in tqdm(d3_graphs.items()):\n",
        "  \n",
        "  annealing_sol = solve_with_annealing(G, num_reads=2000)\n",
        "  model = annealing_sol[\"model\"]\n",
        "  sa_results.append(-annealing_sol[\"energy\"])\n",
        "\n",
        "  print(f\"N = {i}, Anneling found {sa_results[-1]}\")\n",
        "\n",
        "  embedding_d0 = int(np.sqrt(i))\n",
        "  embedding_d1 = embedding_d0//2\n",
        "  learning_rate = 0.005\n",
        "  epochs = 10000\n",
        "  if i < 1400:\n",
        "    dropout_rate = 0.01\n",
        "  else:\n",
        "    dropout_rate = 0.05\n",
        "  gnn_sol = solve_with_gnn(G, embedding_d0, embedding_d1, learning_rate, epochs, dropout_rate, seed=2023, verbose=False)\n",
        "\n",
        "\n",
        "  gnn_results.append(\n",
        "      -model.decode_sample(gnn_sol[\"solution\"], vartype=\"BINARY\").energy\n",
        "  )\n",
        "  print(f\"N = {i}, Graph Neural Networks found {gnn_results[-1]}\")"
      ],
      "metadata": {
        "colab": {
          "base_uri": "https://localhost:8080/",
          "height": 743,
          "referenced_widgets": [
            "3669cfb281554c939cc48f7d05f14dd7",
            "df0e077a326f4281b0405d603db25cf5",
            "7472ba66d4a349db80f867bb4db24bb1",
            "df217d9180e6428498cc6aad98d2bf00",
            "a5af1d61f1b241e18d48d65f4db9dd22",
            "c52ca32ac89142f59c0839a529ac3d4e",
            "a8edf159d61449cd881ed314b369f0a5",
            "c64e5e43f6ba418d966c7b997ab6d9f6",
            "07d45a2da7b241dfaa7d37e7cfc61314",
            "df99a82aafeb4f9c9bd456f23e841691",
            "33348f3fbe92429a88a3eb3962bf8f26"
          ]
        },
        "id": "7OgAB4v1F6fQ",
        "outputId": "d93196af-b035-48d8-d86f-28a6b75ba317"
      },
      "execution_count": 32,
      "outputs": [
        {
          "output_type": "display_data",
          "data": {
            "text/plain": [
              "  0%|          | 0/20 [00:00<?, ?it/s]"
            ],
            "application/vnd.jupyter.widget-view+json": {
              "version_major": 2,
              "version_minor": 0,
              "model_id": "3669cfb281554c939cc48f7d05f14dd7"
            }
          },
          "metadata": {}
        },
        {
          "output_type": "stream",
          "name": "stdout",
          "text": [
            "N = 100, Anneling found 138.0\n",
            "N = 100, Graph Neural Networks found 125.0\n",
            "N = 200, Anneling found 275.0\n",
            "N = 200, Graph Neural Networks found 243.0\n",
            "N = 300, Anneling found 413.0\n",
            "N = 300, Graph Neural Networks found 367.0\n",
            "N = 400, Anneling found 551.0\n",
            "N = 400, Graph Neural Networks found 500.0\n",
            "N = 500, Anneling found 689.0\n",
            "N = 500, Graph Neural Networks found 618.0\n",
            "N = 600, Anneling found 828.0\n",
            "N = 600, Graph Neural Networks found 710.0\n",
            "N = 700, Anneling found 965.0\n",
            "N = 700, Graph Neural Networks found 855.0\n",
            "N = 800, Anneling found 1103.0\n",
            "N = 800, Graph Neural Networks found 974.0\n",
            "N = 900, Anneling found 1242.0\n",
            "N = 900, Graph Neural Networks found 1075.0\n",
            "N = 1000, Anneling found 1380.0\n",
            "N = 1000, Graph Neural Networks found 1204.0\n",
            "N = 1100, Anneling found 1518.0\n",
            "N = 1100, Graph Neural Networks found 1318.0\n",
            "N = 1200, Anneling found 1656.0\n",
            "N = 1200, Graph Neural Networks found -0.0\n",
            "N = 1300, Anneling found 1792.0\n",
            "N = 1300, Graph Neural Networks found 1572.0\n",
            "N = 1400, Anneling found 1935.0\n",
            "N = 1400, Graph Neural Networks found -0.0\n",
            "N = 1500, Anneling found 2071.0\n",
            "N = 1500, Graph Neural Networks found -0.0\n",
            "N = 1600, Anneling found 2212.0\n",
            "N = 1600, Graph Neural Networks found 1934.0\n",
            "N = 1700, Anneling found 2346.0\n",
            "N = 1700, Graph Neural Networks found -0.0\n",
            "N = 1800, Anneling found 2487.0\n",
            "N = 1800, Graph Neural Networks found 2137.0\n",
            "N = 1900, Anneling found 2622.0\n",
            "N = 1900, Graph Neural Networks found -0.0\n",
            "N = 2000, Anneling found 2759.0\n",
            "N = 2000, Graph Neural Networks found -0.0\n"
          ]
        }
      ]
    },
    {
      "cell_type": "code",
      "source": [
        "import seaborn as sns\n",
        "sns.set_theme()"
      ],
      "metadata": {
        "id": "XLijWIp4Jjh2"
      },
      "execution_count": 36,
      "outputs": []
    },
    {
      "cell_type": "code",
      "source": [
        "sns.scatterplot(x = list(range(100, 2100, 100)), y=sa_results)"
      ],
      "metadata": {
        "colab": {
          "base_uri": "https://localhost:8080/",
          "height": 285
        },
        "id": "VWX99aVdSkdl",
        "outputId": "043fa0ca-2b6b-4630-cdd5-77862c781711"
      },
      "execution_count": 37,
      "outputs": [
        {
          "output_type": "execute_result",
          "data": {
            "text/plain": [
              "<matplotlib.axes._subplots.AxesSubplot at 0x7f29de886220>"
            ]
          },
          "metadata": {},
          "execution_count": 37
        },
        {
          "output_type": "display_data",
          "data": {
            "text/plain": [
              "<Figure size 432x288 with 1 Axes>"
            ],
            "image/png": "[encoded data removed]"
          },
          "metadata": {}
        }
      ]
    },
    {
      "cell_type": "code",
      "source": [
        "sns.scatterplot(x = list(range(100, 2100, 100)), y=gnn_results)"
      ],
      "metadata": {
        "colab": {
          "base_uri": "https://localhost:8080/",
          "height": 285
        },
        "id": "CzKI42kUTVTk",
        "outputId": "0bc704a7-ae45-4ed9-d545-e280404220dc"
      },
      "execution_count": 38,
      "outputs": [
        {
          "output_type": "execute_result",
          "data": {
            "text/plain": [
              "<matplotlib.axes._subplots.AxesSubplot at 0x7f29dc942ac0>"
            ]
          },
          "metadata": {},
          "execution_count": 38
        },
        {
          "output_type": "display_data",
          "data": {
            "text/plain": [
              "<Figure size 432x288 with 1 Axes>"
            ],
            "image/png": "[encoded data removed]"
          },
          "metadata": {}
        }
      ]
    },
    {
      "cell_type": "markdown",
      "source": [
        "Now for d=5"
      ],
      "metadata": {
        "id": "7qExv6WIT5HV"
      }
    },
    {
      "cell_type": "code",
      "source": [
        "d5_graphs = {\n",
        "    i: nx.convert_node_labels_to_integers(nx.random_regular_graph(d=5, n=i, seed=2023)) for i in range(100, 2100, 100)\n",
        "}"
      ],
      "metadata": {
        "id": "OwEdyz3rTsCM"
      },
      "execution_count": 39,
      "outputs": []
    },
    {
      "cell_type": "code",
      "source": [
        "for i, G in tqdm(d5_graphs.items()):\n",
        "  \n",
        "  annealing_sol = solve_with_annealing(G, num_reads=2000)\n",
        "  model = annealing_sol[\"model\"]\n",
        "  sa_results.append(-annealing_sol[\"energy\"])\n",
        "\n",
        "  print(f\"N = {i}, Anneling found {sa_results[-1]}\")\n",
        "\n",
        "  embedding_d0 = int(np.sqrt(i))\n",
        "  embedding_d1 = embedding_d0//2\n",
        "  learning_rate = 0.005\n",
        "  epochs = 10000\n",
        "  if i < 1400:\n",
        "    dropout_rate = 0.01\n",
        "  else:\n",
        "    dropout_rate = 0.05\n",
        "  gnn_sol = solve_with_gnn(G, embedding_d0, embedding_d1, learning_rate, epochs, dropout_rate, seed=2023, verbose=False)\n",
        "\n",
        "\n",
        "  gnn_results.append(\n",
        "      -model.decode_sample(gnn_sol[\"solution\"], vartype=\"BINARY\").energy\n",
        "  )\n",
        "  print(f\"N = {i}, Graph Neural Networks found {gnn_results[-1]}\")"
      ],
      "metadata": {
        "colab": {
          "base_uri": "https://localhost:8080/",
          "height": 743,
          "referenced_widgets": [
            "17c5c4d7bc6c4586ae6789a6808c9fac",
            "6d1c7d2e3a124c6e8e91e6837c7b815b",
            "555a29c24c774c2ebe8cf5ca7f2dcfe4",
            "00335ff98a4441ca9fc7f9c6559a51f3",
            "742778d5fb304399a791cc42eb3bd99c",
            "c69303f782294dd19f61c77561b3c705",
            "fa917d97963649e196daa72c87da8603",
            "7d0d91de88eb426fb936514ed58eb7b3",
            "b92db35787b04960b11edd992bf6675a",
            "c3f64bd2cef94fada7cac9a090e52ce3",
            "b392de1dd6494f47a008b34f4fbb2f93"
          ]
        },
        "id": "fTZ1iNuLT8C-",
        "outputId": "4cf604fc-6330-46a6-966c-541a111f4197"
      },
      "execution_count": 40,
      "outputs": [
        {
          "output_type": "display_data",
          "data": {
            "text/plain": [
              "  0%|          | 0/20 [00:00<?, ?it/s]"
            ],
            "application/vnd.jupyter.widget-view+json": {
              "version_major": 2,
              "version_minor": 0,
              "model_id": "17c5c4d7bc6c4586ae6789a6808c9fac"
            }
          },
          "metadata": {}
        },
        {
          "output_type": "stream",
          "name": "stdout",
          "text": [
            "N = 100, Anneling found 205.0\n",
            "N = 100, Graph Neural Networks found 183.0\n",
            "N = 200, Anneling found 411.0\n",
            "N = 200, Graph Neural Networks found 368.0\n",
            "N = 300, Anneling found 623.0\n",
            "N = 300, Graph Neural Networks found 545.0\n",
            "N = 400, Anneling found 829.0\n",
            "N = 400, Graph Neural Networks found 730.0\n",
            "N = 500, Anneling found 1039.0\n",
            "N = 500, Graph Neural Networks found 919.0\n",
            "N = 600, Anneling found 1244.0\n",
            "N = 600, Graph Neural Networks found -0.0\n",
            "N = 700, Anneling found 1455.0\n",
            "N = 700, Graph Neural Networks found 1279.0\n",
            "N = 800, Anneling found 1661.0\n",
            "N = 800, Graph Neural Networks found 1486.0\n",
            "N = 900, Anneling found 1871.0\n",
            "N = 900, Graph Neural Networks found 1691.0\n",
            "N = 1000, Anneling found 2080.0\n",
            "N = 1000, Graph Neural Networks found 1836.0\n",
            "N = 1100, Anneling found 2285.0\n",
            "N = 1100, Graph Neural Networks found 2025.0\n",
            "N = 1200, Anneling found 2492.0\n",
            "N = 1200, Graph Neural Networks found -0.0\n",
            "N = 1300, Anneling found 2709.0\n",
            "N = 1300, Graph Neural Networks found 2419.0\n",
            "N = 1400, Anneling found 2915.0\n",
            "N = 1400, Graph Neural Networks found 2565.0\n",
            "N = 1500, Anneling found 3126.0\n",
            "N = 1500, Graph Neural Networks found 2739.0\n",
            "N = 1600, Anneling found 3326.0\n",
            "N = 1600, Graph Neural Networks found 2929.0\n",
            "N = 1700, Anneling found 3535.0\n",
            "N = 1700, Graph Neural Networks found -0.0\n",
            "N = 1800, Anneling found 3746.0\n",
            "N = 1800, Graph Neural Networks found -0.0\n",
            "N = 1900, Anneling found 3956.0\n",
            "N = 1900, Graph Neural Networks found -0.0\n",
            "N = 2000, Anneling found 4169.0\n",
            "N = 2000, Graph Neural Networks found -0.0\n"
          ]
        }
      ]
    },
    {
      "cell_type": "code",
      "source": [],
      "metadata": {
        "id": "rwltZvn3UFyB"
      },
      "execution_count": null,
      "outputs": []
    }
  ]
}